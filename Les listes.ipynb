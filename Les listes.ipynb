{
 "cells": [
  {
   "cell_type": "markdown",
   "metadata": {
    "colab_type": "text",
    "id": "HDiuAMWgdGEl"
   },
   "source": [
    "Une liste est un objet permettant de stocker et de structurer plusieurs objets de mêmes ou de différents types; des nombres, des chaînes de caractères, des booléens, ... et d’autres listes.\n",
    "\n",
    "# Création d'une liste"
   ]
  },
  {
   "cell_type": "code",
   "execution_count": 1,
   "metadata": {},
   "outputs": [],
   "source": [
    "# Liste vide\n",
    "ma_liste = []\n",
    "\n",
    "# Listes avec des éléments de même type\n",
    "nombres = [0, 1, 2, 3, 4, 5, 6, 7]\n",
    "courses = ['farine de blé', 'lait', 'thé', 'pâtes', 'fruits']\n",
    "\n",
    "\n",
    "import math\n",
    "# Liste avec des types variés\n",
    "ma_liste = ['cercle', 7, math.pi, True]"
   ]
  },
  {
   "cell_type": "code",
   "execution_count": 2,
   "metadata": {},
   "outputs": [
    {
     "data": {
      "text/plain": [
       "list"
      ]
     },
     "execution_count": 2,
     "metadata": {},
     "output_type": "execute_result"
    }
   ],
   "source": [
    "type(courses)"
   ]
  },
  {
   "cell_type": "markdown",
   "metadata": {},
   "source": [
    "# Accéder aux éléments d'une liste"
   ]
  },
  {
   "cell_type": "code",
   "execution_count": 3,
   "metadata": {},
   "outputs": [
    {
     "name": "stdout",
     "output_type": "stream",
     "text": [
      "Le premier élément de la liste : farine de blé\n",
      "Le deuxième élément de la liste : lait\n"
     ]
    }
   ],
   "source": [
    "#Par index positif (les index commencent à 0)\n",
    "\n",
    "print(\"Le premier élément de la liste :\" , courses[0])\n",
    "print(\"Le deuxième élément de la liste :\" , courses[1])  "
   ]
  },
  {
   "cell_type": "code",
   "execution_count": 4,
   "metadata": {},
   "outputs": [
    {
     "name": "stdout",
     "output_type": "stream",
     "text": [
      "Le dernier élément de la liste : fruits\n",
      "L'avant dernier : pâtes\n"
     ]
    }
   ],
   "source": [
    "#Par index négatif pour accéder aux éléments à partir de la fin\n",
    "\n",
    "print(\"Le dernier élément de la liste :\", courses[-1])  \n",
    "print(\"L'avant dernier :\", courses[-2])  "
   ]
  },
  {
   "cell_type": "markdown",
   "metadata": {},
   "source": [
    "# Opérations sur les listes"
   ]
  },
  {
   "cell_type": "code",
   "execution_count": 5,
   "metadata": {
    "colab": {
     "base_uri": "https://localhost:8080/",
     "height": 35
    },
    "colab_type": "code",
    "id": "kMAwIxOpeumr",
    "outputId": "49c5c01f-947f-47fe-eff9-588a1c97e20f"
   },
   "outputs": [
    {
     "data": {
      "text/plain": [
       "[1, 2, 3, 4, 5, 6]"
      ]
     },
     "execution_count": 5,
     "metadata": {},
     "output_type": "execute_result"
    }
   ],
   "source": [
    "liste1 = [1, 2, 3]\n",
    "liste2 = [4, 5, 6]\n",
    "\n",
    "# Concaténer des listes en utilisant l'opérateur +\n",
    "liste = liste1 + liste2\n",
    "liste"
   ]
  },
  {
   "cell_type": "code",
   "execution_count": 6,
   "metadata": {},
   "outputs": [
    {
     "data": {
      "text/plain": [
       "[1, 2, 3, 4, 5, 6, 1, 2, 3, 4, 5, 6, 1, 2, 3, 4, 5, 6]"
      ]
     },
     "execution_count": 6,
     "metadata": {},
     "output_type": "execute_result"
    }
   ],
   "source": [
    "# Répéter une liste en utilisant l'opérateur *\n",
    "3*liste"
   ]
  },
  {
   "cell_type": "code",
   "execution_count": 7,
   "metadata": {},
   "outputs": [
    {
     "data": {
      "text/plain": [
       "True"
      ]
     },
     "execution_count": 7,
     "metadata": {},
     "output_type": "execute_result"
    }
   ],
   "source": [
    "# Tester l'appartenance avec l'opérateur in\n",
    "'fruits' in courses"
   ]
  },
  {
   "cell_type": "code",
   "execution_count": 8,
   "metadata": {},
   "outputs": [
    {
     "data": {
      "text/plain": [
       "['farine de blé', 'lait', 'thé', 'salade', 'fruits']"
      ]
     },
     "execution_count": 8,
     "metadata": {},
     "output_type": "execute_result"
    }
   ],
   "source": [
    "# Modifier un élément à partir de son index\n",
    "courses[3]='salade'\n",
    "courses"
   ]
  },
  {
   "cell_type": "markdown",
   "metadata": {},
   "source": [
    "# Quelques fonctions natives :\n",
    "\n",
    "- ***len(liste)*** : Renvoie la longueur (nombre d'éléments) de la liste.\n",
    "- ***max(liste)*** : Renvoie le plus grand élément de la liste\n",
    "- ***min(liste)*** : Renvoie le plus petit élément de la liste."
   ]
  },
  {
   "cell_type": "code",
   "execution_count": 9,
   "metadata": {},
   "outputs": [
    {
     "data": {
      "text/plain": [
       "5"
      ]
     },
     "execution_count": 9,
     "metadata": {},
     "output_type": "execute_result"
    }
   ],
   "source": [
    "len(courses)"
   ]
  },
  {
   "cell_type": "code",
   "execution_count": 10,
   "metadata": {},
   "outputs": [
    {
     "data": {
      "text/plain": [
       "'thé'"
      ]
     },
     "execution_count": 10,
     "metadata": {},
     "output_type": "execute_result"
    }
   ],
   "source": [
    "max(courses) #selon l'ordre alphabétique "
   ]
  },
  {
   "cell_type": "code",
   "execution_count": 11,
   "metadata": {},
   "outputs": [
    {
     "data": {
      "text/plain": [
       "0"
      ]
     },
     "execution_count": 11,
     "metadata": {},
     "output_type": "execute_result"
    }
   ],
   "source": [
    "min(nombres)"
   ]
  },
  {
   "cell_type": "markdown",
   "metadata": {},
   "source": [
    "# Parcourir une liste"
   ]
  },
  {
   "cell_type": "code",
   "execution_count": 12,
   "metadata": {},
   "outputs": [
    {
     "name": "stdout",
     "output_type": "stream",
     "text": [
      "farine de blé\n",
      "lait\n",
      "thé\n",
      "salade\n",
      "fruits\n"
     ]
    }
   ],
   "source": [
    "# Parcours par valeur\n",
    "for x in courses:\n",
    "    print(x)"
   ]
  },
  {
   "cell_type": "code",
   "execution_count": 13,
   "metadata": {},
   "outputs": [
    {
     "name": "stdout",
     "output_type": "stream",
     "text": [
      "farine de blé\n",
      "lait\n",
      "thé\n",
      "salade\n",
      "fruits\n"
     ]
    }
   ],
   "source": [
    "# Parcours par index\n",
    "for i in range(len(courses)):\n",
    "    print(courses[i])"
   ]
  },
  {
   "cell_type": "code",
   "execution_count": 14,
   "metadata": {},
   "outputs": [
    {
     "name": "stdout",
     "output_type": "stream",
     "text": [
      "0 : farine de blé\n",
      "1 : lait\n",
      "2 : thé\n",
      "3 : salade\n",
      "4 : fruits\n"
     ]
    }
   ],
   "source": [
    "# Par les deux en même temps\n",
    "for i, x in enumerate(courses):\n",
    "    print(i, \":\", x)"
   ]
  },
  {
   "cell_type": "markdown",
   "metadata": {},
   "source": [
    "# Quelques méthodes applicables aux listes :\n",
    "    \n",
    "- ***liste.append(x)*** : Ajouter x à la fin de la liste\n",
    "- ***liste1.extend(liste2)*** : Ajouter les éléments de la liste2 à la fin de la liste1\n",
    "- ***liste.insert(i, x)*** : Insère un élément x à la position i\n",
    "- ***liste.remove(x)*** : Supprime de la liste le premier élément dont la valeur est égale à x.\n",
    "- ***list.index(x)*** : Renvoie la position du premier élément de la liste dont la valeur égale x (en commençant à compter les positions à partir de zéro).\n",
    "- ***liste.pop(i)*** : Retire et renvoie l'élément d'indice i et liste.pop() retire et renvoie le dernier élément \n",
    "- ***list.count(x)*** : Renvoie le nombre d'éléments ayant la valeur x dans la liste.\n",
    "- ***list.reverse()*** : Inverse l'ordre des éléments dans la liste.\n",
    "- ***list.sort()*** : Trie la liste sur place.\n"
   ]
  },
  {
   "cell_type": "code",
   "execution_count": 15,
   "metadata": {},
   "outputs": [
    {
     "data": {
      "text/plain": [
       "['farine de blé', 'lait', 'thé', 'pâtes', 'salade', 'fruits', 'pâtes']"
      ]
     },
     "execution_count": 15,
     "metadata": {},
     "output_type": "execute_result"
    }
   ],
   "source": [
    "courses = ['farine de blé', 'lait', 'thé', 'pâtes', 'salade', 'fruits']\n",
    "# Ajouter un élément à la fin de la liste\n",
    "courses.append('pâtes')\n",
    "courses"
   ]
  },
  {
   "cell_type": "code",
   "execution_count": 16,
   "metadata": {},
   "outputs": [
    {
     "data": {
      "text/plain": [
       "['farine de blé',\n",
       " 'lait',\n",
       " 'thé',\n",
       " 'pâtes',\n",
       " 'salade',\n",
       " 'fruits',\n",
       " 'pâtes',\n",
       " 'chocolat',\n",
       " 'biscuits']"
      ]
     },
     "execution_count": 16,
     "metadata": {},
     "output_type": "execute_result"
    }
   ],
   "source": [
    "#  Ajouter les éléments d'une autre liste à la fin de la liste\n",
    "courses.extend(['chocolat', 'biscuits'])\n",
    "courses"
   ]
  },
  {
   "cell_type": "code",
   "execution_count": 17,
   "metadata": {},
   "outputs": [
    {
     "data": {
      "text/plain": [
       "['farine de blé',\n",
       " 'lait',\n",
       " 'dattes',\n",
       " 'thé',\n",
       " 'pâtes',\n",
       " 'salade',\n",
       " 'fruits',\n",
       " 'pâtes',\n",
       " 'chocolat',\n",
       " 'biscuits']"
      ]
     },
     "execution_count": 17,
     "metadata": {},
     "output_type": "execute_result"
    }
   ],
   "source": [
    "# Insérer à un index spécifique\n",
    "courses.insert(2, 'dattes')\n",
    "courses"
   ]
  },
  {
   "cell_type": "code",
   "execution_count": 18,
   "metadata": {},
   "outputs": [
    {
     "data": {
      "text/plain": [
       "['farine de blé',\n",
       " 'lait',\n",
       " 'dattes',\n",
       " 'thé',\n",
       " 'salade',\n",
       " 'fruits',\n",
       " 'pâtes',\n",
       " 'chocolat',\n",
       " 'biscuits']"
      ]
     },
     "execution_count": 18,
     "metadata": {},
     "output_type": "execute_result"
    }
   ],
   "source": [
    "# Supprimer la première occurrence d'un élément par sa valeur\n",
    "courses.remove('pâtes') \n",
    "courses"
   ]
  },
  {
   "cell_type": "code",
   "execution_count": 19,
   "metadata": {},
   "outputs": [
    {
     "name": "stdout",
     "output_type": "stream",
     "text": [
      "lait\n"
     ]
    }
   ],
   "source": [
    "# Trouvez l'index de la première occurrence d'une valeur dans une liste\n",
    "i = courses.index('lait')\n",
    "\n",
    "# Retirer et obtenir un élément de la liste par son index\n",
    "x = courses.pop(i)\n",
    "print(x)"
   ]
  },
  {
   "cell_type": "code",
   "execution_count": 20,
   "metadata": {},
   "outputs": [
    {
     "data": {
      "text/plain": [
       "['biscuits',\n",
       " 'chocolat',\n",
       " 'pâtes',\n",
       " 'fruits',\n",
       " 'salade',\n",
       " 'thé',\n",
       " 'dattes',\n",
       " 'farine de blé']"
      ]
     },
     "execution_count": 20,
     "metadata": {},
     "output_type": "execute_result"
    }
   ],
   "source": [
    "# Inverser l'ordre des éléments \n",
    "courses.reverse()\n",
    "courses"
   ]
  },
  {
   "cell_type": "code",
   "execution_count": 21,
   "metadata": {},
   "outputs": [
    {
     "data": {
      "text/plain": [
       "['biscuits',\n",
       " 'chocolat',\n",
       " 'dattes',\n",
       " 'farine de blé',\n",
       " 'fruits',\n",
       " 'pâtes',\n",
       " 'salade',\n",
       " 'thé']"
      ]
     },
     "execution_count": 21,
     "metadata": {},
     "output_type": "execute_result"
    }
   ],
   "source": [
    "# Trier la liste par ordre alphabétique\n",
    "courses.sort()\n",
    "courses"
   ]
  },
  {
   "cell_type": "markdown",
   "metadata": {},
   "source": [
    "# Tranchage (Slicing)\n",
    "\n",
    "Pour obtenir une tranche d’indice entre $d\\acute{e}but$ (inclus) et $fin$ (exclus) avec un $pas$, on utilise $liste[d\\acute{e}but : fin : pas]$. La liste obtenue est composée de $liste[d\\acute{e}but]$, $liste[d\\acute{e}but+ 1 \\times pas]$, $liste[d\\acute{e}but + 2 \\times pas]$, ... et $liste[d\\acute{e}but + nombre \\times pas]$, tel que $d\\acute{e}but + nombre \\times pas$ tend vers $fin$ sinon on obtient une liste vide [ ]."
   ]
  },
  {
   "cell_type": "code",
   "execution_count": 22,
   "metadata": {},
   "outputs": [
    {
     "data": {
      "text/plain": [
       "[1, 2, 3, 4, 5, 6]"
      ]
     },
     "execution_count": 22,
     "metadata": {},
     "output_type": "execute_result"
    }
   ],
   "source": [
    "liste = [0, 1, 2, 3, 4, 5, 6, 7, 8, 9]\n",
    "\n",
    "liste[1:7:1]"
   ]
  },
  {
   "cell_type": "code",
   "execution_count": 23,
   "metadata": {},
   "outputs": [
    {
     "data": {
      "text/plain": [
       "[0, 1, 2, 3, 4, 5, 6, 7, 8, 9]"
      ]
     },
     "execution_count": 23,
     "metadata": {},
     "output_type": "execute_result"
    }
   ],
   "source": [
    "liste[::] # les valeurs par défaut pour le début, la fin et le pas sont respectivement 0, la longueur de la liste et 1"
   ]
  },
  {
   "cell_type": "code",
   "execution_count": 24,
   "metadata": {},
   "outputs": [
    {
     "data": {
      "text/plain": [
       "[0, 2, 4, 6, 8]"
      ]
     },
     "execution_count": 24,
     "metadata": {},
     "output_type": "execute_result"
    }
   ],
   "source": [
    "liste[::2] # les valeurs par défaut pour le début et la fin si le pas est positif sont respectivement 0 et la longueur de la liste"
   ]
  },
  {
   "cell_type": "code",
   "execution_count": 25,
   "metadata": {},
   "outputs": [
    {
     "data": {
      "text/plain": [
       "[9, 7, 5, 3, 1]"
      ]
     },
     "execution_count": 25,
     "metadata": {},
     "output_type": "execute_result"
    }
   ],
   "source": [
    "liste[::-2] # les valeurs par défaut pour le début et la fin si le pas est négatif sont respectivement la longueur de la liste et 0"
   ]
  },
  {
   "cell_type": "code",
   "execution_count": 26,
   "metadata": {},
   "outputs": [
    {
     "data": {
      "text/plain": [
       "[]"
      ]
     },
     "execution_count": 26,
     "metadata": {},
     "output_type": "execute_result"
    }
   ],
   "source": [
    "liste[0:6:-1]"
   ]
  },
  {
   "cell_type": "markdown",
   "metadata": {},
   "source": [
    "# Listes en compréhension\n",
    "Les listes en compréhension fournissent un moyen de construire des listes de manière concise et élégante. Elles permettent d'écrire des boucles, des conditions, et des opérations sur les éléments d'une liste en une seule ligne de code.\n",
    "\n",
    "## Syntaxe de base\n",
    "\n",
    "liste = [***expression*** for ***élément*** in ***itérable*** if ***condition***]\n",
    "\n",
    "Une expression sera ajoutée à la nouvelle liste pour chaque élément dans l'itérable avec une condition à vérifier.\n",
    "\n",
    "## Exemples"
   ]
  },
  {
   "cell_type": "code",
   "execution_count": 27,
   "metadata": {},
   "outputs": [
    {
     "data": {
      "text/plain": [
       "[2, 3, 4, 5]"
      ]
     },
     "execution_count": 27,
     "metadata": {},
     "output_type": "execute_result"
    }
   ],
   "source": [
    "#Créer une liste à partir d'une autre\n",
    "\n",
    "# Ajouter 1 à chaque élément\n",
    "ancienne_liste = [1, 2, 3, 4]\n",
    "nouvelle_liste = [x+1 for x in ancienne_liste]\n",
    "\n",
    "nouvelle_liste  "
   ]
  },
  {
   "cell_type": "code",
   "execution_count": 28,
   "metadata": {},
   "outputs": [
    {
     "data": {
      "text/plain": [
       "[0, 1, 4, 9, 16, 25, 36, 49, 64, 81, 100]"
      ]
     },
     "execution_count": 28,
     "metadata": {},
     "output_type": "execute_result"
    }
   ],
   "source": [
    "#Supposons que l'on veuille créer une liste de carrés des nombres de 0 à 10\n",
    "\n",
    "squares = []\n",
    "for x in range(11):\n",
    "    squares.append(x*x) \n",
    "\n",
    "squares"
   ]
  },
  {
   "cell_type": "code",
   "execution_count": 29,
   "metadata": {},
   "outputs": [
    {
     "data": {
      "text/plain": [
       "[0, 1, 4, 9, 16, 25, 36, 49, 64, 81, 100]"
      ]
     },
     "execution_count": 29,
     "metadata": {},
     "output_type": "execute_result"
    }
   ],
   "source": [
    "#ou, de manière équivalente :\n",
    "\n",
    "squares = [x*x for x in range(11)]\n",
    "\n",
    "#Ce qui est plus court et lisible. \n",
    "squares"
   ]
  },
  {
   "cell_type": "code",
   "execution_count": 30,
   "metadata": {},
   "outputs": [
    {
     "data": {
      "text/plain": [
       "[0, 4, 16, 36, 64, 100]"
      ]
     },
     "execution_count": 30,
     "metadata": {},
     "output_type": "execute_result"
    }
   ],
   "source": [
    "#Ajout de conditions\n",
    "\n",
    "#Seules les valeurs paires\n",
    "squares_pairs = [x*x for x in range(11) if x%2 == 0]\n",
    "squares_pairs"
   ]
  }
 ],
 "metadata": {
  "colab": {
   "collapsed_sections": [],
   "name": "7_Programmation_Python_Partie_3.ipynb",
   "provenance": []
  },
  "kernelspec": {
   "display_name": "Python 3 (ipykernel)",
   "language": "python",
   "name": "python3"
  },
  "language_info": {
   "codemirror_mode": {
    "name": "ipython",
    "version": 3
   },
   "file_extension": ".py",
   "mimetype": "text/x-python",
   "name": "python",
   "nbconvert_exporter": "python",
   "pygments_lexer": "ipython3",
   "version": "3.11.7"
  }
 },
 "nbformat": 4,
 "nbformat_minor": 4
}
