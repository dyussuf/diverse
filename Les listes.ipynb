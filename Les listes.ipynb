{
 "cells": [
  {
   "cell_type": "markdown",
   "metadata": {
    "colab_type": "text",
    "id": "HDiuAMWgdGEl"
   },
   "source": [
    "Une liste est un objet permettant de stocker et de structurer plusieurs objets de mêmes ou de différents types; des nombres, des chaînes de caractères, des booléens, ... et d’autres listes.\n",
    "\n",
    "# Création d'une liste"
   ]
  },
  {
   "cell_type": "code",
   "execution_count": 33,
   "metadata": {},
   "outputs": [],
   "source": [
    "# Liste vide\n",
    "ma_liste = []\n",
    "\n",
    "# Listes avec des éléments de même type\n",
    "nombres = [0, 1, 2, 3, 4, 5, 6, 7]\n",
    "courses = ['farine de blé', 'lait', 'thé', 'pâtes', 'fruits']\n",
    "\n",
    "\n",
    "import math\n",
    "# Liste avec des types variés\n",
    "ma_liste = ['cercle', 7, math.pi, True]"
   ]
  },
  {
   "cell_type": "code",
   "execution_count": 2,
   "metadata": {},
   "outputs": [
    {
     "data": {
      "text/plain": [
       "list"
      ]
     },
     "execution_count": 2,
     "metadata": {},
     "output_type": "execute_result"
    }
   ],
   "source": [
    "type(courses)"
   ]
  },
  {
   "cell_type": "markdown",
   "metadata": {},
   "source": [
    "# Accéder aux éléments d'une liste"
   ]
  },
  {
   "cell_type": "code",
   "execution_count": 34,
   "metadata": {},
   "outputs": [
    {
     "name": "stdout",
     "output_type": "stream",
     "text": [
      "Le premier élément de la liste : farine de blé\n",
      "Le deuxième élément de la liste : lait\n"
     ]
    }
   ],
   "source": [
    "#Par index positif (les index commencent à 0)\n",
    "\n",
    "print(\"Le premier élément de la liste :\" , courses[0])\n",
    "print(\"Le deuxième élément de la liste :\" , courses[1])  "
   ]
  },
  {
   "cell_type": "code",
   "execution_count": 35,
   "metadata": {},
   "outputs": [
    {
     "name": "stdout",
     "output_type": "stream",
     "text": [
      "Le dernier élément de la liste : fruits\n",
      "L'avant dernier : pâtes\n"
     ]
    }
   ],
   "source": [
    "#Par index négatif pour accéder aux éléments à partir de la fin\n",
    "\n",
    "print(\"Le dernier élément de la liste :\", courses[-1])  \n",
    "print(\"L'avant dernier :\", courses[-2])  "
   ]
  },
  {
   "cell_type": "markdown",
   "metadata": {},
   "source": [
    "# Opérations sur les listes"
   ]
  },
  {
   "cell_type": "code",
   "execution_count": 6,
   "metadata": {
    "colab": {
     "base_uri": "https://localhost:8080/",
     "height": 35
    },
    "colab_type": "code",
    "id": "kMAwIxOpeumr",
    "outputId": "49c5c01f-947f-47fe-eff9-588a1c97e20f"
   },
   "outputs": [
    {
     "data": {
      "text/plain": [
       "[1, 2, 3, 4, 5, 6]"
      ]
     },
     "execution_count": 6,
     "metadata": {},
     "output_type": "execute_result"
    }
   ],
   "source": [
    "liste1 = [1, 2, 3]\n",
    "liste2 = [4, 5, 6]\n",
    "\n",
    "# Concaténer des listes en utilisant l'opérateur +\n",
    "liste = liste1 + liste2\n",
    "liste"
   ]
  },
  {
   "cell_type": "code",
   "execution_count": 7,
   "metadata": {},
   "outputs": [
    {
     "data": {
      "text/plain": [
       "[1, 2, 3, 4, 5, 6, 1, 2, 3, 4, 5, 6, 1, 2, 3, 4, 5, 6]"
      ]
     },
     "execution_count": 7,
     "metadata": {},
     "output_type": "execute_result"
    }
   ],
   "source": [
    "# Répéter une liste en utilisant l'opérateur *\n",
    "3*liste"
   ]
  },
  {
   "cell_type": "code",
   "execution_count": 94,
   "metadata": {},
   "outputs": [
    {
     "data": {
      "text/plain": [
       "True"
      ]
     },
     "execution_count": 94,
     "metadata": {},
     "output_type": "execute_result"
    }
   ],
   "source": [
    "# Tester l'appartenance avec l'opérateur in\n",
    "'fruits' in courses"
   ]
  },
  {
   "cell_type": "code",
   "execution_count": 36,
   "metadata": {},
   "outputs": [
    {
     "data": {
      "text/plain": [
       "['farine de blé', 'lait', 'thé', 'salade', 'fruits']"
      ]
     },
     "execution_count": 36,
     "metadata": {},
     "output_type": "execute_result"
    }
   ],
   "source": [
    "# Modifier un élément à partir de son index\n",
    "courses[3]='salade'\n",
    "courses"
   ]
  },
  {
   "cell_type": "markdown",
   "metadata": {},
   "source": [
    "# Quelques fonctions natives :\n",
    "\n",
    "- ***len(liste)*** : Renvoie la longueur (nombre d'éléments) de la liste.\n",
    "- ***max(liste)*** : Renvoie le plus grand élément de la liste\n",
    "- ***min(liste)*** : Renvoie le plus petit élément de la liste.\n",
    "- ***list(map(fonction, liste))*** : Renvoie une nouvelle liste appliquant la fonction à chaque élément de la liste originale."
   ]
  },
  {
   "cell_type": "code",
   "execution_count": 37,
   "metadata": {},
   "outputs": [
    {
     "data": {
      "text/plain": [
       "5"
      ]
     },
     "execution_count": 37,
     "metadata": {},
     "output_type": "execute_result"
    }
   ],
   "source": [
    "len(courses)"
   ]
  },
  {
   "cell_type": "code",
   "execution_count": 38,
   "metadata": {},
   "outputs": [
    {
     "data": {
      "text/plain": [
       "'thé'"
      ]
     },
     "execution_count": 38,
     "metadata": {},
     "output_type": "execute_result"
    }
   ],
   "source": [
    "max(courses) #selon l'ordre alphabétique "
   ]
  },
  {
   "cell_type": "code",
   "execution_count": 39,
   "metadata": {},
   "outputs": [
    {
     "data": {
      "text/plain": [
       "0"
      ]
     },
     "execution_count": 39,
     "metadata": {},
     "output_type": "execute_result"
    }
   ],
   "source": [
    "min(nombres)"
   ]
  },
  {
   "cell_type": "markdown",
   "metadata": {},
   "source": [
    "# Parcourir une liste"
   ]
  },
  {
   "cell_type": "code",
   "execution_count": 40,
   "metadata": {},
   "outputs": [
    {
     "name": "stdout",
     "output_type": "stream",
     "text": [
      "farine de blé\n",
      "lait\n",
      "thé\n",
      "salade\n",
      "fruits\n"
     ]
    }
   ],
   "source": [
    "# Parcours par valeur\n",
    "for x in courses:\n",
    "    print(x)"
   ]
  },
  {
   "cell_type": "code",
   "execution_count": 41,
   "metadata": {},
   "outputs": [
    {
     "name": "stdout",
     "output_type": "stream",
     "text": [
      "farine de blé\n",
      "lait\n",
      "thé\n",
      "salade\n",
      "fruits\n"
     ]
    }
   ],
   "source": [
    "# Parcours par index\n",
    "for i in range(len(courses)):\n",
    "    print(courses[i])"
   ]
  },
  {
   "cell_type": "code",
   "execution_count": 42,
   "metadata": {},
   "outputs": [
    {
     "name": "stdout",
     "output_type": "stream",
     "text": [
      "0 : farine de blé\n",
      "1 : lait\n",
      "2 : thé\n",
      "3 : salade\n",
      "4 : fruits\n"
     ]
    }
   ],
   "source": [
    "# Par les deux en même temps\n",
    "for i, x in enumerate(courses):\n",
    "    print(i, \":\", x)"
   ]
  },
  {
   "cell_type": "markdown",
   "metadata": {},
   "source": [
    "# Quelques méthodes applicables aux listes :\n",
    "    \n",
    "- ***liste.append(x)*** : Ajouter x à la fin de la liste\n",
    "- ***liste1.extend(liste2)*** : Ajouter les éléments de la liste2 à la fin de la liste1\n",
    "- ***liste.insert(i, x)*** : Insère un élément x à la position i\n",
    "- ***liste.remove(x)*** : Supprime de la liste le premier élément dont la valeur est égale à x.\n",
    "- ***list.index(x)*** : Renvoie la position du premier élément de la liste dont la valeur égale x (en commençant à compter les positions à partir de zéro).\n",
    "- ***liste.pop(i)*** : Retire et renvoie l'élément d'indice i et liste.pop() retire et renvoie le dernier élément \n",
    "- ***list.count(x)*** : Renvoie le nombre d'éléments ayant la valeur x dans la liste.\n",
    "- ***list.reverse()*** : Inverse l'ordre des éléments dans la liste.\n",
    "- ***list.sort()*** : Trie la liste sur place.\n"
   ]
  },
  {
   "cell_type": "code",
   "execution_count": 96,
   "metadata": {},
   "outputs": [
    {
     "data": {
      "text/plain": [
       "['farine de blé', 'lait', 'thé', 'pâtes', 'salade', 'fruits', 'pâtes']"
      ]
     },
     "execution_count": 96,
     "metadata": {},
     "output_type": "execute_result"
    }
   ],
   "source": [
    "courses = ['farine de blé', 'lait', 'thé', 'pâtes', 'salade', 'fruits']\n",
    "# Ajouter un élément à la fin de la liste\n",
    "courses.append('pâtes')\n",
    "courses"
   ]
  },
  {
   "cell_type": "code",
   "execution_count": 97,
   "metadata": {},
   "outputs": [
    {
     "data": {
      "text/plain": [
       "['farine de blé',\n",
       " 'lait',\n",
       " 'thé',\n",
       " 'pâtes',\n",
       " 'salade',\n",
       " 'fruits',\n",
       " 'pâtes',\n",
       " 'chocolat',\n",
       " 'biscuits']"
      ]
     },
     "execution_count": 97,
     "metadata": {},
     "output_type": "execute_result"
    }
   ],
   "source": [
    "#  Ajouter les éléments d'une autre liste à la fin de la liste\n",
    "courses.extend(['chocolat', 'biscuits'])\n",
    "courses"
   ]
  },
  {
   "cell_type": "code",
   "execution_count": 55,
   "metadata": {},
   "outputs": [
    {
     "data": {
      "text/plain": [
       "['farine de blé',\n",
       " 'lait',\n",
       " 'dattes',\n",
       " 'thé',\n",
       " 'pâtes',\n",
       " 'salade',\n",
       " 'fruits',\n",
       " 'pâtes',\n",
       " 'chocolat',\n",
       " 'biscuits']"
      ]
     },
     "execution_count": 55,
     "metadata": {},
     "output_type": "execute_result"
    }
   ],
   "source": [
    "# Insérer à un index spécifique\n",
    "courses.insert(2, 'dattes')\n",
    "courses"
   ]
  },
  {
   "cell_type": "code",
   "execution_count": 56,
   "metadata": {},
   "outputs": [
    {
     "data": {
      "text/plain": [
       "['farine de blé',\n",
       " 'lait',\n",
       " 'dattes',\n",
       " 'thé',\n",
       " 'salade',\n",
       " 'fruits',\n",
       " 'pâtes',\n",
       " 'chocolat',\n",
       " 'biscuits']"
      ]
     },
     "execution_count": 56,
     "metadata": {},
     "output_type": "execute_result"
    }
   ],
   "source": [
    "# Supprimer la première occurrence d'un élément par sa valeur\n",
    "courses.remove('pâtes') \n",
    "courses"
   ]
  },
  {
   "cell_type": "code",
   "execution_count": 57,
   "metadata": {},
   "outputs": [
    {
     "name": "stdout",
     "output_type": "stream",
     "text": [
      "lait\n"
     ]
    }
   ],
   "source": [
    "# Trouvez l'index de la première occurrence d'une valeur dans une liste\n",
    "i = courses.index('lait')\n",
    "\n",
    "# Retirer et obtenir un élément de la liste par son index\n",
    "x = courses.pop(i)\n",
    "print(x)"
   ]
  },
  {
   "cell_type": "code",
   "execution_count": 60,
   "metadata": {},
   "outputs": [
    {
     "data": {
      "text/plain": [
       "['biscuits',\n",
       " 'chocolat',\n",
       " 'pâtes',\n",
       " 'fruits',\n",
       " 'salade',\n",
       " 'thé',\n",
       " 'dattes',\n",
       " 'farine de blé']"
      ]
     },
     "execution_count": 60,
     "metadata": {},
     "output_type": "execute_result"
    }
   ],
   "source": [
    "# Inverser l'ordre des éléments \n",
    "courses.reverse()\n",
    "courses"
   ]
  },
  {
   "cell_type": "code",
   "execution_count": 64,
   "metadata": {},
   "outputs": [
    {
     "data": {
      "text/plain": [
       "['biscuits',\n",
       " 'chocolat',\n",
       " 'dattes',\n",
       " 'farine de blé',\n",
       " 'fruits',\n",
       " 'pâtes',\n",
       " 'salade',\n",
       " 'thé']"
      ]
     },
     "execution_count": 64,
     "metadata": {},
     "output_type": "execute_result"
    }
   ],
   "source": [
    "# Trier la liste par ordre alphabétique\n",
    "courses.sort()\n",
    "courses"
   ]
  },
  {
   "cell_type": "markdown",
   "metadata": {},
   "source": [
    "# Tranchage (Slicing)\n",
    "\n",
    "Pour obtenir une tranche d’indice entre $d\\acute{e}but$ (inclus) et $fin$ (exclus) avec un $pas$, on utilise $liste[d\\acute{e}but : fin : pas]$. La liste obtenue est composée de $liste[d\\acute{e}but]$, $liste[d\\acute{e}but+ 1 \\times pas]$, $liste[d\\acute{e}but + 2 \\times pas]$, ... et $liste[d\\acute{e}but + nombre \\times pas]$, tel que $d\\acute{e}but + nombre \\times pas$ tend vers $fin$ sinon on obtient une liste vide [ ]."
   ]
  },
  {
   "cell_type": "code",
   "execution_count": 65,
   "metadata": {},
   "outputs": [
    {
     "data": {
      "text/plain": [
       "[1, 2, 3, 4, 5, 6]"
      ]
     },
     "execution_count": 65,
     "metadata": {},
     "output_type": "execute_result"
    }
   ],
   "source": [
    "liste = [0, 1, 2, 3, 4, 5, 6, 7, 8, 9]\n",
    "\n",
    "liste[1:7:1]"
   ]
  },
  {
   "cell_type": "code",
   "execution_count": 66,
   "metadata": {},
   "outputs": [
    {
     "data": {
      "text/plain": [
       "[0, 1, 2, 3, 4, 5, 6, 7, 8, 9]"
      ]
     },
     "execution_count": 66,
     "metadata": {},
     "output_type": "execute_result"
    }
   ],
   "source": [
    "liste[::] # les valeurs par défaut pour le début, la fin et le pas sont respectivement 0, la longueur de la liste et 1"
   ]
  },
  {
   "cell_type": "code",
   "execution_count": 68,
   "metadata": {},
   "outputs": [
    {
     "data": {
      "text/plain": [
       "[0, 2, 4, 6, 8]"
      ]
     },
     "execution_count": 68,
     "metadata": {},
     "output_type": "execute_result"
    }
   ],
   "source": [
    "liste[::2]"
   ]
  },
  {
   "cell_type": "code",
   "execution_count": 69,
   "metadata": {},
   "outputs": [
    {
     "data": {
      "text/plain": [
       "[6, 5, 4, 3, 2, 1]"
      ]
     },
     "execution_count": 69,
     "metadata": {},
     "output_type": "execute_result"
    }
   ],
   "source": [
    "liste[6:0:-1]"
   ]
  },
  {
   "cell_type": "code",
   "execution_count": 98,
   "metadata": {},
   "outputs": [
    {
     "data": {
      "text/plain": [
       "[]"
      ]
     },
     "execution_count": 98,
     "metadata": {},
     "output_type": "execute_result"
    }
   ],
   "source": [
    "liste[0:6:-1]"
   ]
  },
  {
   "cell_type": "markdown",
   "metadata": {},
   "source": [
    "# Listes en compréhension\n",
    "Les listes en compréhension fournissent un moyen de construire des listes de manière concise et élégante. Elles permettent d'écrire des boucles, des conditions, et des opérations sur les éléments d'une liste en une seule ligne de code.\n",
    "\n",
    "## Syntaxe de base\n",
    "\n",
    "liste = [***expression*** for ***élément*** in ***itérable*** if ***condition***]\n",
    "\n",
    "Une expression sera ajoutée à la nouvelle liste pour chaque élément dans l'itérable avec une condition à vérifier.\n",
    "\n",
    "## Exemples"
   ]
  },
  {
   "cell_type": "code",
   "execution_count": 71,
   "metadata": {},
   "outputs": [
    {
     "data": {
      "text/plain": [
       "[2, 3, 4, 5]"
      ]
     },
     "execution_count": 71,
     "metadata": {},
     "output_type": "execute_result"
    }
   ],
   "source": [
    "#Créer une liste à partir d'une autre\n",
    "\n",
    "# Ajouter 1 à chaque élément\n",
    "ancienne_liste = [1, 2, 3, 4]\n",
    "nouvelle_liste = [x+1 for x in ancienne_liste]\n",
    "\n",
    "nouvelle_liste  "
   ]
  },
  {
   "cell_type": "code",
   "execution_count": 73,
   "metadata": {},
   "outputs": [
    {
     "data": {
      "text/plain": [
       "[0, 1, 4, 9, 16, 25, 36, 49, 64, 81, 100]"
      ]
     },
     "execution_count": 73,
     "metadata": {},
     "output_type": "execute_result"
    }
   ],
   "source": [
    "#Supposons que l'on veuille créer une liste de carrés des nombres de 0 à 10\n",
    "\n",
    "squares = []\n",
    "for x in range(11):\n",
    "    squares.append(x*x) \n",
    "\n",
    "squares"
   ]
  },
  {
   "cell_type": "code",
   "execution_count": 75,
   "metadata": {},
   "outputs": [
    {
     "data": {
      "text/plain": [
       "[0, 1, 4, 9, 16, 25, 36, 49, 64, 81, 100]"
      ]
     },
     "execution_count": 75,
     "metadata": {},
     "output_type": "execute_result"
    }
   ],
   "source": [
    "#ou, de manière équivalente :\n",
    "\n",
    "squares = [x*x for x in range(11)]\n",
    "\n",
    "#Ce qui est plus court et lisible. \n",
    "squares"
   ]
  },
  {
   "cell_type": "code",
   "execution_count": 77,
   "metadata": {},
   "outputs": [
    {
     "data": {
      "text/plain": [
       "[0, 4, 16, 36, 64, 100]"
      ]
     },
     "execution_count": 77,
     "metadata": {},
     "output_type": "execute_result"
    }
   ],
   "source": [
    "#Ajout de conditions\n",
    "\n",
    "#Seules les valeurs paires\n",
    "squares_pairs = [x*x for x in range(11) if x%2 == 0]\n",
    "squares_pairs"
   ]
  },
  {
   "cell_type": "markdown",
   "metadata": {},
   "source": [
    "# Liste imbriquée \n",
    "\n",
    "Une liste imbriquée est une liste qui contient d'autres listes comme éléments. Elles sont souvent utilisées pour représenter des structures complexes comme les matrices et les tableaux de données."
   ]
  },
  {
   "cell_type": "code",
   "execution_count": 79,
   "metadata": {},
   "outputs": [],
   "source": [
    "#Créer une liste imbriquée\n",
    "\n",
    "matrice = [[1, 2, 3], [4, 5, 6], [7, 8, 9]]"
   ]
  },
  {
   "cell_type": "code",
   "execution_count": 80,
   "metadata": {},
   "outputs": [
    {
     "name": "stdout",
     "output_type": "stream",
     "text": [
      "[1, 2, 3]\n"
     ]
    }
   ],
   "source": [
    "#Accéder aux éléments d'une liste imbriquée\n",
    "#On utilise plusieurs index pour accéder aux éléments des sous-listes :\n",
    "\n",
    "# Accéder à une sous-liste (ligne entière)\n",
    "print(matrice[0])"
   ]
  },
  {
   "cell_type": "code",
   "execution_count": 81,
   "metadata": {},
   "outputs": [
    {
     "name": "stdout",
     "output_type": "stream",
     "text": [
      "2\n",
      "9\n"
     ]
    }
   ],
   "source": [
    "# Accéder à un élément spécifique\n",
    "print(matrice[0][1])  # (ligne 0, colonne 1)\n",
    "print(matrice[2][2])  # (ligne 2, colonne 2)"
   ]
  },
  {
   "cell_type": "markdown",
   "metadata": {},
   "source": [
    "## Parcourir une liste imbriquée\n",
    "\n",
    "On peut utiliser des boucles imbriquées pour parcourir les éléments :"
   ]
  },
  {
   "cell_type": "code",
   "execution_count": 83,
   "metadata": {},
   "outputs": [
    {
     "name": "stdout",
     "output_type": "stream",
     "text": [
      "[1, 2, 3]\n",
      "[4, 5, 6]\n",
      "[7, 8, 9]\n"
     ]
    }
   ],
   "source": [
    "# Parcourir les sous-listes\n",
    "for ligne in matrice:\n",
    "    print(ligne)"
   ]
  },
  {
   "cell_type": "code",
   "execution_count": 85,
   "metadata": {},
   "outputs": [
    {
     "name": "stdout",
     "output_type": "stream",
     "text": [
      "1 2 3 4 5 6 7 8 9 "
     ]
    }
   ],
   "source": [
    "# Parcourir les éléments des sous-listes\n",
    "for ligne in matrice:\n",
    "    for x in ligne:\n",
    "        print(x, end=\" \")"
   ]
  },
  {
   "cell_type": "markdown",
   "metadata": {},
   "source": [
    "# Copier une liste "
   ]
  },
  {
   "cell_type": "markdown",
   "metadata": {},
   "source": [
    "Si on utilise une simple affectation (=), on ne copie pas la liste, mais crée une référence vers la liste d'origine :"
   ]
  },
  {
   "cell_type": "code",
   "execution_count": 86,
   "metadata": {},
   "outputs": [
    {
     "name": "stdout",
     "output_type": "stream",
     "text": [
      "[1, 2, 3, 4, 5]\n"
     ]
    }
   ],
   "source": [
    "originale = [1, 2, 3, 4]\n",
    "\n",
    "copie = originale\n",
    "\n",
    "copie.append(5) #modification de la liste copie\n",
    "\n",
    "print(originale) #affichage de la liste originale"
   ]
  },
  {
   "cell_type": "markdown",
   "metadata": {},
   "source": [
    "Pour éviter cela, dans le cas d'une liste simple on peut utiliser la méthode copy() :"
   ]
  },
  {
   "cell_type": "code",
   "execution_count": 88,
   "metadata": {},
   "outputs": [
    {
     "name": "stdout",
     "output_type": "stream",
     "text": [
      "[1, 2, 3, 4]\n",
      "[1, 2, 3, 4, 5]\n"
     ]
    }
   ],
   "source": [
    "originale = [1, 2, 3, 4]\n",
    "\n",
    "copie = originale.copy()\n",
    "\n",
    "copie.append(5)\n",
    "\n",
    "print(originale)\n",
    "print(copie)  "
   ]
  },
  {
   "cell_type": "markdown",
   "metadata": {},
   "source": [
    "Dans le cas une liste contenant d'autres objets complexes (comme des sous-listes), il faut une copie profonde. La bibliothèque copy permet cela :"
   ]
  },
  {
   "cell_type": "code",
   "execution_count": 89,
   "metadata": {},
   "outputs": [
    {
     "name": "stdout",
     "output_type": "stream",
     "text": [
      "[['x', 2, 3], [4, 5, 6]]\n",
      "[[1, 2, 3], [4, 5, 6]]\n"
     ]
    }
   ],
   "source": [
    "import copy\n",
    "\n",
    "# Exemple avec des sous-listes\n",
    "originale = [[1, 2, 3], [4, 5, 6]]\n",
    "copie_profonde = copy.deepcopy(originale)\n",
    "\n",
    "# Modification de l'originale n'affecte pas la copie profonde\n",
    "originale[0][0] = \"x\"\n",
    "\n",
    "print(originale)         \n",
    "print(copie_profonde)  "
   ]
  }
 ],
 "metadata": {
  "colab": {
   "collapsed_sections": [],
   "name": "7_Programmation_Python_Partie_3.ipynb",
   "provenance": []
  },
  "kernelspec": {
   "display_name": "Python 3 (ipykernel)",
   "language": "python",
   "name": "python3"
  },
  "language_info": {
   "codemirror_mode": {
    "name": "ipython",
    "version": 3
   },
   "file_extension": ".py",
   "mimetype": "text/x-python",
   "name": "python",
   "nbconvert_exporter": "python",
   "pygments_lexer": "ipython3",
   "version": "3.11.7"
  }
 },
 "nbformat": 4,
 "nbformat_minor": 4
}
