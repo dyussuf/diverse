{
 "cells": [
  {
   "cell_type": "markdown",
   "id": "0bdf67e7",
   "metadata": {},
   "source": [
    "# Introduction\n",
    "\n",
    "Dans le monde réel on trouve des phénomènes dus au \"hasard\", on dit des phénomènes aléatoires. Il peut être utile, parfois numériquement, de pouvoir modéliser et simuler ces phénomènes.\n",
    "\n",
    "La simulation d'expériences aléatoires en Python peut être réalisée à l'aide du module numpy.random, qui offre des outils puissants pour générer des nombres aléatoires, tirer des échantillons aléatoires, et plus encore.\n",
    "\n",
    "# Exemple : Lancer d'un dé\n",
    "\n",
    "Le lancer d'un dé à six faces peut être vu comme un tirage aléatoire d'un nombre dans {1,2,3,4,5,6} :\n",
    "\n",
    "En Python on peut simuler cette expérience aléatoire en utilisant le module random de la bibliothèque numpy permettant de générer des nombres aléatoires.\n",
    "\n",
    "La fonction ***randint(n1, n2)*** renvoie un entier aléatoire de la distribution uniforme des entiers de **n1** (inclus) à **n2** (exclus)."
   ]
  },
  {
   "cell_type": "code",
   "execution_count": null,
   "id": "9ff76c62",
   "metadata": {},
   "outputs": [],
   "source": [
    "import numpy as np\n",
    "\n",
    "# Lancer un dé\n",
    "x = np.random.randint(1, 7)\n",
    "print(f\"Résultat du lancer de dé : {x}\")"
   ]
  },
  {
   "cell_type": "markdown",
   "id": "5d049642",
   "metadata": {},
   "source": [
    "Pour simuler 10 lancers d'un dé et afficher le résultat chaque fois:"
   ]
  },
  {
   "cell_type": "code",
   "execution_count": null,
   "id": "d9dae846",
   "metadata": {},
   "outputs": [],
   "source": [
    "# Lancer un dé\n",
    "for i in range(10):\n",
    "    x = np.random.randint(1, 7)\n",
    "    print(f\"Lancer numéro {i} : {x}\")"
   ]
  },
  {
   "cell_type": "markdown",
   "id": "4acc12c3",
   "metadata": {},
   "source": [
    "# Initialisation du générateur\n",
    "\n",
    "La fonction ***seed(x)*** permet d'initialiser par **x** le générateur de nombres aléatoires. Si **x** est omis, l'heure système actuelle est utilisée. Cette fonction est utilisée pour répéter des expériences aléatoires avec les mêmes résultats."
   ]
  },
  {
   "cell_type": "code",
   "execution_count": null,
   "id": "0a69ec4c",
   "metadata": {},
   "outputs": [],
   "source": [
    "# Exemples\n",
    "\n",
    "# 5 lancers d'un dé \n",
    "\n",
    "for i in range(5):\n",
    "    x = np.random.randint(1, 7)\n",
    "    print(f\"Lancer numéro {i} : {x}\")"
   ]
  },
  {
   "cell_type": "code",
   "execution_count": null,
   "id": "455bac30",
   "metadata": {},
   "outputs": [],
   "source": [
    "# en répétant la simulation on aura des valeurs différentes :\n",
    "\n",
    "for i in range(5):\n",
    "    x = np.random.randint(1, 7)\n",
    "    print(f\"Lancer numéro {i} : {x}\")"
   ]
  },
  {
   "cell_type": "code",
   "execution_count": null,
   "id": "71746275",
   "metadata": {},
   "outputs": [],
   "source": [
    "# Maintenant, on initialise le générateur par une valeur en utilisant seed(valeur)\n",
    "\n",
    "np.random.seed(1)\n",
    "for i in range(5):\n",
    "    x = np.random.randint(1, 7)\n",
    "    print(f\"Lancer numéro {i} : {x}\")"
   ]
  },
  {
   "cell_type": "code",
   "execution_count": null,
   "id": "75ec56d0",
   "metadata": {},
   "outputs": [],
   "source": [
    "#On aura les mêmes résultas précédents en utilisant la même valeur\n",
    "\n",
    "np.random.seed(1)\n",
    "for i in range(5):\n",
    "    x = np.random.randint(1, 7)\n",
    "    print(f\"Lancer numéro {i} : {x}\")"
   ]
  },
  {
   "cell_type": "markdown",
   "id": "190c3309",
   "metadata": {},
   "source": [
    "# Simulation des variables aléatoires discrètes \n",
    "\n",
    "## Méthode d’inversion de la fonction de répartition  \n",
    "\n",
    "C'est une technique utilisée pour simuler des réalisations d’une variable aléatoire discrète $ X $ suivant une loi donnée en utilisant une variable aléatoire $U$ qui suit la loi uniforme sur [0,1].\n",
    "\n",
    "### Principe\n",
    "\n",
    "- Soit une variable aléatoire discrète  X  prenant des valeurs $ x_1, x_2, \\dots, x_n $ avec des probabilités associées $ P(X = x_i) = p_i $, où $ \\sum_{i=1}^n p_i = 1 $.\n",
    "\n",
    "- Construire la fonction de répartition cumulative $ F $ associée à $ X $:\n",
    "$$\n",
    "F_X(x_i) = P(X \\leq x_i) = \\sum P(X = x), \\text{ tels que } x \\leq x_i.\n",
    "$$\n",
    "\n",
    "- Générer un nombre aléatoire $U$ entre 0 et 1.\n",
    "\n",
    "- Alors $X$ est le plus petit $x_i$ telle que : $U \\leq F_X(x_i).$\n",
    "\n",
    "\n",
    "### Représentations graphiques\n",
    "\n",
    "Pour juger de la pertinence des simulations, on peut utiliser des représentations graphiques. Pour cela, on procèdera comme suit :\n",
    "\n",
    "- On crée un échantillon, c’est-à-dire une liste contenant plusieurs réalisations de la fonction Loi.\n",
    "- On compare graphiquement les fréquences obtenues avec les probabilités théoriques.\n",
    "\n",
    "Dans le cas de simulation de variables aléatoires discrètes, on va comparer le diagramme en bâtons des probabilités théoriques et le diagramme en bâtons des fréquences pour $x \\in X(\\Omega)$.\n",
    "\n",
    "Pour un nombre de simulations « suffisamment grand », les deux diagrammes doivent être proches."
   ]
  },
  {
   "cell_type": "markdown",
   "id": "5cf458e3",
   "metadata": {},
   "source": [
    "## Simulation de la loi de Bernoulli\n",
    "\n",
    "Une expérience de Bernoulli est une expérience aléatoire qui peut aboutir à deux résultats possibles :\n",
    "\n",
    "- Succès (1) avec une probabilité $p$\n",
    "- Échec (0) avec une probabilité $1 - p$\n",
    "\n",
    "Si $X$ est une variable aléatoire suivant une loi de Bernoulli de paramètre $p$, on note $X\\sim\\mathcal{B}(p)$, et la fonction de masse de probabilité est donnée par :\n",
    "\n",
    "$$\n",
    "P(X = 1) = p \\> et \\> P(X = 0) = 1-p\n",
    "$$\n",
    "\n",
    "avec une espérance \n",
    "\n",
    "$$\\mathbb{E}[X] = \\sum_{x \\in X(\\Omega)} x P(X = x) = p$$\n",
    "\n",
    "Pour simuler une loi de Bernoulli, on procèdera comme évoqué plus haut : on fait appel à la fonction $random()$ qui renvoie un nombre aléatoire dans [0, 1[. On a alors deux cas :\n",
    "\n",
    " - si $random() \\leq p$, ce qui arrive avec une probabilité de $p$, on renvoie la valeur 1. \n",
    " - si $random()>p$, ce qui arrive avec une probabilité de $1-p$, on renvoie 0.\n",
    " \n",
    "On peut ainsi simuler la loi de Bernoulli à l’aide de la fonction suivante :"
   ]
  },
  {
   "cell_type": "code",
   "execution_count": null,
   "id": "8653dabc",
   "metadata": {},
   "outputs": [],
   "source": [
    "def Bernoulli(p):\n",
    "    x = np.random.random()\n",
    "    if x <= p :\n",
    "        return 0\n",
    "    else: \n",
    "        return 1"
   ]
  },
  {
   "cell_type": "markdown",
   "id": "e701de46",
   "metadata": {},
   "source": [
    "### Exemple\n",
    "\n",
    "Supposons qu'un dé soit lancé une fois, et on considère un succès comme obtenir un nombre impair. La probabilité de succès est $\\frac{1}{2}$. Cette expérience suit une loi de Bernoulli : \\$$X \\sim \\mathcal{B}({\\scriptsize\\frac{1}{2}})$$"
   ]
  },
  {
   "cell_type": "code",
   "execution_count": null,
   "id": "8face435",
   "metadata": {},
   "outputs": [],
   "source": [
    "import matplotlib.pyplot as mpl\n",
    "\n",
    "# Paramètres\n",
    "p = 1/2      # Probabilité de succès\n",
    "simulations = 10 # Nombre de simulations\n",
    "\n",
    "\n",
    "liste = []\n",
    "for _ in range(simulations):\n",
    "    liste.append(Bernoulli(p))\n",
    "\n",
    "# Estimations\n",
    "f1 = liste.count(1) / simulations  # fréquence des succès : nombre des 1 sur le nombre des simulations\n",
    "f0 = liste.count(0) / simulations # fréquence des échecs\n",
    "\n",
    "X = np.arange(2)\n",
    "P = [p, 1-p]\n",
    "F = [f0, f1]\n",
    "\n",
    "mpl.bar(X-0.1, P, 0.2, color='lightblue', label = 'probabilités théoriques',) \n",
    "mpl.bar(X+0.1, F, 0.2, color='lightgray', label = 'fréquences',)\n",
    "\n",
    "\n",
    "mpl.xlabel(\"X\")\n",
    "mpl.xticks(X)\n",
    "mpl.ylabel(\"Valeurs\") \n",
    "mpl.title(\"Comparaison\") \n",
    "mpl.legend() \n",
    "mpl.show() "
   ]
  },
  {
   "cell_type": "markdown",
   "id": "dd0ea6bb",
   "metadata": {},
   "source": [
    "## Simulation de la loi binomiale\n",
    "\n",
    "La loi binomiale décrit le nombre de succès dans une série de $n$ expériences de Bernoulli indépendantes Si $X_1, X_2, \\dots, X_n$ sont $n$ variables aléatoires indépendantes suivant chacune une loi de Bernoulli de paramètre $p$, alors la somme \n",
    "$$S_n = \\sum_{i=1}^n X_i$$\n",
    "suit une loi binomiale de paramètres $n$ et $p$, notée\n",
    "$$S_n \\sim \\mathcal{B}(n, p)$$\n",
    "\n",
    "La fonction de masse de probabilité de la loi binomiale est donnée par :\n",
    "$$P(S_n = x) = \\binom{n}{x} p^x (1-p)^{n-x}, \\quad x = 0, 1, \\dots, n,$$\n",
    "où $\\binom{n}{x} = \\frac{n!}{x!(n-x)!} $ est le coefficient binomial.\n",
    "\n",
    "Dans ce cas on trouve que l'espérance vaut $np$.\n"
   ]
  },
  {
   "cell_type": "markdown",
   "id": "49d5627e",
   "metadata": {},
   "source": [
    "### Exemple\n",
    "\n",
    "Supposons maintenant qu'un dé soit lancé 10 fois. Le nombre total des nombres impairs obtenus après 10 lancers suit une loi binomiale : $$S_{10} \\sim \\mathcal{B}(10, {\\scriptsize\\frac{1}{2}})$$"
   ]
  },
  {
   "cell_type": "code",
   "execution_count": null,
   "id": "ce63e699",
   "metadata": {},
   "outputs": [],
   "source": [
    "# Paramètres\n",
    "n = 10       # Nombre d'essais\n",
    "p = 1/2      # Probabilité de succès\n",
    "simulations = 100 # Nombre de simulations\n",
    "\n",
    "\n",
    "# Simulation de la loi binomiale\n",
    "liste = []\n",
    "for _ in range(simulations):\n",
    "    x = sum(Bernoulli(p) for _ in range(n))  # Somme de n essais de Bernoulli\n",
    "    liste.append(x)\n",
    "\n",
    "\n",
    "# Estimations\n",
    "\n",
    "F = []\n",
    "for i in range(n):\n",
    "    F.append(liste.count(i)/simulations) # fréquence des succès\n",
    "\n",
    "def PBinomiale(x, n, p):\n",
    "    return math.comb(n, x)*(p**x)*((1-p)**(n-x)) # probabilité théorique. math.comb calcule le coefficient binomial\n",
    "\n",
    "X = np.arange(n)\n",
    "P = [PBinomiale(i, n, p) for i in range(n)]\n",
    "\n",
    "mpl.bar(X-0.1, P, 0.2, color='lightblue', label = 'probabilités théoriques',) \n",
    "mpl.bar(X+0.1, F, 0.2, color='lightgray', label = 'fréquences',)\n",
    "\n",
    "\n",
    "mpl.xlabel(\"X\")\n",
    "mpl.xticks(X)\n",
    "mpl.ylabel(\"Valeurs\") \n",
    "mpl.title(\"Comparaison\") \n",
    "mpl.legend() \n",
    "mpl.show()     \n",
    "    \n",
    "    \n",
    "# Estimations\n",
    " \n",
    "print(f\"Espérance simulée : {sum(liste) / simulations}\")\n",
    "print(f\"Espérance théorique : {n*p}\")\n"
   ]
  },
  {
   "cell_type": "markdown",
   "id": "22882aac",
   "metadata": {},
   "source": [
    "# Simulation de la loi géométrique\n",
    "\n",
    "La loi géométrique est une loi de probabilité discrète qui mesure le nombre d'essais nécessaires pour obtenir un succès dans une séquence d'essais de Bernoulli indépendants de paramètre $p$.\n",
    "\n",
    "Une variable aléatoire $X$ suit une loi géométrique, $X\\sim\\mathcal{G}(p)$,  si elle prend des valeurs dans {1, 2, 3, ...} avec la probabilité :\n",
    "\n",
    "$$\n",
    "P(X = n) = p(1-p)^{n-1}\n",
    "$$\n",
    "\n",
    "D'où l'espérance vaut $\\frac{1}{p}$\n"
   ]
  },
  {
   "cell_type": "markdown",
   "id": "a629710e",
   "metadata": {},
   "source": [
    "### Exemple\n",
    "\n",
    "Supposons qu'un dé soit lancé 10 fois. Le nombre des lancers avant d'obtenir un nombre impair (succès) suit une loi géométrique : $$X \\sim \\mathcal{G}({\\scriptsize\\frac{1}{2}})$$"
   ]
  },
  {
   "cell_type": "code",
   "execution_count": null,
   "id": "7770a2b4",
   "metadata": {},
   "outputs": [],
   "source": [
    "# Paramètres\n",
    "n = 10\n",
    "p = 1/2      # Probabilité de succès\n",
    "simulations = 100000 # Nombre de simulations\n",
    "\n",
    "\n",
    "# Simulation de la loi géométrique\n",
    "liste = []\n",
    "for _ in range(simulations):\n",
    "    c = 1 # compteur du nombre d'essais avant le succès pour chaque simulation\n",
    "    while Bernoulli(p)>p and c<=10:\n",
    "        c += 1\n",
    "    if c != 11:\n",
    "        liste.append(c)\n",
    "\n",
    "# Estimations\n",
    "\n",
    "F = []\n",
    "for i in range(1, n+1):\n",
    "    F.append(liste.count(i)/simulations) # fréquences\n",
    "\n",
    "X = np.arange(1, n+1)\n",
    "P = [p*(1-p)**i for i in range(n)] # probabilités\n",
    "\n",
    "mpl.bar(X-0.1, P, 0.2, color='lightblue', label = 'probabilités théoriques',) \n",
    "mpl.bar(X+0.1, F, 0.2, color='lightgray', label = 'fréquences',)\n",
    "\n",
    "\n",
    "mpl.xlabel(\"X\")\n",
    "mpl.xticks(X)\n",
    "mpl.ylabel(\"Valeurs\") \n",
    "mpl.title(\"Comparaison\") \n",
    "mpl.legend() \n",
    "mpl.show()     \n",
    "    \n",
    "    \n",
    "# Estimations\n",
    " \n",
    "print(f\"Espérance simulée : {sum(liste) / simulations}\")\n",
    "print(f\"Espérance théorique : {1/p}\")"
   ]
  },
  {
   "cell_type": "code",
   "execution_count": null,
   "id": "8e0bd19d",
   "metadata": {},
   "outputs": [],
   "source": []
  },
  {
   "cell_type": "code",
   "execution_count": null,
   "id": "b9ba1490",
   "metadata": {},
   "outputs": [],
   "source": []
  },
  {
   "cell_type": "code",
   "execution_count": null,
   "id": "69868b5e",
   "metadata": {},
   "outputs": [],
   "source": []
  },
  {
   "cell_type": "code",
   "execution_count": null,
   "id": "870b46b8",
   "metadata": {},
   "outputs": [],
   "source": []
  },
  {
   "cell_type": "code",
   "execution_count": null,
   "id": "8d1ac882",
   "metadata": {},
   "outputs": [],
   "source": []
  },
  {
   "cell_type": "code",
   "execution_count": null,
   "id": "85132db6",
   "metadata": {},
   "outputs": [],
   "source": []
  },
  {
   "cell_type": "code",
   "execution_count": null,
   "id": "1e3914dd",
   "metadata": {},
   "outputs": [],
   "source": []
  },
  {
   "cell_type": "code",
   "execution_count": null,
   "id": "ff985bdc",
   "metadata": {},
   "outputs": [],
   "source": []
  },
  {
   "cell_type": "markdown",
   "id": "5b08b6d2",
   "metadata": {},
   "source": [
    "La loi de Poisson est une loi de probabilité discrète utilisée pour modéliser le nombre d’événements qui se produisent dans un intervalle de temps ou d’espace, lorsque ces événements sont indépendants et se produisent à un taux constant.\n",
    "\n",
    "Une variable aléatoire $X$ suit une loi de Poisson de paramètre $\\lambda$, $X\\sim\\mathcal{P}(\\lambda)$, si elle prend des valeurs dans {1, 2, 3, ...} avec la probabilité :\n",
    "\n",
    "$$\n",
    "P(X = n) = \\frac{\\lambda^{n}e^{-\\lambda}}{n!}\n",
    "$$\n",
    "\n",
    "avec une espérance égale à $\\lambda$\n",
    "\n",
    "### Exemple\n",
    "\n",
    "Supposons que le nombre moyen des nombres impairs obtenus après 10 lancers d'un dé soit 5. Le nombre des lancers avant d'obtenir un nombre impair (succès) suit une loi géométrique : $$X \\sim \\mathcal{G}({\\scriptsize\\frac{1}{2}})$$"
   ]
  },
  {
   "cell_type": "raw",
   "id": "3f2f914e",
   "metadata": {},
   "source": []
  },
  {
   "cell_type": "code",
   "execution_count": null,
   "id": "d158e3da",
   "metadata": {},
   "outputs": [],
   "source": [
    "\n",
    "Lambda = 5\n",
    "n = 10\n",
    "p = 1\n",
    "\n",
    "while p > math.exp(-Lambda):\n",
    "    n += 1\n",
    "    p *= random.uniform(0, 1)\n",
    "\n",
    "print(n - 1)\n",
    "\n",
    "# Exemple d'utilisation\n",
    "\n",
    "F = []\n",
    "for i in range(n+1):\n",
    "    F.append(liste.count(i)/simulations) # fréquences\n",
    "\n",
    "X = np.arange(n+1)\n",
    "P = [(Lambda ** i * math.exp(-Lambda)) / math.factorial(i) for i in range(n+1)] # probabilités\n",
    "\n",
    "mpl.bar(X-0.1, P, 0.2, color='lightblue', label = 'probabilités théoriques',) \n",
    "mpl.bar(X+0.1, F, 0.2, color='lightgray', label = 'fréquences',)\n",
    "\n",
    "\n",
    "mpl.xlabel(\"X\")\n",
    "mpl.xticks(X)\n",
    "mpl.ylabel(\"Valeurs\") \n",
    "mpl.title(\"Comparaison\") \n",
    "mpl.legend() \n",
    "mpl.show()     \n",
    "    \n",
    "    \n",
    "# Estimations\n",
    " \n",
    "print(f\"Espérance simulée : {sum(liste) / simulations}\")\n",
    "print(f\"Espérance théorique : {1/p}\")\n"
   ]
  }
 ],
 "metadata": {
  "kernelspec": {
   "display_name": "Python 3 (ipykernel)",
   "language": "python",
   "name": "python3"
  },
  "language_info": {
   "codemirror_mode": {
    "name": "ipython",
    "version": 3
   },
   "file_extension": ".py",
   "mimetype": "text/x-python",
   "name": "python",
   "nbconvert_exporter": "python",
   "pygments_lexer": "ipython3",
   "version": "3.11.7"
  }
 },
 "nbformat": 4,
 "nbformat_minor": 5
}
