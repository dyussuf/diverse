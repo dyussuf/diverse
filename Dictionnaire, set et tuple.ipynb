{
 "cells": [
  {
   "cell_type": "markdown",
   "id": "1043ff04",
   "metadata": {
    "colab_type": "text",
    "id": "carR_ZzOnnLd"
   },
   "source": [
    "# Dictionnaire\n",
    "\n",
    "Le dictionnaire est une structure de données qui permet de stocker des paires clé-valeur. Il est défini à l’aide des accolades { } et permet un accès rapide aux valeurs via leurs clés uniques."
   ]
  },
  {
   "cell_type": "code",
   "execution_count": 1,
   "id": "86649261",
   "metadata": {
    "colab": {
     "base_uri": "https://localhost:8080/",
     "height": 72
    },
    "colab_type": "code",
    "id": "JO-AHu0Ckbq9",
    "outputId": "716ea98d-b36e-4659-f89a-deb4daa081b2"
   },
   "outputs": [
    {
     "name": "stdout",
     "output_type": "stream",
     "text": [
      "{'Ahmad': '105033', 'Fatima': '103300', 'Omar': '212020', 'Sarah': '184554'}\n"
     ]
    }
   ],
   "source": [
    "# Création d'un dictionnaire avec {}\n",
    " \n",
    "dictionnaire_vide = {}   # ou bien dictionnaire_vide = dict() \n",
    "\n",
    "contacts = {'Ahmad':'105033', 'Fatima': '103300', 'Omar':'212020', 'Sarah' : '184554'}\n",
    "\n",
    "print(contacts)"
   ]
  },
  {
   "cell_type": "code",
   "execution_count": 2,
   "id": "bd21bc26",
   "metadata": {},
   "outputs": [
    {
     "data": {
      "text/plain": [
       "dict_keys(['Ahmad', 'Fatima', 'Omar', 'Sarah'])"
      ]
     },
     "execution_count": 2,
     "metadata": {},
     "output_type": "execute_result"
    }
   ],
   "source": [
    "# que les clés\n",
    "\n",
    "contacts.keys()"
   ]
  },
  {
   "cell_type": "code",
   "execution_count": 3,
   "id": "e0535951",
   "metadata": {},
   "outputs": [
    {
     "data": {
      "text/plain": [
       "dict_values(['105033', '103300', '212020', '184554'])"
      ]
     },
     "execution_count": 3,
     "metadata": {},
     "output_type": "execute_result"
    }
   ],
   "source": [
    "# que les valeurs\n",
    "\n",
    "contacts.values()"
   ]
  },
  {
   "cell_type": "code",
   "execution_count": 4,
   "id": "452d18d9",
   "metadata": {
    "colab": {
     "base_uri": "https://localhost:8080/",
     "height": 54
    },
    "colab_type": "code",
    "id": "yMUd0OUepnQZ",
    "outputId": "a0a89f4c-2ac9-47d8-a6f9-27071d8be2dd"
   },
   "outputs": [
    {
     "data": {
      "text/plain": [
       "'184554'"
      ]
     },
     "execution_count": 4,
     "metadata": {},
     "output_type": "execute_result"
    }
   ],
   "source": [
    "# Accès aux valeurs \n",
    "\n",
    "contacts['Sarah']"
   ]
  },
  {
   "cell_type": "code",
   "execution_count": 5,
   "id": "8a2b41b9",
   "metadata": {
    "colab": {
     "base_uri": "https://localhost:8080/",
     "height": 35
    },
    "colab_type": "code",
    "id": "qfda69zCqFIc",
    "outputId": "806bb09e-cb81-4fb4-8043-f9b126200766"
   },
   "outputs": [
    {
     "data": {
      "text/plain": [
       "{'Ahmad': '105033', 'Fatima': '103300', 'Omar': '212021', 'Sarah': '184554'}"
      ]
     },
     "execution_count": 5,
     "metadata": {},
     "output_type": "execute_result"
    }
   ],
   "source": [
    "# Changer de valeur d'une clé\n",
    "\n",
    "contacts['Omar'] = '212021'\n",
    "contacts"
   ]
  },
  {
   "cell_type": "code",
   "execution_count": 6,
   "id": "c457840e",
   "metadata": {
    "colab": {
     "base_uri": "https://localhost:8080/",
     "height": 164
    },
    "colab_type": "code",
    "id": "J6UmxrmFqhLC",
    "outputId": "5f373599-0e8f-4cf5-88ce-2c87f4c69ddd"
   },
   "outputs": [
    {
     "data": {
      "text/plain": [
       "{'Ahmad': '105033',\n",
       " 'Fatima': '103300',\n",
       " 'Omar': '212021',\n",
       " 'Sarah': '184554',\n",
       " 'Safiah': '999017',\n",
       " 'Mohammad': ['900023', '001123']}"
      ]
     },
     "execution_count": 6,
     "metadata": {},
     "output_type": "execute_result"
    }
   ],
   "source": [
    "# Ajouter une paire clé-valeur au dictionnaire\n",
    "\n",
    "contacts['Safiah'] = '999017'\n",
    "contacts['Mohammad'] = ['900023', '001123']\n",
    "contacts"
   ]
  },
  {
   "cell_type": "code",
   "execution_count": 7,
   "id": "9c49b99b",
   "metadata": {},
   "outputs": [],
   "source": [
    "# Supprimer une paire\n",
    "\n",
    "del contacts['Sarah']"
   ]
  },
  {
   "cell_type": "code",
   "execution_count": 8,
   "id": "2afefa59",
   "metadata": {},
   "outputs": [
    {
     "data": {
      "text/plain": [
       "False"
      ]
     },
     "execution_count": 8,
     "metadata": {},
     "output_type": "execute_result"
    }
   ],
   "source": [
    "# Tester l'appartenance d'une clé\n",
    "\n",
    "'Sarah' in contacts"
   ]
  },
  {
   "cell_type": "code",
   "execution_count": 9,
   "id": "4c979d86",
   "metadata": {},
   "outputs": [
    {
     "name": "stdout",
     "output_type": "stream",
     "text": [
      "Ahmad : 105033\n",
      "Fatima : 103300\n",
      "Omar : 212021\n",
      "Safiah : 999017\n",
      "Mohammad : ['900023', '001123']\n"
     ]
    }
   ],
   "source": [
    "# Parcourir un dictionnaire\n",
    "\n",
    "# Parcourir les clés\n",
    "for clé in contacts:\n",
    "    print(clé, \":\", contacts[clé])"
   ]
  },
  {
   "cell_type": "code",
   "execution_count": 10,
   "id": "534c5e81",
   "metadata": {},
   "outputs": [
    {
     "name": "stdout",
     "output_type": "stream",
     "text": [
      "105033\n",
      "103300\n",
      "212021\n",
      "999017\n",
      "['900023', '001123']\n"
     ]
    }
   ],
   "source": [
    "# Parcourir les valeurs\n",
    "for valeur in contacts.values():\n",
    "    print(valeur)"
   ]
  },
  {
   "cell_type": "code",
   "execution_count": 11,
   "id": "dc9dfad5",
   "metadata": {},
   "outputs": [
    {
     "name": "stdout",
     "output_type": "stream",
     "text": [
      "Ahmad : 105033\n",
      "Fatima : 103300\n",
      "Omar : 212021\n",
      "Safiah : 999017\n",
      "Mohammad : ['900023', '001123']\n"
     ]
    }
   ],
   "source": [
    "# Parcourir les clés et valeurs\n",
    "for clé, valeur in contacts.items():\n",
    "    print(f\"{clé} : {valeur}\")"
   ]
  },
  {
   "cell_type": "markdown",
   "id": "9df3126c",
   "metadata": {},
   "source": [
    "# Set\n",
    "\n",
    "Un set (ensemble) est une collection non ordonnée d'éléments uniques. Il est utile pour éliminer les doublons et effectuer des opérations ensemblistes comme l'union et l'intersection."
   ]
  },
  {
   "cell_type": "code",
   "execution_count": 12,
   "id": "017dafc1",
   "metadata": {},
   "outputs": [
    {
     "name": "stdout",
     "output_type": "stream",
     "text": [
      "{2, 3, 5, 7}\n"
     ]
    }
   ],
   "source": [
    "# Créer un set\n",
    "\n",
    "set_vide = set()   # {} crée un dictionnaire !\n",
    "\n",
    "premiers =  {2, 3, 5, 7, 7}\n",
    "\n",
    "print(premiers)"
   ]
  },
  {
   "cell_type": "code",
   "execution_count": 13,
   "id": "d6768b77",
   "metadata": {},
   "outputs": [
    {
     "name": "stdout",
     "output_type": "stream",
     "text": [
      "{2, 3, 5, 7}\n"
     ]
    }
   ],
   "source": [
    "# Set à partir d'une liste\n",
    "\n",
    "premiers =  [2, 3, 5, 7, 7]\n",
    "\n",
    "print(set(premiers))"
   ]
  },
  {
   "cell_type": "code",
   "execution_count": 14,
   "id": "cb228eb6",
   "metadata": {},
   "outputs": [
    {
     "name": "stdout",
     "output_type": "stream",
     "text": [
      "{'r', 'g', 'n', 'i', 'e'}\n"
     ]
    }
   ],
   "source": [
    "# Set à partir d'une chaîne de caractères \n",
    "\n",
    "mot = 'ingeneer' \n",
    "\n",
    "print(set(mot))"
   ]
  },
  {
   "cell_type": "code",
   "execution_count": 15,
   "id": "54e72337",
   "metadata": {},
   "outputs": [
    {
     "data": {
      "text/plain": [
       "{2, 3, 5, 7, 11}"
      ]
     },
     "execution_count": 15,
     "metadata": {},
     "output_type": "execute_result"
    }
   ],
   "source": [
    "# Ajouter un élément\n",
    "\n",
    "premiers =  {2, 3, 5, 7}\n",
    "\n",
    "premiers.add(11)\n",
    "\n",
    "premiers"
   ]
  },
  {
   "cell_type": "code",
   "execution_count": 16,
   "id": "03c12f52",
   "metadata": {},
   "outputs": [
    {
     "data": {
      "text/plain": [
       "{2, 3, 5, 7}"
      ]
     },
     "execution_count": 16,
     "metadata": {},
     "output_type": "execute_result"
    }
   ],
   "source": [
    "# Supprimer un élément \n",
    "\n",
    "premiers.remove(11)\n",
    "\n",
    "premiers"
   ]
  },
  {
   "cell_type": "code",
   "execution_count": 17,
   "id": "9f8b9e4f",
   "metadata": {},
   "outputs": [
    {
     "name": "stdout",
     "output_type": "stream",
     "text": [
      "{2, 3, 5, 7} | {1, 3, 5, 7} = {1, 2, 3, 5, 7}\n"
     ]
    }
   ],
   "source": [
    "# Opérations ensemblistes\n",
    "\n",
    "premiers =  {2, 3, 5, 7}\n",
    "impairs = {1, 3, 5, 7}\n",
    "\n",
    "# Union\n",
    "\n",
    "print(f'{premiers} | {impairs} = {premiers | impairs}')   #ou premiers.union(impairs)"
   ]
  },
  {
   "cell_type": "code",
   "execution_count": 18,
   "id": "5efd397d",
   "metadata": {},
   "outputs": [
    {
     "name": "stdout",
     "output_type": "stream",
     "text": [
      "{2, 3, 5, 7} & {1, 3, 5, 7} = {3, 5, 7}\n"
     ]
    }
   ],
   "source": [
    "# Intersection\n",
    "\n",
    "print(f'{premiers} & {impairs} = {premiers & impairs}')   #ou premiers.intersection(impairs)"
   ]
  },
  {
   "cell_type": "code",
   "execution_count": 19,
   "id": "b3fe4c7d",
   "metadata": {},
   "outputs": [
    {
     "name": "stdout",
     "output_type": "stream",
     "text": [
      "{2, 3, 5, 7} - {1, 3, 5, 7} = {2}\n"
     ]
    }
   ],
   "source": [
    "# Différence\n",
    "\n",
    "print(f'{premiers} - {impairs} = {premiers - impairs}')   #ou premiers.difference(impairs)"
   ]
  },
  {
   "cell_type": "code",
   "execution_count": 20,
   "id": "f5a67751",
   "metadata": {},
   "outputs": [
    {
     "name": "stdout",
     "output_type": "stream",
     "text": [
      "{2, 3, 5, 7} ^ {1, 3, 5, 7} = {1, 2}\n"
     ]
    }
   ],
   "source": [
    "# Différence symétrique (éléments exclusifs)\n",
    "\n",
    "print(f'{premiers} ^ {impairs} = {premiers ^ impairs}')   #ou premiers.symmetric_difference(impairs)"
   ]
  },
  {
   "cell_type": "code",
   "execution_count": 21,
   "id": "41940913",
   "metadata": {},
   "outputs": [
    {
     "name": "stdout",
     "output_type": "stream",
     "text": [
      "True\n",
      "True\n"
     ]
    }
   ],
   "source": [
    "e1 = {1, 3, 5, 7}\n",
    "e2 = {1, 3, 5, 7, 11, 13}\n",
    "\n",
    "# Tester si e1 est un sous ensemble de e2\n",
    "\n",
    "print(e1<e2)   #ou e1.issubset(e2)\n",
    "\n",
    "#ou bien\n",
    "\n",
    "print(e2>e1)   #e1.issuperset(e2)"
   ]
  },
  {
   "cell_type": "markdown",
   "id": "4ce3285c",
   "metadata": {},
   "source": [
    "# Tuple\n",
    "\n",
    "Un tuple est une structure de données immuable (non modifiable après création) défini à l’aide des parenthèses ( ) et permet de stocker une collection ordonnée d’éléments qui doivent rester inchangées."
   ]
  },
  {
   "cell_type": "code",
   "execution_count": 22,
   "id": "99bb9500",
   "metadata": {},
   "outputs": [],
   "source": [
    "# Tuple vide\n",
    "\n",
    "tuple_vide = ()\n",
    "\n",
    "valeurs_logiques = (True, False)\n",
    "chiffres_arabes = (0, 1, 2, 3, 4, 5, 6, 7, 8, 9)\n",
    "\n",
    "# Tuple à un seul élément (ajouter une virgule !)\n",
    "tuple_unique = (1,)"
   ]
  },
  {
   "cell_type": "code",
   "execution_count": 23,
   "id": "b7743dfd",
   "metadata": {},
   "outputs": [
    {
     "name": "stdout",
     "output_type": "stream",
     "text": [
      "(2, 3, 5, 7)\n"
     ]
    }
   ],
   "source": [
    "# Tuple à partir d'une liste\n",
    "\n",
    "premiers =  [2, 3, 5, 7]\n",
    "\n",
    "print(tuple(premiers))"
   ]
  },
  {
   "cell_type": "code",
   "execution_count": 24,
   "id": "e30a4e59",
   "metadata": {},
   "outputs": [
    {
     "name": "stdout",
     "output_type": "stream",
     "text": [
      "('i', 'n', 'g', 'e', 'n', 'e', 'e', 'r')\n"
     ]
    }
   ],
   "source": [
    "# Tuple à partir d'une chaîne de caractères \n",
    "\n",
    "mot = 'ingeneer' \n",
    "\n",
    "print(tuple(mot))"
   ]
  }
 ],
 "metadata": {
  "kernelspec": {
   "display_name": "Python 3 (ipykernel)",
   "language": "python",
   "name": "python3"
  },
  "language_info": {
   "codemirror_mode": {
    "name": "ipython",
    "version": 3
   },
   "file_extension": ".py",
   "mimetype": "text/x-python",
   "name": "python",
   "nbconvert_exporter": "python",
   "pygments_lexer": "ipython3",
   "version": "3.11.7"
  }
 },
 "nbformat": 4,
 "nbformat_minor": 5
}
