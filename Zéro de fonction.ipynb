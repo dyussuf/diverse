{
 "cells": [
  {
   "cell_type": "markdown",
   "id": "bf6b5fb6",
   "metadata": {},
   "source": [
    "# Introduction\n",
    "\n",
    "Une valeur de $x$ solution de $f(x) = 0$ est appelée une racine ou un zéro de la fonction.\n",
    "\n",
    "On a appris au secondaire comment résoudre l’équation du second degré, certains ont également vu comment calculer les racines d’une équation du troisième ordre et se souviennent que la formule est beaucoup plus complexe. On peut aussi obtenir une formule générale pour le quatrième degré. Par contre, on ignore souvent qu’il n’existe pas de formule permettant de trouver les racines des polynômes de degré plus grand ou égal à 5. \n",
    "\n",
    "Puisqu’il n’existe pas de formule générale pour des fonctions aussi simples que des polynômes, il est peu probable que l’on puisse résoudre analytiquement l’équation $f(x)=0$ dans tous les cas qui nous intéressent. Il faudra donc recourir aux méthodes numériques pour une approximation des zéros d’une fonction qui consistent en la construction d’une suite $(x_n)_{n \\in \\mathbb{N}}$ qui converge vers $x^*$ l’un des zéros de la fonction.\n",
    "\n",
    "Pour l’utilisation pratique d’une telle méthode il faut introduire un critère d’arrêt pour interrompre le processus itératif lorsque l’approximation de $x^*$ par $x_n$ est jugée satisfaisante. Pour cela, il faut imposer une tolérance $\\epsilon > 0$ sur l’incrément : $|x_{n+1} − x_n | < \\epsilon$ ou sur le résidu :$|f(x_n)| < \\epsilon$."
   ]
  },
  {
   "cell_type": "markdown",
   "id": "d5f40c1c",
   "metadata": {},
   "source": [
    "# Méthode de dichotomie \n",
    "\n",
    "(dite aussi de bissection) est inspiré du théorème suivant :\n",
    "        \n",
    "$Théorème$\n",
    "\n",
    "Soit $f : [x_1, x_2] \\rightarrow \\mathbb{R}$ une fonction continue.\n",
    "\n",
    "Si $f(x_1)f(x_2) \\leq 0$, alors il existe $x_* \\in [x_1, x_2]$ tel que $f(x_*) = 0$. \n",
    "\n",
    "Si de plus $f$ est strictement monotone sur $[x_1, x_2]$, alors cette racine est unique.\n",
    "\n",
    "### Principe\n",
    "\n",
    "Étant donné un intervalle $[x1,x2]$ pour lequel $f(x)$ possède un changement de signe.\n",
    "\n",
    "À chaque itération, on réduit la longueur de l’intervalle contenant $x_*$ en le divisant en deux. Pour cela on calcule l'abscisse au milieu $x_m=\\frac{x_1+x_2}{2}$ et son image  $f(x_m)$ :\n",
    "\n",
    "- Si $f(x_1)f(x_m)<0$, alors $x_2=x_m$\n",
    "\n",
    "- Sinon, $f(x_m)f(x_2)<0$, alors $x_1=x_m$\n",
    "\n",
    "et on recherche sur le nouvel intervalle $[x_1, x_2]$ jusqu'à ce que :\n",
    "\n",
    "- le critère d'arrêt soit satisfait (convergence atteinte) et on renvoie le résultat trouvé.\n",
    "\n",
    "- le nombre d'itérations maximal soit atteint (convergence non atteinte)."
   ]
  },
  {
   "cell_type": "markdown",
   "id": "407317f2",
   "metadata": {},
   "source": [
    "### Interprétation géométrique\n",
    "\n",
    "<div>\n",
    "    <img src=\"illustration1.png\" width=\"500\"/>\n",
    "</div>"
   ]
  },
  {
   "cell_type": "code",
   "execution_count": 3,
   "id": "3d179142",
   "metadata": {},
   "outputs": [],
   "source": [
    "def dichotomie(f, mini, maxi, tolérance=1e-10):\n",
    "    nombre_itérarion = 0\n",
    "    milieu = (mini+maxi)/2\n",
    "    xn = []\n",
    "    while nombre_itérarion < 1000 and abs(maxi-mini)>tolérance :\n",
    "        nombre_itérarion += 1\n",
    "        xn.append(milieu)\n",
    "        if f(mini)*f(milieu)<0:\n",
    "            maxi = milieu\n",
    "        elif f(maxi)*f(milieu)<0:\n",
    "            mini = milieu\n",
    "        else :\n",
    "            break\n",
    "        milieu = (mini+maxi)/2\n",
    "    return xn"
   ]
  },
  {
   "cell_type": "markdown",
   "id": "e48488c6",
   "metadata": {},
   "source": [
    "### Exemple 1\n",
    "\n",
    "Soit $f_1(x) = (x-1)(x-2)(x-3)$ :"
   ]
  },
  {
   "cell_type": "code",
   "execution_count": 4,
   "id": "22b285c0",
   "metadata": {},
   "outputs": [],
   "source": [
    "def f1(x):\n",
    "    return (x-1)*(x-2)*(x-3)"
   ]
  },
  {
   "cell_type": "code",
   "execution_count": 5,
   "id": "18c82686",
   "metadata": {},
   "outputs": [
    {
     "data": {
      "image/png": "[encoded data removed]",
      "text/plain": [
       "<Figure size 640x480 with 1 Axes>"
      ]
     },
     "metadata": {},
     "output_type": "display_data"
    }
   ],
   "source": [
    "import matplotlib.pyplot as mpl\n",
    "import numpy as np\n",
    "\n",
    "x = np.linspace(0, 4, 100)\n",
    "mpl.plot(x, f1(x))\n",
    "mpl.grid()"
   ]
  },
  {
   "cell_type": "markdown",
   "id": "87a9c8c0",
   "metadata": {},
   "source": [
    "La fonction a clairement 3 racines 1, 2 et 3. En testant la méthode de dichotomie sur l'intervalle $[0, \\frac{3}{2}]$ où la fonction change de signe :"
   ]
  },
  {
   "cell_type": "code",
   "execution_count": 6,
   "id": "72c65ec9",
   "metadata": {},
   "outputs": [
    {
     "data": {
      "text/plain": [
       "[0.75,\n",
       " 1.125,\n",
       " 0.9375,\n",
       " 1.03125,\n",
       " 0.984375,\n",
       " 1.0078125,\n",
       " 0.99609375,\n",
       " 1.001953125,\n",
       " 0.9990234375,\n",
       " 1.00048828125,\n",
       " 0.999755859375,\n",
       " 1.0001220703125,\n",
       " 0.99993896484375,\n",
       " 1.000030517578125,\n",
       " 0.9999847412109375,\n",
       " 1.0000076293945312,\n",
       " 0.9999961853027344,\n",
       " 1.0000019073486328,\n",
       " 0.9999990463256836,\n",
       " 1.0000004768371582,\n",
       " 0.9999997615814209,\n",
       " 1.0000001192092896,\n",
       " 0.9999999403953552,\n",
       " 1.0000000298023224,\n",
       " 0.9999999850988388,\n",
       " 1.0000000074505806,\n",
       " 0.9999999962747097,\n",
       " 1.0000000018626451,\n",
       " 0.9999999990686774,\n",
       " 1.0000000004656613,\n",
       " 0.9999999997671694,\n",
       " 1.0000000001164153,\n",
       " 0.9999999999417923,\n",
       " 1.0000000000291038]"
      ]
     },
     "execution_count": 6,
     "metadata": {},
     "output_type": "execute_result"
    }
   ],
   "source": [
    "dichotomie(f1, 0, 1.5)"
   ]
  },
  {
   "cell_type": "markdown",
   "id": "3e376415",
   "metadata": {},
   "source": [
    "On constate que la suite converge vers la racine $1$ qui appartient à $[0, \\frac{3}{2}]$."
   ]
  },
  {
   "cell_type": "markdown",
   "id": "8be7f421",
   "metadata": {},
   "source": [
    "### Exemple 2\n",
    "\n",
    "On souhaite calculer $\\sqrt 2$. Cela revient à résoudre $f_2(x)=x^2 − 2 = 0$\n",
    "\n",
    "Cette fonction présente un changement de signe dans l’intervalle $[1 , 2]$ car $f_2(1)=-1<0$ et $f_2(2)=2>0$."
   ]
  },
  {
   "cell_type": "code",
   "execution_count": 7,
   "id": "66d7fd9d",
   "metadata": {},
   "outputs": [
    {
     "data": {
      "text/plain": [
       "[1.5,\n",
       " 1.25,\n",
       " 1.375,\n",
       " 1.4375,\n",
       " 1.40625,\n",
       " 1.421875,\n",
       " 1.4140625,\n",
       " 1.41796875,\n",
       " 1.416015625,\n",
       " 1.4150390625,\n",
       " 1.41455078125,\n",
       " 1.414306640625,\n",
       " 1.4141845703125,\n",
       " 1.41424560546875,\n",
       " 1.414215087890625,\n",
       " 1.4141998291015625,\n",
       " 1.4142074584960938,\n",
       " 1.4142112731933594,\n",
       " 1.4142131805419922,\n",
       " 1.4142141342163086,\n",
       " 1.4142136573791504,\n",
       " 1.4142134189605713,\n",
       " 1.4142135381698608,\n",
       " 1.4142135977745056,\n",
       " 1.4142135679721832,\n",
       " 1.414213553071022,\n",
       " 1.4142135605216026,\n",
       " 1.414213564246893,\n",
       " 1.4142135623842478,\n",
       " 1.4142135614529252,\n",
       " 1.4142135619185865,\n",
       " 1.4142135621514171,\n",
       " 1.4142135622678325,\n",
       " 1.4142135623260401]"
      ]
     },
     "execution_count": 7,
     "metadata": {},
     "output_type": "execute_result"
    }
   ],
   "source": [
    "def f2(x):\n",
    "    return x**2-2\n",
    "            \n",
    "dichotomie(f2, 1, 2)"
   ]
  },
  {
   "cell_type": "markdown",
   "id": "cee70265",
   "metadata": {},
   "source": [
    "## Convergence et divergence \n",
    "\n",
    "On remarque aisément que la longueur de l’intervalle entourant la racine est divisée par deux à chaque itération. Cette constatation permet de déterminer à l’avance le nombre d’itérations nécessaire pour obtenir une certaine erreur $|x^* - x_m|$ sur la racine.\n",
    "\n",
    "Si l’algorithme de dichotomie arrive jusqu’à l’étape $n$ alors on a l’estimation : $$|x^* − x_{m_n}| \\leq \\frac{x_2 − x_1}{2^{n}}$$\n",
    "\n",
    "Par conséquent, la suite $(x_{m_n})$ converge vers $x^*$, donc on peut choisir une valeur $\\epsilon > 0$, et on renvoie $x_{m_n}$ dès que $|x^* − x_{m_n}| < \\epsilon$\n",
    "\n",
    "La convergence de la méthode de la bissection n’est pas très rapide, mais elle est sûre à partir du moment où on a un intervalle avec changement de signe.\n",
    "\n",
    "Il existe des cas où la méthode de la bissection ne fonctionne pas. \n",
    "\n",
    "- La première situation critique est celle où $f(x)$ est tangente à l’axe des $x$ et ne présente donc pas de changement de signe. \n",
    "\n",
    "<div>\n",
    "    <img src=\"cp1d.png\" width=\"300\"/>\n",
    "</div>\n",
    "\n",
    "- Il y a aussi celle où deux racines (ou un nombre pair de racines) sont présentes dans l’intervalle de départ ; en ce cas, il n’y a toujours pas de changement de signe. \n",
    "\n",
    "<div>\n",
    "    <img src=\"cp2d.png\" width=\"300\"/>\n",
    "</div>\n",
    "\n",
    "- Enfin, si l’intervalle de départ contient un nombre impair de racines, $f(x)$ change de signe, mais l’algorithme peut avoir des difficultés à choisir parmi ces racines. On peut assez facilement éviter ces écueils en illustrant graphiquement $f(x)$ dans l’intervalle d’intérêt\n",
    "\n",
    "<div>\n",
    "    <img src=\"cp3d.png\" width=\"300\"/>\n",
    "</div>"
   ]
  },
  {
   "cell_type": "markdown",
   "id": "6f001f74",
   "metadata": {},
   "source": [
    "## Méthode de Newton-Raphson\n",
    "\n",
    "La méthode de $Newton-Raphson$ est l’une des méthodes les plus utilisées pour la résolution des équations non linéaires.\n",
    "\n",
    "### Principe\n",
    "\n",
    "Soit $f : [x_{min}, x_{max}] \\rightarrow \\mathbb{R}$ une fonction dérivable.\n",
    "\n",
    "Étant donné un point initial $(x_0, f(x_0))$, à chaque itération, on calcule $x_1 = x_0 − \\frac{f(x_0)}{f'(x_0)}$ qui représente l’abscisse du point d’intersection de la tangente de $f$ en $x_0$ avec l’axe des abscisses.\n",
    "\n",
    "On reprend ensuite le même raisonnement à partir du point $(x1,f(x1))$ et ainsi de suite jusqu'à ce que :\n",
    "\n",
    "- le critère d'arrêt soit satisfait (convergence atteinte) et on renvoie le résultat trouvé.\n",
    "\n",
    "- le nombre d'itérations maximal soit atteint (convergence non atteinte).\n"
   ]
  },
  {
   "cell_type": "markdown",
   "id": "657b01b8",
   "metadata": {},
   "source": [
    "Ce processus conduit à la définition d’une suite récurrente :\n",
    "\n",
    "$$\n",
    "\\left\\{\n",
    "    \\begin{array}{ll}\n",
    "        x_0 \\in [x_{min},x_{max}]\\\\\n",
    "        x_{n+1} = x_n − \\frac{f(x_n)}{f'(x_n)}\n",
    "    \\end{array}\n",
    "\\right.\n",
    "$$"
   ]
  },
  {
   "cell_type": "markdown",
   "id": "aaa678e4",
   "metadata": {},
   "source": [
    "### Interprétation géométrique\n",
    "\n",
    "<div>\n",
    "    <img src=\"illustration2.png\" width=\"500\"/>\n",
    "</div>"
   ]
  },
  {
   "cell_type": "markdown",
   "id": "e9935817",
   "metadata": {},
   "source": [
    "### Exemple 1\n",
    "\n",
    "On cherche à résoudre l’équation $f_3(x) = e^{−x} − x = 0$. Pour utiliser la méthode de $Newton-Raphson$, calculons la dérivée de cette fonction, qui est $f_3'(x) = −e^{−x} − 1$. L’algorithme se résume à :\n",
    "\n",
    "$$x_{n+1} = x_n − \\frac{f_3(x_n)}{f_3'(x_n)} = x_n − \\frac{e^{−x} −x}{−e^{−x} − 1}$$"
   ]
  },
  {
   "cell_type": "code",
   "execution_count": 28,
   "id": "46cc6b82",
   "metadata": {},
   "outputs": [
    {
     "data": {
      "text/plain": [
       "[0, 0.5, 0.5663110031972182, 0.5671431650348622]"
      ]
     },
     "execution_count": 28,
     "metadata": {},
     "output_type": "execute_result"
    }
   ],
   "source": [
    "def f3(x):\n",
    "    return np.exp(-x)-x\n",
    "\n",
    "def df3(x):\n",
    "    return -np.exp(-x)-1\n",
    "    \n",
    "def newton_raphson(f, df, x0):\n",
    "    nombre_itérarion = 0\n",
    "    xn = []\n",
    "    while nombre_itérarion < 1000 and abs(f(x0))>1e-10:\n",
    "        xn.append(x0)\n",
    "        nombre_itérarion += 1\n",
    "        x0 = x0 - f(x0)/df(x0)\n",
    "    return xn\n",
    "\n",
    "newton_raphson(f3, df3, 0)"
   ]
  },
  {
   "cell_type": "markdown",
   "id": "387a5d0f",
   "metadata": {},
   "source": [
    "### Exemple 2\n",
    "\n",
    "On reprend l’exemple où l’on doit calculer $\\sqrt 2$ en résolvant $f_2(x)=x^2-2=0$ :"
   ]
  },
  {
   "cell_type": "code",
   "execution_count": 9,
   "id": "13379842",
   "metadata": {},
   "outputs": [
    {
     "data": {
      "text/plain": [
       "[2, 1.5, 1.4166666666666667, 1.4142156862745099]"
      ]
     },
     "execution_count": 9,
     "metadata": {},
     "output_type": "execute_result"
    }
   ],
   "source": [
    "def f2(x):\n",
    "    return x**2-2\n",
    "\n",
    "def df2(x):\n",
    "    return 2*x\n",
    "\n",
    "newton_raphson(f2, df2, 2)"
   ]
  },
  {
   "cell_type": "markdown",
   "id": "6df4a7c0",
   "metadata": {},
   "source": [
    "On peut remarquer la convergence rapide de cette méthode.\n",
    "\n",
    "\n",
    "## Convergence et divergence \n",
    "\n",
    "La convergence de la méthode de $Newton-Raphson$ dépend de la valeur initiale $x_0$. Malgré ses belles propriétés de convergence, une mauvaise valeur initiale peut provoquer la divergence de cette méthode. Dans l’exemple de la figure, une valeur de $x_0$ plus près de la racine $r$ permettrait de retrouver la convergence.\n",
    "\n",
    "<div>\n",
    "    <img src=\"cpn.png\" width=\"500\"/>\n",
    "</div>"
   ]
  },
  {
   "cell_type": "markdown",
   "id": "08b07ab6",
   "metadata": {},
   "source": [
    "# TP\n",
    "\n",
    "***Exercice 1***\n",
    "\n",
    "1. Écrire une fonction $dichotomie(f, borne\\_min, borne\\_max, epsilon)$ qui renvoie une solution approchée de $f(x)=0$ sur l'intervalle $[borne\\_min, borne\\_max]$ avec une tolérance $epsilon$.\n",
    "\n",
    "\n",
    "2. Écrire et représenter graphiquement $f_1(x)= (x-3)(x+3)$ sur $[-5,5]$.\n",
    "\n",
    "\n",
    "3. Tester la fonction $dichotomie$ sur la fonction $f_1$ sur les intervalles $[-4,-1]$ et $[1,4]$ et comparer le résultat  renvoyé avec une solution analytique de $f_1(x) = 0$.\n",
    "\n",
    "4. Refaire le même travail avec la fonction $f_2(x) = sin(x)+sin(2x)+sin(3x)$ sur l’intervalle $[−\\pi, \\pi]$. On peut changer de bornes de l’intervalle chaque fois pour trouver toutes les solutions.\n",
    "\n",
    "***Exercice 2***\n",
    "\n",
    "1. Écrire une fonction $newton\\_raphson(f,df,x_0,epsilon)$ qui, à partir d'un point $x_0$, renvoie une solution approchée de $f(x)=0$ en utilisant sa dérivée $df$, avec une tolérance $epsilon$.\n",
    "\n",
    "6. Tester la fonction $newton\\_raphson$ avec $1$ et $-1$ comme points de départ sur $f_1$, et 3 et sur $f_2$ en calculant d’abord les dérivées."
   ]
  },
  {
   "cell_type": "code",
   "execution_count": 77,
   "id": "2943bf7e",
   "metadata": {},
   "outputs": [
    {
     "data": {
      "text/plain": [
       "[-2.5,\n",
       " -3.25,\n",
       " -2.875,\n",
       " -3.0625,\n",
       " -2.96875,\n",
       " -3.015625,\n",
       " -2.9921875,\n",
       " -3.00390625,\n",
       " -2.998046875,\n",
       " -3.0009765625,\n",
       " -2.99951171875,\n",
       " -3.000244140625,\n",
       " -2.9998779296875,\n",
       " -3.00006103515625,\n",
       " -2.999969482421875,\n",
       " -3.0000152587890625,\n",
       " -2.9999923706054688,\n",
       " -3.0000038146972656,\n",
       " -2.999998092651367,\n",
       " -3.0000009536743164,\n",
       " -2.999999523162842,\n",
       " -3.000000238418579,\n",
       " -2.9999998807907104,\n",
       " -3.0000000596046448,\n",
       " -2.9999999701976776,\n",
       " -3.000000014901161,\n",
       " -2.9999999925494194,\n",
       " -3.0000000037252903,\n",
       " -2.999999998137355,\n",
       " -3.0000000009313226,\n",
       " -2.9999999995343387,\n",
       " -3.0000000002328306,\n",
       " -2.9999999998835847,\n",
       " -3.0000000000582077,\n",
       " -2.999999999970896]"
      ]
     },
     "execution_count": 77,
     "metadata": {},
     "output_type": "execute_result"
    },
    {
     "data": {
      "image/png": "[encoded data removed]",
      "text/plain": [
       "<Figure size 640x480 with 1 Axes>"
      ]
     },
     "metadata": {},
     "output_type": "display_data"
    }
   ],
   "source": [
    "def f5(x):\n",
    "    return (x-3)*(x+3)\n",
    "\n",
    "def df5(x):\n",
    "    return 2*x+1\n",
    "\n",
    "x = np.linspace(-5, 5,100)\n",
    "mpl.plot(x, f5(x))\n",
    "mpl.grid()\n",
    "dichotomie(f5, -4, -1)\n",
    "#newton_raphson(f5,df5,-1)\n"
   ]
  },
  {
   "cell_type": "code",
   "execution_count": 114,
   "id": "82cf09ad",
   "metadata": {},
   "outputs": [
    {
     "data": {
      "text/plain": [
       "[]"
      ]
     },
     "execution_count": 114,
     "metadata": {},
     "output_type": "execute_result"
    },
    {
     "data": {
      "image/png": "[encoded data removed]",
      "text/plain": [
       "<Figure size 640x480 with 1 Axes>"
      ]
     },
     "metadata": {},
     "output_type": "display_data"
    }
   ],
   "source": [
    "def f4(x):\n",
    "    return np.sin(x)+np.sin(2*x)+np.sin(3*x)\n",
    "\n",
    "def df4(x):\n",
    "    return 6*np.cos(x)\n",
    "\n",
    "x = np.linspace(-np.pi, np.pi,100)\n",
    "mpl.plot(x, f4(x))\n",
    "mpl.grid()\n",
    "#dichotomie(f4, 1, 2)\n",
    "newton_raphson(f4,df4,0)"
   ]
  }
 ],
 "metadata": {
  "kernelspec": {
   "display_name": "Python 3 (ipykernel)",
   "language": "python",
   "name": "python3"
  },
  "language_info": {
   "codemirror_mode": {
    "name": "ipython",
    "version": 3
   },
   "file_extension": ".py",
   "mimetype": "text/x-python",
   "name": "python",
   "nbconvert_exporter": "python",
   "pygments_lexer": "ipython3",
   "version": "3.11.7"
  }
 },
 "nbformat": 4,
 "nbformat_minor": 5
}
