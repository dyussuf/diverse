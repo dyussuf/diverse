{
 "cells": [
  {
   "cell_type": "markdown",
   "id": "0268b879",
   "metadata": {},
   "source": [
    "# Énoncé\n",
    "\n",
    "**Exercice 1** \n",
    "\n",
    "Écrire un programme qui retourne la parité d'un nombre donné.\n",
    "\n",
    "**Exercice 2**\n",
    "\n",
    "1) Pour un nombre entier positif x, calculer la somme des entier consécutifs de 1 à x.\n",
    "2) Pour un nombre entier positif x, calculer sa factorielle.\n",
    "\n",
    "**Exercice 3**\n",
    "\n",
    "Écrire un programme pour :\n",
    "\n",
    "1) Demander à l'utilisateur d'entrer des notes tel que tant qu'il y a des notes supplémentaires, ajouter-les au total.\n",
    "2) Arrêter lorsque l'utilisateur saisit la valeur *-1*. \n",
    "3) Calculer leur moyenne et afficher *admis avec la mention* si la moyenne >= 10 et *non admis* sinon.\n",
    "\n",
    "\n",
    "**Exercice 4** \n",
    "\n",
    "L'ordinateur tire un nombre aléatoire entre 0 et 100, l'utilisateur doit le trouver et pour cela propose des valeurs. L'ordinateur indique pour chaque valeur proposée si la valeur est trop petite, trop grande ou s'il a trouvé.\n",
    "\n",
    "1) Écrire un programme pour jouer à ce jeu. En combien de coups est-on sûr de trouver?\n",
    "2) Modifier le programme pour qu'il s'arrête si l'utilisateur n'a pas trouvé au bout du nombre de coups de la question 2.\n",
    "\n",
    "**Exercice 5**\n",
    "\n",
    "1) Écrire un programme pour tester si un nombre est premier.\n",
    "2) Écrire un programme pour retourner tous les nombres premiers dans un interval donné.\n",
    "\n",
    "\n",
    "**Exercice 6** \n",
    "\n",
    "Écrire un programme qui, à partir d'un nombre entier positif, crée un triangle former des nombres tel que par exemple dans le cas de 10 :\n",
    "\n",
    "0  \n",
    "0  1  \n",
    "0  1  2  \n",
    "0  1  2  3  \n",
    "0  1  2  3  4  \n",
    "0  1  2  3  4  5  \n",
    "0  1  2  3  4  5  6  \n",
    "0  1  2  3  4  5  6  7  \n",
    "0  1  2  3  4  5  6  7  8  \n",
    "0  1  2  3  4  5  6  7  8  9  \n",
    "0  1  2  3  4  5  6  7  8  9  10\n"
   ]
  },
  {
   "cell_type": "markdown",
   "id": "ed2a7f64",
   "metadata": {},
   "source": [
    "# Résolution "
   ]
  },
  {
   "cell_type": "code",
   "execution_count": 4,
   "id": "b06b640d",
   "metadata": {},
   "outputs": [
    {
     "name": "stdout",
     "output_type": "stream",
     "text": [
      "le nombre 20\n",
      "est pair\n"
     ]
    }
   ],
   "source": [
    "# Exercice 1\n",
    "\n",
    "x = int(input(\"le nombre \"))\n",
    "\n",
    "if x%2 == 0:\n",
    "    print(\"est pair\")\n",
    "else:\n",
    "    print(\"est impair\")"
   ]
  },
  {
   "cell_type": "code",
   "execution_count": 6,
   "id": "b9d53525",
   "metadata": {},
   "outputs": [],
   "source": [
    "# Exercice 2"
   ]
  },
  {
   "cell_type": "code",
   "execution_count": 5,
   "id": "735dd7b0",
   "metadata": {},
   "outputs": [
    {
     "name": "stdout",
     "output_type": "stream",
     "text": [
      "le nombre 10\n",
      "la somme est 55\n"
     ]
    }
   ],
   "source": [
    "# 1\n",
    "\n",
    "x = int(input(\"le nombre \"))\n",
    "s = 0\n",
    "\n",
    "for i in range(1, x+1):\n",
    "    s += i\n",
    "\n",
    "print(\"la somme est\", s)"
   ]
  },
  {
   "cell_type": "code",
   "execution_count": 6,
   "id": "6d0eaef6",
   "metadata": {},
   "outputs": [
    {
     "name": "stdout",
     "output_type": "stream",
     "text": [
      "le nombre 5\n",
      "la factorielle est 120\n"
     ]
    }
   ],
   "source": [
    "# 2\n",
    "\n",
    "x = int(input(\"le nombre \"))\n",
    "f = 1\n",
    "\n",
    "if x>0 :\n",
    "    for i in range(2, x+1):\n",
    "        f *= i\n",
    "\n",
    "print(\"la factorielle est\", f)"
   ]
  },
  {
   "cell_type": "code",
   "execution_count": 23,
   "id": "ac937dad",
   "metadata": {},
   "outputs": [
    {
     "name": "stdout",
     "output_type": "stream",
     "text": [
      "la 1 première note 12\n",
      "la note suivante 13\n",
      "la note suivante 20\n",
      "la note suivante 19\n",
      "la note suivante -1\n",
      "la moyenne est 16.0 : admis avec la mention très bien.\n"
     ]
    }
   ],
   "source": [
    "# Exercice 3\n",
    "\n",
    "s = 0 #pour calculer la somme des notes\n",
    "nn = 0 #pour calculer le nombre des notes\n",
    "\n",
    "x = eval(input(\"la 1 première note \"))\n",
    "while x != -1:\n",
    "    s += x\n",
    "    nn += 1\n",
    "    x = eval(input(\"la note suivante \"))\n",
    "\n",
    "m = round(s/nn, 2)\n",
    "\n",
    "if m<10 :\n",
    "    print(\"la moyenne est\", m, \": non admis\")\n",
    "else:\n",
    "    print(\"la moyenne est\", m, \": admis avec la mention \", end=\"\")\n",
    "    if m<12:\n",
    "        print(\"passable.\")\n",
    "    elif m<14:\n",
    "        print(\"assez bien.\")\n",
    "    elif m<16:\n",
    "        print(\"bien.\")\n",
    "    elif m<18:\n",
    "        print(\"très bien.\")\n",
    "    else:\n",
    "        print(\"excellent.\")"
   ]
  },
  {
   "cell_type": "code",
   "execution_count": 10,
   "id": "fe6e6f7b",
   "metadata": {},
   "outputs": [
    {
     "name": "stdout",
     "output_type": "stream",
     "text": [
      "devinez ! 50\n",
      "ce nombre est plus grand !\n",
      "devinez ! 25\n",
      "ce nombre est plus petit !\n",
      "devinez ! 37\n",
      "ce nombre est plus petit !\n",
      "devinez ! 43\n",
      "ce nombre est plus grand !\n",
      "devinez ! 40\n",
      "excellent !\n"
     ]
    }
   ],
   "source": [
    "##### Exercice 4\n",
    "\n",
    "import random\n",
    "import math\n",
    "\n",
    "x=random.randint(0, 100)\n",
    "b = True          \n",
    "maximum = math.ceil((math.log2(101))) \n",
    "#la fonction ceil retourne le plus petit entier supérieur ou égal à un réel.\n",
    "\n",
    "for _ in range(maximum):\n",
    "    nombre = int(input(\"devinez ! \"))\n",
    "    if nombre == x:\n",
    "        print(\"excellent !\")\n",
    "        b = False         #il a trouvé le nombre alors on n'a pas besoin d'afficher partie terminée \n",
    "        break\n",
    "    elif nombre > x:\n",
    "        print(\"ce nombre est plus grand !\")\n",
    "    else:\n",
    "        print(\"ce nombre est plus petit !\")\n",
    "if b:\n",
    "    print(\"partie terminée !\")"
   ]
  },
  {
   "cell_type": "code",
   "execution_count": null,
   "id": "09457e25",
   "metadata": {},
   "outputs": [],
   "source": [
    "# Exercice 5"
   ]
  },
  {
   "cell_type": "code",
   "execution_count": 11,
   "id": "fc89567b",
   "metadata": {},
   "outputs": [
    {
     "name": "stdout",
     "output_type": "stream",
     "text": [
      "le nombre 77\n",
      "n'est pas premier.\n"
     ]
    }
   ],
   "source": [
    "# 1\n",
    "\n",
    "x=int(input(\"le nombre \")) # qui est > 1\n",
    "\n",
    "racine = int(math.sqrt(x))\n",
    "b = True\n",
    "for i in range(2, racine+1):\n",
    "    if x%i == 0:\n",
    "        print(\"n'est pas premier.\")\n",
    "        b = False\n",
    "        break\n",
    "if b:\n",
    "    print(\"est premier.\")"
   ]
  },
  {
   "cell_type": "code",
   "execution_count": 12,
   "id": "84f53e2d",
   "metadata": {},
   "outputs": [
    {
     "name": "stdout",
     "output_type": "stream",
     "text": [
      "entrez la borne inférieure > 1 : 3\n",
      "entrez la borne supérieure : 41\n",
      "3\n",
      "5\n",
      "7\n",
      "11\n",
      "13\n",
      "17\n",
      "19\n",
      "23\n",
      "29\n",
      "31\n",
      "37\n",
      "41\n"
     ]
    }
   ],
   "source": [
    "# 2\n",
    "\n",
    "inf=int(input(\"entrez la borne inférieure > 1 : \"))\n",
    "sup=int(input(\"entrez la borne supérieure : \"))\n",
    "\n",
    "for x in range(inf, sup+1):\n",
    "    racine = int(math.sqrt(x))\n",
    "    b = True\n",
    "    for i in range(2, racine+1):\n",
    "        if x%i == 0:\n",
    "            b = False\n",
    "            break\n",
    "    if b:\n",
    "        print(x)"
   ]
  },
  {
   "cell_type": "code",
   "execution_count": 21,
   "id": "e6a8aa1b",
   "metadata": {},
   "outputs": [
    {
     "name": "stdout",
     "output_type": "stream",
     "text": [
      "un nombre 5\n",
      "0 \n",
      "0 1 \n",
      "0 1 2 \n",
      "0 1 2 3 \n",
      "0 1 2 3 4 \n",
      "0 1 2 3 4 5 \n"
     ]
    }
   ],
   "source": [
    "# Exercice 6\n",
    "\n",
    "x = int(input(\"un nombre \"))\n",
    "\n",
    "for ligne in range(x+1):\n",
    "    for colonne in range(ligne+1):\n",
    "        print(colonne, end=\" \")\n",
    "    print()   #pour le retour à la ligne"
   ]
  }
 ],
 "metadata": {
  "kernelspec": {
   "display_name": "Python 3 (ipykernel)",
   "language": "python",
   "name": "python3"
  },
  "language_info": {
   "codemirror_mode": {
    "name": "ipython",
    "version": 3
   },
   "file_extension": ".py",
   "mimetype": "text/x-python",
   "name": "python",
   "nbconvert_exporter": "python",
   "pygments_lexer": "ipython3",
   "version": "3.11.7"
  }
 },
 "nbformat": 4,
 "nbformat_minor": 5
}
