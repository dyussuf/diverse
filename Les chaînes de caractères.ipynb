{
 "cells": [
  {
   "cell_type": "markdown",
   "id": "bb081be2",
   "metadata": {},
   "source": [
    "**str** (de *string*) est le type utilisé en Python pour traiter du texte. Un objet de ce type est actuellement une séquence de caractères, alors son traitement est presque similaire à celui d'un objet de type **liste**."
   ]
  },
  {
   "cell_type": "markdown",
   "id": "68586c0b",
   "metadata": {},
   "source": [
    "# Création \n",
    "\n",
    "Une variable de type chaîne de caractères peut être crée en mettant cette chaîne entre guillemets ou apostrophes :"
   ]
  },
  {
   "cell_type": "code",
   "execution_count": 25,
   "id": "9cc2e921",
   "metadata": {},
   "outputs": [],
   "source": [
    "texte = 'computer sciences'"
   ]
  },
  {
   "cell_type": "markdown",
   "id": "e833a2b0",
   "metadata": {},
   "source": [
    "On peut insérer des caractères spéciaux utilisés pour l’affichage comme :\n",
    "\n",
    "- **\\t** : tabulation.\n",
    "- **\\n** : retour à la ligne.\n",
    "- **\\r** : retour chariot. Il déplace le curseur d’impression au début de la même ligne en écrasant le texte précédent. Cela peut être utile pour écrire sur la même ligne de manière répétée. \n",
    "\n",
    "Ces caractères apparaissent tels quels dans la chaîne de caractères mais sont interprétés correctement à l’affichage :"
   ]
  },
  {
   "cell_type": "code",
   "execution_count": 26,
   "id": "d63cfe69",
   "metadata": {},
   "outputs": [
    {
     "name": "stdout",
     "output_type": "stream",
     "text": [
      "computer\tscience\n",
      "maths\n"
     ]
    }
   ],
   "source": [
    "texte = 'computer\\tscience\\nmaths'\n",
    "print(texte)"
   ]
  },
  {
   "cell_type": "code",
   "execution_count": 48,
   "id": "e55ec33b",
   "metadata": {},
   "outputs": [
    {
     "name": "stdout",
     "output_type": "stream",
     "text": [
      "Terminé !   \n"
     ]
    }
   ],
   "source": [
    "import time \n",
    " \n",
    "for i in range(5): \n",
    "    print(f\"Compteur : {i}\", end='\\r')\n",
    "    time.sleep(1)  # Pause pour une seconde\n",
    "\n",
    "print(\"Terminé !   \")"
   ]
  },
  {
   "cell_type": "markdown",
   "id": "9a023510",
   "metadata": {},
   "source": [
    "# Accès aux caractères"
   ]
  },
  {
   "cell_type": "code",
   "execution_count": 27,
   "id": "9029462a",
   "metadata": {},
   "outputs": [
    {
     "name": "stdout",
     "output_type": "stream",
     "text": [
      "Le premier caractère du texte : c\n",
      "Le deuxième caractère : o\n"
     ]
    }
   ],
   "source": [
    "#Par index positif (les index commencent à 0)\n",
    "\n",
    "print(\"Le premier caractère du texte :\" , texte[0])\n",
    "print(\"Le deuxième caractère :\" , texte[1])  "
   ]
  },
  {
   "cell_type": "code",
   "execution_count": 28,
   "id": "ef9e2209",
   "metadata": {},
   "outputs": [
    {
     "name": "stdout",
     "output_type": "stream",
     "text": [
      "Le dernier caractère du texte : s\n",
      "L'avant dernier : h\n"
     ]
    }
   ],
   "source": [
    "#Par index négatif pour accéder aux éléments à partir de la fin\n",
    "\n",
    "print(\"Le dernier caractère du texte :\", texte[-1])  \n",
    "print(\"L'avant dernier :\", texte[-2])  "
   ]
  },
  {
   "cell_type": "markdown",
   "id": "df83f8b8",
   "metadata": {},
   "source": [
    "# Opérations sur les chaînes de caractères "
   ]
  },
  {
   "cell_type": "markdown",
   "id": "bcc15166",
   "metadata": {},
   "source": [
    "***IMPORTANT*** : Un objet de type chaîne de caractères est immuable ce qui veut dire qu’on ne peut pas le modifier : "
   ]
  },
  {
   "cell_type": "code",
   "execution_count": 29,
   "id": "ce6f82cb",
   "metadata": {},
   "outputs": [
    {
     "ename": "TypeError",
     "evalue": "'str' object does not support item assignment",
     "output_type": "error",
     "traceback": [
      "\u001b[0;31m---------------------------------------------------------------------------\u001b[0m",
      "\u001b[0;31mTypeError\u001b[0m                                 Traceback (most recent call last)",
      "Cell \u001b[0;32mIn[29], line 1\u001b[0m\n\u001b[0;32m----> 1\u001b[0m texte[\u001b[38;5;241m0\u001b[39m]\u001b[38;5;241m=\u001b[39m\u001b[38;5;124m'\u001b[39m\u001b[38;5;124mx\u001b[39m\u001b[38;5;124m'\u001b[39m\n",
      "\u001b[0;31mTypeError\u001b[0m: 'str' object does not support item assignment"
     ]
    }
   ],
   "source": [
    "texte[0]='x'"
   ]
  },
  {
   "cell_type": "code",
   "execution_count": 30,
   "id": "687c5482",
   "metadata": {
    "colab": {
     "base_uri": "https://localhost:8080/",
     "height": 35
    },
    "colab_type": "code",
    "id": "kMAwIxOpeumr",
    "outputId": "49c5c01f-947f-47fe-eff9-588a1c97e20f"
   },
   "outputs": [
    {
     "data": {
      "text/plain": [
       "'ingeneering'"
      ]
     },
     "execution_count": 30,
     "metadata": {},
     "output_type": "execute_result"
    }
   ],
   "source": [
    "texte1 = 'ingeneer'\n",
    "texte2 = 'ing'\n",
    "\n",
    "# Concaténation\n",
    "texte = texte1+texte2\n",
    "texte"
   ]
  },
  {
   "cell_type": "code",
   "execution_count": 31,
   "id": "6c036b70",
   "metadata": {
    "scrolled": true
   },
   "outputs": [
    {
     "data": {
      "text/plain": [
       "'ingeneeringingeneeringingeneering'"
      ]
     },
     "execution_count": 31,
     "metadata": {},
     "output_type": "execute_result"
    }
   ],
   "source": [
    "# Répétition\n",
    "3*texte"
   ]
  },
  {
   "cell_type": "code",
   "execution_count": 32,
   "id": "7dc0270a",
   "metadata": {},
   "outputs": [
    {
     "data": {
      "text/plain": [
       "True"
      ]
     },
     "execution_count": 32,
     "metadata": {},
     "output_type": "execute_result"
    }
   ],
   "source": [
    "# Teste d'appartenance\n",
    "'g' in texte"
   ]
  },
  {
   "cell_type": "markdown",
   "id": "d9622409",
   "metadata": {},
   "source": [
    "# Parcours d'une chaîne de caractères "
   ]
  },
  {
   "cell_type": "code",
   "execution_count": 33,
   "id": "8c939eee",
   "metadata": {},
   "outputs": [
    {
     "name": "stdout",
     "output_type": "stream",
     "text": [
      "i\n",
      "n\n",
      "g\n",
      "e\n",
      "n\n",
      "e\n",
      "e\n",
      "r\n"
     ]
    }
   ],
   "source": [
    "texte = 'ingeneer'\n",
    "# Parcours par valeur\n",
    "for x in texte:\n",
    "    print(x)"
   ]
  },
  {
   "cell_type": "code",
   "execution_count": 34,
   "id": "75a7493d",
   "metadata": {},
   "outputs": [
    {
     "name": "stdout",
     "output_type": "stream",
     "text": [
      "i\n",
      "n\n",
      "g\n",
      "e\n",
      "n\n",
      "e\n",
      "e\n",
      "r\n"
     ]
    }
   ],
   "source": [
    "# Parcours par index\n",
    "for i in range(len(texte)):\n",
    "    print(texte[i])"
   ]
  },
  {
   "cell_type": "code",
   "execution_count": 35,
   "id": "f17445b0",
   "metadata": {},
   "outputs": [
    {
     "name": "stdout",
     "output_type": "stream",
     "text": [
      "0 : i\n",
      "1 : n\n",
      "2 : g\n",
      "3 : e\n",
      "4 : n\n",
      "5 : e\n",
      "6 : e\n",
      "7 : r\n"
     ]
    }
   ],
   "source": [
    "# Par les deux en même temps\n",
    "for i, x in enumerate(texte):\n",
    "    print(i, \":\", x)"
   ]
  },
  {
   "cell_type": "markdown",
   "id": "06fd50c6",
   "metadata": {},
   "source": [
    "# Quelques méthodes\n",
    "\n",
    "Avec le mot $méthode$ on parle d'une fonction spécifique d'un type donné. Comme on a vu, le type **list** dispose de plusieurs méthodes, de même pour le type **string**. Cependant, les deux types partagent plusieurs fonctions, comme celle du calcul de la longueur.\n",
    "    \n",
    "- ***texte.upper()*** : Renvoie le texte en majuscules.\n",
    "- ***texte.lower()*** : Renvoie le texte en minuscules. \n",
    "- ***texte.split('x')*** : Renvoie une liste contenant des sous chaînes séparées par 'x' (espace par défaut) dans la chaîne. \n",
    "- ***'x'.join(liste)*** : Renvoie une chaîne de caractères en joignant les éléments de la liste par 'x'. \n",
    "- ***texte.find(sous-texte)*** : Renvoie la position du début de la première occurence du sous-texte et -1 en cas d'absence."
   ]
  },
  {
   "cell_type": "code",
   "execution_count": 36,
   "id": "2f89e380",
   "metadata": {},
   "outputs": [
    {
     "data": {
      "text/plain": [
       "'COMPUTER'"
      ]
     },
     "execution_count": 36,
     "metadata": {},
     "output_type": "execute_result"
    }
   ],
   "source": [
    "'computer'.upper()"
   ]
  },
  {
   "cell_type": "code",
   "execution_count": 37,
   "id": "e98ad146",
   "metadata": {},
   "outputs": [
    {
     "data": {
      "text/plain": [
       "'computer'"
      ]
     },
     "execution_count": 37,
     "metadata": {},
     "output_type": "execute_result"
    }
   ],
   "source": [
    "'COMPUTER'.lower()"
   ]
  },
  {
   "cell_type": "code",
   "execution_count": 38,
   "id": "1e14b83f",
   "metadata": {},
   "outputs": [
    {
     "data": {
      "text/plain": [
       "['computer', 'science']"
      ]
     },
     "execution_count": 38,
     "metadata": {},
     "output_type": "execute_result"
    }
   ],
   "source": [
    "texte = 'computer science'\n",
    "texte.split()"
   ]
  },
  {
   "cell_type": "code",
   "execution_count": 39,
   "id": "5875000c",
   "metadata": {},
   "outputs": [
    {
     "data": {
      "text/plain": [
       "['', '1', '2', '3', '']"
      ]
     },
     "execution_count": 39,
     "metadata": {},
     "output_type": "execute_result"
    }
   ],
   "source": [
    "texte = 'x1x2x3x'\n",
    "texte.split('x')"
   ]
  },
  {
   "cell_type": "code",
   "execution_count": 44,
   "id": "030e4e61",
   "metadata": {},
   "outputs": [
    {
     "data": {
      "text/plain": [
       "'x1x2x3x'"
      ]
     },
     "execution_count": 44,
     "metadata": {},
     "output_type": "execute_result"
    }
   ],
   "source": [
    "liste=['', '1', '2', '3', '']\n",
    "'x'.join(liste)"
   ]
  },
  {
   "cell_type": "code",
   "execution_count": 42,
   "id": "ad335592",
   "metadata": {},
   "outputs": [
    {
     "data": {
      "text/plain": [
       "4"
      ]
     },
     "execution_count": 42,
     "metadata": {},
     "output_type": "execute_result"
    }
   ],
   "source": [
    "texte.find('x3')"
   ]
  },
  {
   "cell_type": "markdown",
   "id": "5e573429",
   "metadata": {},
   "source": [
    "# Tranchage (Slicing)\n",
    "\n",
    "Pour trancher une chaîne de caractères, on utilise les mêmes techniques vues précédemment dans le cas d'une liste."
   ]
  },
  {
   "cell_type": "code",
   "execution_count": null,
   "id": "56a99e88",
   "metadata": {},
   "outputs": [],
   "source": [
    "texte = '1x2x3x4x5x6x7'\n",
    "\n",
    "texte[1:7:1]"
   ]
  },
  {
   "cell_type": "code",
   "execution_count": null,
   "id": "8f946c5c",
   "metadata": {},
   "outputs": [],
   "source": [
    "texte[::] #les valeurs par défaut pour le début, la fin et le pas sont respectivement 0, la longueur de la liste et 1"
   ]
  },
  {
   "cell_type": "code",
   "execution_count": null,
   "id": "c32e031f",
   "metadata": {},
   "outputs": [],
   "source": [
    "texte[::2] #pour un pas positif, le début = 0 et la fin = la longueur de la liste."
   ]
  },
  {
   "cell_type": "code",
   "execution_count": null,
   "id": "a82b82b8",
   "metadata": {},
   "outputs": [],
   "source": [
    "texte[::-2] #et pour un pas négatif, le début = la longueur de la liste et la fin = 0."
   ]
  },
  {
   "cell_type": "code",
   "execution_count": null,
   "id": "d8184eb3",
   "metadata": {},
   "outputs": [],
   "source": [
    "texte[6:0:-1]"
   ]
  },
  {
   "cell_type": "code",
   "execution_count": null,
   "id": "b384074f",
   "metadata": {},
   "outputs": [],
   "source": [
    "texte[0:6:-1]"
   ]
  }
 ],
 "metadata": {
  "kernelspec": {
   "display_name": "Python 3 (ipykernel)",
   "language": "python",
   "name": "python3"
  },
  "language_info": {
   "codemirror_mode": {
    "name": "ipython",
    "version": 3
   },
   "file_extension": ".py",
   "mimetype": "text/x-python",
   "name": "python",
   "nbconvert_exporter": "python",
   "pygments_lexer": "ipython3",
   "version": "3.11.7"
  }
 },
 "nbformat": 4,
 "nbformat_minor": 5
}
