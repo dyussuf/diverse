{
 "cells": [
  {
   "cell_type": "markdown",
   "id": "348db48b",
   "metadata": {},
   "source": [
    "# Introduction \n",
    "\n",
    "Il existe bien des moyens de présenter les sorties d’un programmes; les résultats peuvent être affichés directement sur l'écran ou sauvegardées dans un fichier pour une utilisation future. \n",
    "\n",
    "Il existe généralement  deux types de fichiers : \n",
    "\n",
    "- les fichiers textes qui contiennent une suite lisible de caractères.\n",
    "\n",
    "- les fichiers binaires qui contiennent généralement une suite de bits, non lisible directement, destinés à être interprétés comme autre chose que des caractères de texte comme d'images, de sons, ... \n",
    "\n",
    "On s'intéresse à la manipulation des fichiers texte."
   ]
  },
  {
   "cell_type": "markdown",
   "id": "d5c1e64a",
   "metadata": {},
   "source": [
    "## Ouverture et fermeture de fichier\n",
    "\n",
    "Tout fichier doit être ouvert avant de pouvoir accéder à son contenu en lecture et écriture.\n",
    "\n",
    "La fonction open() renvoie un objet fichier en utilisant deux arguments : le chemin du fichier et le mode de lecture.\n",
    "\n",
    "- Le premier argument est une chaîne de caractères représentant le chemin du fichier (son emplacement dans la structure de système de fichiers).\n",
    "- Le deuxième argument est un caractère décrivant la façon dont le fichier est utilisé. Ce mode peut être :\n",
    "      \n",
    "      -'r' : (read) en lecture seulement (valeur par défaut);\n",
    "      -'w' : (write) en écriture seulement en écrasant l'existant. Si le fichier n’existe pas, il sera créé;\n",
    "      -'a' : (append) en écriture seulement à la fin du fichier. Si le fichier n’existe pas, il sera créé. \n",
    "      -'x' : en création exclusive, pour prévenir l'écrasement.\n",
    "\n",
    "Pour fermer le fichier afin d'exploiter sa mise à jour et libérer les ressources système qu’il utilise on doit appeler la fonction $close()$.\n",
    "\n",
    "# Méthodes des objets fichiers\n",
    "\n",
    "## Lecture\n",
    "\n",
    "Pour lire le contenu d’un fichier, on utilise la fonction $read(taille)$ : elle renvoie $taille$ octets de données  sous la forme d’une chaîne de caractères. Quand le paramètre $taille$ est omis, le contenu entier du fichier est lu et donné. \n",
    "\n",
    "### Exemple"
   ]
  },
  {
   "cell_type": "code",
   "execution_count": 66,
   "id": "0dc4623d",
   "metadata": {},
   "outputs": [
    {
     "name": "stdout",
     "output_type": "stream",
     "text": [
      "first\n",
      "second\n",
      "third\n"
     ]
    }
   ],
   "source": [
    "# Ouverture\n",
    "\n",
    "mon_fichier = open('Proverbes.text', 'r')\n",
    "\n",
    "# Lecture du contenu entier\n",
    "contenu = mon_fichier.read()\n",
    "\n",
    "mon_fichier.close()\n",
    "\n",
    "print(contenu)"
   ]
  },
  {
   "cell_type": "markdown",
   "id": "ced24371",
   "metadata": {},
   "source": [
    "Pour lire une seule ligne du fichier on utilise la fonction $readline()$ qui, à chaque appel, renvoie la ligne suivante. Lorsque la fin du fichier est atteinte, la fonction renvoie une chaîne de caractères vide ''.\n",
    "\n",
    "### Exemple"
   ]
  },
  {
   "cell_type": "code",
   "execution_count": 42,
   "id": "1cb91308",
   "metadata": {},
   "outputs": [
    {
     "name": "stdout",
     "output_type": "stream",
     "text": [
      "Première ligne :  first\n",
      "\n",
      "Deuxième :  second\n",
      "\n",
      "Troisième :  third\n",
      "\n",
      "Quatrième :  \n"
     ]
    }
   ],
   "source": [
    "mon_fichier = open('Proverbes.text', 'r')\n",
    "\n",
    "ligne1 = mon_fichier.readline()\n",
    "ligne2 = mon_fichier.readline()\n",
    "ligne3 = mon_fichier.readline()\n",
    "ligne4 = mon_fichier.readline()\n",
    "\n",
    "mon_fichier.close()\n",
    "\n",
    "print(\"Première ligne : \", ligne1)\n",
    "print(\"Deuxième : \", ligne2)\n",
    "print(\"Troisième : \", ligne3)\n",
    "print(\"Quatrième : \", ligne4)"
   ]
  },
  {
   "cell_type": "markdown",
   "id": "9ecaaa15",
   "metadata": {},
   "source": [
    "Pour construire une liste avec toutes les lignes d’un fichier, il suffit d'utiliser la fonction $readlines()$, Ainsi, on peut itérer sur les lignes à travers cette liste.\n",
    "\n",
    "### Exemple"
   ]
  },
  {
   "cell_type": "code",
   "execution_count": 57,
   "id": "360c305f",
   "metadata": {},
   "outputs": [
    {
     "name": "stdout",
     "output_type": "stream",
     "text": [
      "first\n",
      "\n",
      "second\n",
      "\n",
      "third\n",
      "\n"
     ]
    }
   ],
   "source": [
    "mon_fichier = open('Proverbes.text', 'r')\n",
    "\n",
    "lignes = mon_fichier.readlines()\n",
    "\n",
    "mon_fichier.close()\n",
    "\n",
    "for ligne in lignes:\n",
    "    print(ligne)"
   ]
  },
  {
   "cell_type": "markdown",
   "id": "dc4db74a",
   "metadata": {},
   "source": [
    "## Écriture \n",
    "\n",
    "La fonction $write(contenu)$ écrit la chaîne de caractères $contenu$ dans le fichier et renvoie le nombre de caractères écrits.\n",
    "\n",
    "### Exemple"
   ]
  },
  {
   "cell_type": "code",
   "execution_count": 60,
   "id": "ec81ec41",
   "metadata": {},
   "outputs": [],
   "source": [
    "mon_fichier = open('Proverbes.text', 'w')\n",
    "\n",
    "mon_fichier.write('first\\nsecond')\n",
    "\n",
    "mon_fichier.close()"
   ]
  },
  {
   "cell_type": "markdown",
   "id": "d47552c3",
   "metadata": {},
   "source": [
    "Pour écrire plusieurs lignes on utilise la fonction $writelines(liste\\_lignes)$ qui prend la liste de lignes à écrire marquer de ***\\n*** à la fin."
   ]
  },
  {
   "cell_type": "code",
   "execution_count": 61,
   "id": "50c372ed",
   "metadata": {},
   "outputs": [],
   "source": [
    "mon_fichier = open('Proverbes.text', 'w')\n",
    "\n",
    "mon_fichier.writelines(['first\\n', 'second\\n', 'third\\n'])\n",
    "\n",
    "mon_fichier.close()"
   ]
  },
  {
   "cell_type": "markdown",
   "id": "d277ff1b",
   "metadata": {},
   "source": [
    "Dans le cas d'une grande liste de lignes sans ***\\n*** et pour faciliter, on peut recourir à la méthode $join$ en utilisant ***\\n*** comme séparateur :"
   ]
  },
  {
   "cell_type": "code",
   "execution_count": 63,
   "id": "0c44f2da",
   "metadata": {},
   "outputs": [],
   "source": [
    "liste_lignes = ['first', 'second', 'third']\n",
    " \n",
    "mon_fichier = open('Proverbes.text', 'w')\n",
    "\n",
    "mon_fichier.write('\\n'.join(liste_lignes))\n",
    "\n",
    "mon_fichier.close()"
   ]
  },
  {
   "cell_type": "markdown",
   "id": "76fb8bc3",
   "metadata": {},
   "source": [
    "1. Créer une fonction $ajouter\\_article(code, label, prix)$ qui ajoute un article à la fin du fichier $articles$.\n",
    "\n",
    "2. Ajouter les articles suivants :\n",
    "\n",
    "3. Écrire une fonction $article(commande, code, quantité)$ qui renvoie le prix d'un article par son label.\n",
    "\n",
    "4. Écrire une fonction $facture(commande))$ qui renvoie la facture d'une commande sous pdf"
   ]
  }
 ],
 "metadata": {
  "kernelspec": {
   "display_name": "Python 3 (ipykernel)",
   "language": "python",
   "name": "python3"
  },
  "language_info": {
   "codemirror_mode": {
    "name": "ipython",
    "version": 3
   },
   "file_extension": ".py",
   "mimetype": "text/x-python",
   "name": "python",
   "nbconvert_exporter": "python",
   "pygments_lexer": "ipython3",
   "version": "3.11.7"
  }
 },
 "nbformat": 4,
 "nbformat_minor": 5
}
