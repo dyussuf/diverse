{
 "cells": [
  {
   "cell_type": "markdown",
   "id": "348db48b",
   "metadata": {},
   "source": [
    "# Introduction \n",
    "\n",
    "Un fichier peut être vu comme un ensemble de bits stockés dans la mémoire pour une utilisation future et qui sont interprétés selon le type de fichier.\n",
    "\n",
    "Il existe généralement deux types de fichiers : \n",
    "\n",
    "- les fichiers textes qui contiennent une suite lisible de caractères.\n",
    "\n",
    "- les fichiers binaires qui contiennent généralement une suite de bits, non lisible directement, destinés à être interprétés comme autre chose que des caractères de texte comme d'images, de sons, d'exécutables, ... \n",
    "\n",
    "On s'intéresse à la manipulation des fichiers texte qui peuvent être utilisés pour sauvegarder les résultats d'un programme pour une utilisation future."
   ]
  },
  {
   "cell_type": "markdown",
   "id": "d5c1e64a",
   "metadata": {},
   "source": [
    "# Ouverture et fermeture de fichier\n",
    "\n",
    "Tout fichier doit être ouvert avant de pouvoir accéder à son contenu en lecture et écriture.\n",
    "\n",
    "La fonction $open(chemin\\_fichier, mode)$ renvoie un objet fichier en utilisant deux arguments :\n",
    "\n",
    "- Le premier est une chaîne de caractères représentant le chemin du fichier qui peut être :\n",
    "\n",
    "     - ***relatif*** : basé sur le répertoire courant (généralement là où se trouve le programme en exécution).\n",
    "      \n",
    "     - ***absolu*** : emplacement dans la structure de système de fichiers, depuis la racine.\n",
    "\n",
    "- Le deuxième argument est un caractère décrivant la façon dont le fichier est utilisé. Ce mode peut être :\n",
    "      \n",
    "     - ***'r'*** : ($read$) en lecture seulement (valeur par défaut);\n",
    "      \n",
    "     - ***'w'*** : ($write$) en écriture seulement en écrasant l'existant. Si le fichier n’existe pas, il sera créé;\n",
    "      \n",
    "     - ***'a'*** : ($append$) en écriture seulement à la fin du fichier. Si le fichier n’existe pas, il sera créé;\n",
    "      \n",
    "     - ***'x'*** : en création exclusive, pour prévenir l'écrasement ou l'ajout.\n",
    "\n",
    "Pour fermer le fichier afin d'exploiter sa mise à jour et libérer les ressources système qu’il utilise on doit appeler la fonction $close()$.\n",
    "\n",
    "## Exemple"
   ]
  },
  {
   "cell_type": "code",
   "execution_count": 1,
   "id": "cac8a9ba",
   "metadata": {},
   "outputs": [],
   "source": [
    "# En utilisant un chemin relatif, le fichier se trouve dans le même répertoire du programme\n",
    "\n",
    "mon_fichier = open('todo.txt', 'r')\n",
    "mon_fichier.close()"
   ]
  },
  {
   "cell_type": "code",
   "execution_count": 2,
   "id": "5c6a25dd",
   "metadata": {},
   "outputs": [
    {
     "name": "stdout",
     "output_type": "stream",
     "text": [
      "/Users/yussuf\n"
     ]
    }
   ],
   "source": [
    "# En utilisant un chemin absolu que l'on peut obtenir en utilisant la fonction getcwd() du module os\n",
    "\n",
    "import os\n",
    "print(os.getcwd())"
   ]
  },
  {
   "cell_type": "code",
   "execution_count": 3,
   "id": "5c6610b6",
   "metadata": {},
   "outputs": [],
   "source": [
    "mon_fichier = open('/Users/yussuf/todo.txt', 'r')\n",
    "mon_fichier.close()"
   ]
  },
  {
   "cell_type": "markdown",
   "id": "f4807780",
   "metadata": {},
   "source": [
    "# Méthodes des objets fichiers\n",
    "\n",
    "## Lecture\n",
    "\n",
    "Pour lire le contenu d’un fichier, on utilise la fonction $read(taille)$ : elle renvoie $taille$ octets de données  sous la forme d’une chaîne de caractères. Quand le paramètre $taille$ est omis, le contenu entier du fichier est lu et donné. \n",
    "\n",
    "### Exemple"
   ]
  },
  {
   "cell_type": "code",
   "execution_count": 4,
   "id": "0dc4623d",
   "metadata": {},
   "outputs": [
    {
     "name": "stdout",
     "output_type": "stream",
     "text": [
      "Acheter du pain\n",
      "Arroser les plantes\n",
      "Payer la facture d'eau et d’électricité\n",
      "\n"
     ]
    }
   ],
   "source": [
    "# Ouverture\n",
    "\n",
    "mon_fichier = open('todo.txt', 'r')\n",
    "\n",
    "# Lecture du contenu entier\n",
    "contenu = mon_fichier.read()\n",
    "\n",
    "mon_fichier.close()\n",
    "\n",
    "print(contenu)"
   ]
  },
  {
   "cell_type": "markdown",
   "id": "ced24371",
   "metadata": {},
   "source": [
    "Pour lire une seule ligne du fichier on utilise la fonction $readline()$ qui, à chaque appel, renvoie la ligne suivante. Lorsque la fin du fichier est atteinte, la fonction renvoie une chaîne de caractères vide ''.\n",
    "\n",
    "### Exemple"
   ]
  },
  {
   "cell_type": "code",
   "execution_count": 5,
   "id": "1cb91308",
   "metadata": {},
   "outputs": [
    {
     "name": "stdout",
     "output_type": "stream",
     "text": [
      "Première ligne :  Acheter du pain\n",
      "\n",
      "Deuxième :  Arroser les plantes\n",
      "\n",
      "Troisième :  Payer la facture d'eau et d’électricité\n",
      "\n",
      "Quatrième :  \n"
     ]
    }
   ],
   "source": [
    "mon_fichier = open('todo.txt', 'r')\n",
    "\n",
    "ligne1 = mon_fichier.readline()\n",
    "ligne2 = mon_fichier.readline()\n",
    "ligne3 = mon_fichier.readline()\n",
    "ligne4 = mon_fichier.readline()\n",
    "\n",
    "\n",
    "mon_fichier.close()\n",
    "\n",
    "print(\"Première ligne : \", ligne1)\n",
    "print(\"Deuxième : \", ligne2)\n",
    "print(\"Troisième : \", ligne3)\n",
    "print(\"Quatrième : \", ligne4)"
   ]
  },
  {
   "cell_type": "markdown",
   "id": "9ecaaa15",
   "metadata": {},
   "source": [
    "Pour construire une liste avec toutes les lignes d’un fichier, il suffit d'utiliser la fonction $readlines()$. Ainsi, on peut itérer sur les lignes à travers cette liste.\n",
    "\n",
    "### Exemple"
   ]
  },
  {
   "cell_type": "code",
   "execution_count": 6,
   "id": "360c305f",
   "metadata": {},
   "outputs": [
    {
     "name": "stdout",
     "output_type": "stream",
     "text": [
      "Acheter du pain\n",
      "\n",
      "Arroser les plantes\n",
      "\n",
      "Payer la facture d'eau et d’électricité\n",
      "\n"
     ]
    }
   ],
   "source": [
    "mon_fichier = open('todo.txt', 'r')\n",
    "\n",
    "lignes = mon_fichier.readlines()\n",
    "\n",
    "mon_fichier.close()\n",
    "\n",
    "for ligne in lignes:\n",
    "    print(ligne)"
   ]
  },
  {
   "cell_type": "markdown",
   "id": "dc4db74a",
   "metadata": {},
   "source": [
    "## Écriture \n",
    "\n",
    "La fonction $write(contenu)$ écrit la chaîne de caractères $contenu$ dans le fichier et renvoie le nombre de caractères écrits.\n",
    "\n",
    "### Exemple"
   ]
  },
  {
   "cell_type": "code",
   "execution_count": 7,
   "id": "ec81ec41",
   "metadata": {},
   "outputs": [],
   "source": [
    "mon_fichier = open('todo.txt', 'a')\n",
    "\n",
    "mon_fichier.write('Réserver le billet de train')\n",
    "\n",
    "mon_fichier.close()"
   ]
  },
  {
   "cell_type": "code",
   "execution_count": 8,
   "id": "1163c2de",
   "metadata": {},
   "outputs": [
    {
     "name": "stdout",
     "output_type": "stream",
     "text": [
      "Acheter du pain\n",
      "Arroser les plantes\n",
      "Payer la facture d'eau et d’électricité\n",
      "Réserver le billet de train\n"
     ]
    }
   ],
   "source": [
    "mon_fichier = open('todo.txt', 'r')\n",
    "\n",
    "contenu = mon_fichier.read()\n",
    "\n",
    "mon_fichier.close()\n",
    "\n",
    "print(contenu)"
   ]
  },
  {
   "cell_type": "markdown",
   "id": "d47552c3",
   "metadata": {},
   "source": [
    "Pour écrire plusieurs lignes on utilise la fonction $writelines(liste\\_lignes)$ qui prend la liste de lignes à écrire marquer de ***\\\\n*** à la fin."
   ]
  },
  {
   "cell_type": "code",
   "execution_count": 9,
   "id": "50c372ed",
   "metadata": {},
   "outputs": [],
   "source": [
    "mon_fichier = open('todo.txt', 'w')\n",
    "\n",
    "mon_fichier.writelines(['Regarder le documentaire Planète Terre\\n', 'Acheter du lait\\n', 'Imprimer le document X\\n'])\n",
    "\n",
    "mon_fichier.close()"
   ]
  },
  {
   "cell_type": "code",
   "execution_count": 10,
   "id": "f24fa8a9",
   "metadata": {},
   "outputs": [
    {
     "name": "stdout",
     "output_type": "stream",
     "text": [
      "Regarder le documentaire Planète Terre\n",
      "Acheter du lait\n",
      "Imprimer le document X\n",
      "\n"
     ]
    }
   ],
   "source": [
    "mon_fichier = open('todo.txt', 'r')\n",
    "\n",
    "contenu = mon_fichier.read()\n",
    "\n",
    "mon_fichier.close()\n",
    "\n",
    "print(contenu)"
   ]
  },
  {
   "cell_type": "markdown",
   "id": "d277ff1b",
   "metadata": {},
   "source": [
    "Dans le cas d'une grande liste de lignes sans ***\\\\n*** et pour faciliter, on peut recourir à la méthode $join$ en utilisant ***\\\\n*** comme séparateur :"
   ]
  },
  {
   "cell_type": "code",
   "execution_count": 11,
   "id": "0c44f2da",
   "metadata": {},
   "outputs": [],
   "source": [
    "liste_lignes = ['Regarder le documentaire Planète Terre', 'Acheter du lait', 'Imprimer le document X']\n",
    " \n",
    "mon_fichier = open('todo.txt', 'w')\n",
    "\n",
    "mon_fichier.write('\\n'.join(liste_lignes))\n",
    "\n",
    "mon_fichier.close()"
   ]
  },
  {
   "cell_type": "code",
   "execution_count": 12,
   "id": "a7d8993e",
   "metadata": {},
   "outputs": [
    {
     "name": "stdout",
     "output_type": "stream",
     "text": [
      "Regarder le documentaire Planète Terre\n",
      "Acheter du lait\n",
      "Imprimer le document X\n"
     ]
    }
   ],
   "source": [
    "mon_fichier = open('todo.txt', 'r')\n",
    "\n",
    "contenu = mon_fichier.read()\n",
    "\n",
    "mon_fichier.close()\n",
    "\n",
    "print(contenu)"
   ]
  },
  {
   "cell_type": "markdown",
   "id": "76fb8bc3",
   "metadata": {},
   "source": [
    "\\newpage\n",
    "\n",
    "# TP\n",
    "\n",
    "***Exercie 1***\n",
    "\n",
    "1. Créer une fonction $fusionner(f1, f2)$ qui permet de fusionner deux fichiers $f1$ et $f2$.\n",
    "\n",
    "2. Créer une fonction $copier(fichier, chemin\\_absolu)$ qui permet de copier un fichier dans un répertoire en utilisant un chemin absolu.\n",
    "\n",
    "***Exercice 2***\n",
    "\n",
    "1. Écrire une fonction $nombre\\_lignes(fichier)$ qui renvoie le nombre de lignes dans un fichier.\n",
    "\n",
    "2. Écrire une fonction $nombre\\_mots(fichier)$ qui renvoie le nombre de mots dans un fichier.\n",
    "\n",
    "3. Écrire une fonction $nombre\\_caract\\grave{e}res(fichier)$ qui renvoie le nombre de caractères dans un fichier.\n",
    "\n",
    "4. Écrire une fonction $taille(fichier)$ qui renvoie la taille en $bit$ d'un fichier.\n",
    "\n",
    "***Exercice 3***\n",
    "\n",
    "\n",
    "1. Créer un fichier $log.txt$ pour sauvegarder les tâches effectuées en incluant la date et le temps d'ajout.\n",
    "\n",
    "2. Écrire une fonction $task\\_done(description)$ qui prend la description d'une tâche effectuée et l'ajoute à la fin du fichier $log$. La ligne ajoutée doit être de la forme $date\\hspace{5pt}temps\\hspace{5pt}description$. Pour cela on peut utiliser la fonction $now$ du module $datetime$ qui renvoie la date et le temps actuels.\n",
    "\n",
    "$Exemple$ "
   ]
  },
  {
   "cell_type": "code",
   "execution_count": 13,
   "id": "27006063",
   "metadata": {},
   "outputs": [
    {
     "name": "stdout",
     "output_type": "stream",
     "text": [
      "2025-05-02 18:25:38.723990 description\n",
      "\n"
     ]
    }
   ],
   "source": [
    "from datetime import datetime\n",
    "\n",
    "print(f'{datetime.now()} description\\n')"
   ]
  },
  {
   "cell_type": "markdown",
   "id": "0223279b",
   "metadata": {},
   "source": [
    "4. Écrire une fonction $task(date)$ qui renvoie les tâches effectuées en une date donnée sous la forme $ann\\acute{e}e-mois-jour$."
   ]
  }
 ],
 "metadata": {
  "kernelspec": {
   "display_name": "Python 3 (ipykernel)",
   "language": "python",
   "name": "python3"
  },
  "language_info": {
   "codemirror_mode": {
    "name": "ipython",
    "version": 3
   },
   "file_extension": ".py",
   "mimetype": "text/x-python",
   "name": "python",
   "nbconvert_exporter": "python",
   "pygments_lexer": "ipython3",
   "version": "3.11.7"
  }
 },
 "nbformat": 4,
 "nbformat_minor": 5
}
