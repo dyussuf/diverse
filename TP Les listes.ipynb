{
 "cells": [
  {
   "cell_type": "markdown",
   "metadata": {},
   "source": [
    "# Énoncé\n",
    "\n",
    "***Exercice 1***\n",
    "\n",
    "Soit liste = [0,1,2,3,5,8,13,21,34,55,89]\n",
    "\n",
    "Donner les résultats des instructions suivantes :\n",
    "\n",
    "- liste[1:7]\n",
    "- liste[:]\n",
    "- liste[:-2]\n",
    "- liste[6:]\n",
    "- liste[ : : 3]\n",
    "- liste[ : : -3]\n",
    "\n",
    "***Exercice 2***\n",
    "\n",
    "Créer une liste des nombres impairs à partir de 1 et inférieurs à une borne donnée.\n",
    "\n",
    "***Exercice 3***\n",
    "\n",
    "Créer une fonction $cube(liste)$ qui renvoie une liste contenant le cube de chaque élément de la liste originale.\n",
    "\n",
    "***Exercice 4***\n",
    "\n",
    "Créer une fonction $somme(liste)$ qui renvoie la somme des éléments de la liste.\n",
    "\n",
    "***Exercice 5***\n",
    "\n",
    "Créer une fonction $recherche\\_séquentielle(liste, valeur)$ qui renvoie l’indice de la première occurrence de la valeur dans la liste si elle existe, et -1 sinon.\n",
    "\n",
    "***Exercice 6***\n",
    "\n",
    "Créer une fonction $recherche\\_dichotomique(liste, valeur)$ qui prend une liste triée et une valeur et renvoie $True$ si la valeur se trouve dans la liste, et $False$ sinon.\n",
    "\n",
    "$Principe$ :\n",
    "\n",
    "On divise la liste en deux sous-listes et on compare l’élément du milieu de la liste avec la valeur recherchée :\n",
    "\n",
    "- Si c'est la bonne valeur, on renvoie son indice.\n",
    "\n",
    "- Si la valeur est plus petite, on recherche dans la sous-liste gauche.\n",
    "\n",
    "- Si la valeur est plus grande, on recherche dans la sous-liste droite.\n",
    "\n",
    "On recommence jusqu’à trouver l’élément ou jusqu’à ce que la sous-liste soit vide.\n",
    "\n",
    "***Exercice 7***\n",
    "\n",
    "Créer une fonction $nombre\\_occurences(valeur, liste)$ qui compte les occurrences d'une valeur dans une liste.\n",
    "\n",
    "***Exercice 8***\n",
    "\n",
    "Créer une fonction $maximum(liste)$ qui renvoie le maximum d'une liste de nombres.\n",
    "\n",
    "\n",
    "\n",
    "# Résolution"
   ]
  },
  {
   "cell_type": "code",
   "execution_count": 1,
   "metadata": {},
   "outputs": [
    {
     "name": "stdout",
     "output_type": "stream",
     "text": [
      "Une borne : 17\n",
      "[1, 3, 5, 7, 9, 11, 13, 15, 17]\n"
     ]
    }
   ],
   "source": [
    "# Exercice 2\n",
    "\n",
    "borne = int(input('Une borne : '))\n",
    "\n",
    "impairs = []   #initialisation de la liste\n",
    "for x in range(1, borne+1, 2):\n",
    "    impairs.append(x)   #ajout d'un élément \n",
    "    \n",
    "print(impairs)"
   ]
  },
  {
   "cell_type": "code",
   "execution_count": 2,
   "metadata": {},
   "outputs": [
    {
     "name": "stdout",
     "output_type": "stream",
     "text": [
      "[1, 8, 27, 64, 125, 216, 343]\n"
     ]
    }
   ],
   "source": [
    "# Exercice 3\n",
    "\n",
    "def cube1(liste):\n",
    "    cubes = []   \n",
    "    for x in liste:\n",
    "        cubes.append(x**3)   #ajout du cube du nombre\n",
    "    return cubes\n",
    "\n",
    "#ou bien\n",
    "\n",
    "def cube2(liste):\n",
    "    return [x**3 for x in liste]\n",
    "\n",
    "nombres = [1, 2, 3, 4, 5, 6, 7]\n",
    "\n",
    "print(cube2(nombres))"
   ]
  },
  {
   "cell_type": "code",
   "execution_count": 3,
   "metadata": {},
   "outputs": [
    {
     "name": "stdout",
     "output_type": "stream",
     "text": [
      "28\n"
     ]
    }
   ],
   "source": [
    "# Exercice 4\n",
    "\n",
    "def somme(liste):\n",
    "    s = 0   #initialisation de l'accumulateur\n",
    "    for x in liste:\n",
    "        s += x\n",
    "    return s\n",
    "\n",
    "nombres = [1, 2, 3, 4, 5, 6, 7]\n",
    "\n",
    "print(somme(nombres))"
   ]
  },
  {
   "cell_type": "code",
   "execution_count": 4,
   "metadata": {},
   "outputs": [
    {
     "name": "stdout",
     "output_type": "stream",
     "text": [
      "5\n"
     ]
    }
   ],
   "source": [
    "# Exercice 5\n",
    "\n",
    "def occurrence(x, liste):\n",
    "    c = 0   #initialisation du compteur\n",
    "    for i in range(len(liste)):\n",
    "        if liste[i] == x:\n",
    "            c += 1\n",
    "    return c\n",
    "\n",
    "nombres = [1, 2, 3, 1, 1, 1, 1]\n",
    "\n",
    "print(occurrence(1, nombres))"
   ]
  },
  {
   "cell_type": "code",
   "execution_count": 5,
   "metadata": {},
   "outputs": [
    {
     "name": "stdout",
     "output_type": "stream",
     "text": [
      "3\n"
     ]
    }
   ],
   "source": [
    "# Exercice 6\n",
    "\n",
    "# 1\n",
    "\n",
    "def maximum(liste):\n",
    "    maxi = liste[0]   #initialisation du maximum par le premier élément de la liste\n",
    "    for i in range(1, len(liste)):\n",
    "        if liste[i] > maxi:\n",
    "            maxi = liste[i]\n",
    "    return maxi\n",
    "\n",
    "nombres = [1, 2, 3, 1, 1, 1, 1]\n",
    "\n",
    "print(maximum(nombres))"
   ]
  }
 ],
 "metadata": {
  "colab": {
   "collapsed_sections": [],
   "name": "7_Programmation_Python_Partie_3.ipynb",
   "provenance": []
  },
  "kernelspec": {
   "display_name": "Python 3 (ipykernel)",
   "language": "python",
   "name": "python3"
  },
  "language_info": {
   "codemirror_mode": {
    "name": "ipython",
    "version": 3
   },
   "file_extension": ".py",
   "mimetype": "text/x-python",
   "name": "python",
   "nbconvert_exporter": "python",
   "pygments_lexer": "ipython3",
   "version": "3.11.7"
  }
 },
 "nbformat": 4,
 "nbformat_minor": 4
}
