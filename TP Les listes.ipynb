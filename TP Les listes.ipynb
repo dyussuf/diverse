{
 "cells": [
  {
   "cell_type": "markdown",
   "metadata": {},
   "source": [
    "# Énoncé\n",
    "\n",
    "***Exercice 1***\n",
    "\n",
    "Soit liste = [0,1,2,3,5,8,13,21,34,55,89]\n",
    "\n",
    "Donner les résultats des instructions suivantes :\n",
    "\n",
    "- liste[1:7]\n",
    "- liste[:]\n",
    "- liste[:-2]\n",
    "- liste[6:]\n",
    "- liste[ : : 3]\n",
    "- liste[ : : -3]\n",
    "\n",
    "***Exercice 2***\n",
    "\n",
    "Créer une liste des nombres impairs à partir de 1 et inférieurs à une borne donnée.\n",
    "\n",
    "***Exercice 3***\n",
    "\n",
    "Créer une fonction $cube(liste)$ qui renvoie une liste contenant le cube de chaque élément de la liste originale.\n",
    "\n",
    "***Exercice 4***\n",
    "\n",
    "Créer une fonction $somme(liste)$ qui renvoie la somme des éléments de la liste.\n",
    "\n",
    "***Exercice 5***\n",
    "\n",
    "Créer une fonction qui prend deux arguments : une lise et un élément, et compte les occurrences de cet élément dans la liste.\n",
    "\n",
    "***Exercice 6***\n",
    "\n",
    "- Créer une fonction qui renvoie le maximum (ou minimum) d'une liste de nombres donnée.\n",
    "- Créer une fonction qui, en utilisant la fonction précédente, trie la liste dans l'ordre croissant (ou décroissant) itérativement (ou récursivement).\n",
    "\n",
    "***Exercice 7***\n",
    "\n",
    "Créer une fonction qui fusionne deux listes triées dans l'ordre croissant.\n",
    "\n",
    "***Exercice 8***\n",
    "\n",
    "Créer une fonction $ProduitScalaire(V1,V2)$ qui retourne le produit scalaire de deux vecteurs de même taille $V1$ et $V2$.\n",
    "\n",
    "***Exercice 9***\n",
    "\n",
    "Créer une fonction $ProduitMatriciel(M1,M2)$ qui retourne le produit de deux matrices $M1$ et $M2$.\n",
    "\n",
    "***Exercice 10***\n",
    "\n",
    "Un polynôme  peut être représenté par une liste dont les éléments sont les coefficients et les indices sont les exposants.\n",
    "\n",
    "*Exemple* : Le polynôme $P(x) = x^3 + 2x + 7$ est représenté par P=[7, 2, 0, 1].\n",
    "\n",
    "- Créer une fonction $valeur(P,x)$ qui calcule $P(x)$.\n",
    "- Créer une fonction $addition(P1, P2)$ qui retourne la représentation de l'addition des deux polynômes représentés  respectivement par $P1$ et $P2$.\n",
    "\n",
    "***Exercice 11***\n",
    "\n",
    "*Gestion des élèves et leurs notes* :\n",
    "\n",
    "On dispose d'une liste d'élèves, où chaque élément est une sous-liste contenant l'identifiant d'élève et ses notes de trois matières.\n",
    "\n",
    "*Exemple de données* : students = [\n",
    "    ['student1', 20, 18, 19],\n",
    "    ['student2', 12, 14, 16],\n",
    "    ['student3', 9, 10, 11]\n",
    "]\n",
    "\n",
    "- Créer une liste d'élèves avec plusieurs et différentes valeurs.\n",
    "- Calculer et ajouter la moyenne de chaque élève dans la liste.\n",
    "- Parcourir la liste et afficher pour chaque élève son identifiant et sa note moyenne.\n",
    "- Calculer la moyenne de la classe.\n",
    "- Afficher les élèves dont la moyenne >= la moyenne de la classe.\n",
    "- Trouver le meilleur élève."
   ]
  },
  {
   "cell_type": "code",
   "execution_count": 2,
   "metadata": {},
   "outputs": [
    {
     "name": "stdout",
     "output_type": "stream",
     "text": [
      "Une borne : 17\n",
      "[1, 3, 5, 7, 9, 11, 13, 15, 17]\n"
     ]
    }
   ],
   "source": [
    "# Exercice 2\n",
    "\n",
    "borne = int(input('Une borne : '))\n",
    "\n",
    "impairs = []   #initialisation de la liste\n",
    "for x in range(1, borne+1, 2):\n",
    "    impairs.append(x)   #ajout d'un élément \n",
    "    \n",
    "print(impairs)"
   ]
  },
  {
   "cell_type": "code",
   "execution_count": 5,
   "metadata": {},
   "outputs": [
    {
     "name": "stdout",
     "output_type": "stream",
     "text": [
      "[1, 8, 27, 64, 125, 216, 343]\n"
     ]
    }
   ],
   "source": [
    "# Exercice 3\n",
    "\n",
    "def cube1(liste):\n",
    "    cubes = []   \n",
    "    for x in liste:\n",
    "        cubes.append(x**3)   #ajout du cube du nombre\n",
    "    return cubes\n",
    "\n",
    "#ou bien\n",
    "\n",
    "def cube2(liste):\n",
    "    return [x**3 for x in liste]\n",
    "\n",
    "nombres = [1, 2, 3, 4, 5, 6, 7]\n",
    "\n",
    "print(cube2(nombres))"
   ]
  },
  {
   "cell_type": "code",
   "execution_count": 6,
   "metadata": {},
   "outputs": [
    {
     "name": "stdout",
     "output_type": "stream",
     "text": [
      "28\n"
     ]
    }
   ],
   "source": [
    "# Exercice 4\n",
    "\n",
    "def somme(liste):\n",
    "    s = 0   #initialisation de l'accumulateur\n",
    "    for x in liste:\n",
    "        s += x\n",
    "    return s\n",
    "\n",
    "nombres = [1, 2, 3, 4, 5, 6, 7]\n",
    "\n",
    "print(somme(nombres))"
   ]
  },
  {
   "cell_type": "code",
   "execution_count": 10,
   "metadata": {},
   "outputs": [
    {
     "name": "stdout",
     "output_type": "stream",
     "text": [
      "5\n"
     ]
    }
   ],
   "source": [
    "# Exercice 5\n",
    "\n",
    "def occurrence(x, liste):\n",
    "    c = 0   #initialisation du compteur\n",
    "    for i in range(len(liste)):\n",
    "        if liste[i] == x:\n",
    "            c += 1\n",
    "    return c\n",
    "\n",
    "nombres = [1, 2, 3, 1, 1, 1, 1]\n",
    "\n",
    "print(occurrence(1, nombres))"
   ]
  },
  {
   "cell_type": "code",
   "execution_count": 11,
   "metadata": {},
   "outputs": [
    {
     "name": "stdout",
     "output_type": "stream",
     "text": [
      "3\n"
     ]
    }
   ],
   "source": [
    "# Exercice 6\n",
    "\n",
    "# 1\n",
    "\n",
    "def maximum(liste):\n",
    "    maxi = liste[0]   #initialisation du maximum par le premier élément de la liste\n",
    "    for i in range(1, len(liste)):\n",
    "        if liste[i] > maxi:\n",
    "            maxi = liste[i]\n",
    "    return maxi\n",
    "\n",
    "nombres = [1, 2, 3, 1, 1, 1, 1]\n",
    "\n",
    "print(maximum(nombres))"
   ]
  },
  {
   "cell_type": "code",
   "execution_count": 14,
   "metadata": {},
   "outputs": [
    {
     "name": "stdout",
     "output_type": "stream",
     "text": [
      "[1, 1, 2, 3, 7, 10, 100]\n"
     ]
    }
   ],
   "source": [
    "# Exercice 6\n",
    "\n",
    "# 2\n",
    "\n",
    "def tri1(liste):\n",
    "    lt = []                     #initialisation de la liste triée\n",
    "    while liste:                #tant que la liste est non vide\n",
    "        maxi = maximum(liste)   #calcul du maximum\n",
    "        lt.insert(0, maxi)      #insertion au début de la liste triée\n",
    "        liste.remove(maxi)      #suppression du maximum de la liste originale\n",
    "    return lt\n",
    "\n",
    "#ou bien d'une manière récursive \n",
    "\n",
    "def tri2(liste):\n",
    "    if len(liste)<=1:\n",
    "        return liste\n",
    "    else:\n",
    "        maxi = maximum(liste)      \n",
    "        liste.remove(maxi)\n",
    "        return tri2(liste) + [maxi]\n",
    "\n",
    "\n",
    "nombres = [1, 7, 3, 1, 2, 100, 10]\n",
    "\n",
    "print(tri2(nombres))"
   ]
  },
  {
   "cell_type": "code",
   "execution_count": 17,
   "metadata": {},
   "outputs": [
    {
     "data": {
      "text/plain": [
       "[1, 1, 2, 3, 4, 7, 9, 10, 63, 100]"
      ]
     },
     "execution_count": 17,
     "metadata": {},
     "output_type": "execute_result"
    }
   ],
   "source": [
    "# Exercice 7\n",
    "\n",
    "def fusionner(liste1, liste2):\n",
    "    lt = []\n",
    "    # initialiser les indices des éléments à retirer des deux listes\n",
    "    i1, i2 = 0, 0   \n",
    "    while i1 < len(liste1) and i2 < len(liste2):\n",
    "        if liste1[i1] < liste2[i2]:\n",
    "            lt.append(liste1[i1])\n",
    "            i1 += 1\n",
    "        else:\n",
    "            lt.append(liste2[i2])\n",
    "            i2 += 1\n",
    "\n",
    "    # ajouter les éléments restants\n",
    "    lt.extend(liste1[i1:])\n",
    "    lt.extend(liste2[i2:])\n",
    "    \n",
    "    return lt\n",
    "\n",
    "liste1 = [1, 1, 2, 3, 7, 10, 100]\n",
    "liste2 = [4, 9, 63]\n",
    "\n",
    "fusionner(liste1, liste2)"
   ]
  },
  {
   "cell_type": "code",
   "execution_count": 18,
   "metadata": {},
   "outputs": [
    {
     "data": {
      "text/plain": [
       "40"
      ]
     },
     "execution_count": 18,
     "metadata": {},
     "output_type": "execute_result"
    }
   ],
   "source": [
    "# Exercice 8\n",
    "\n",
    "def ProduitScalaire(V1, V2):\n",
    "    ps = 0\n",
    "    for i in range(len(V1)):\n",
    "        ps += V1[i]*V2[i]\n",
    "    return ps\n",
    "\n",
    "V1 = [1, 6, -2]\n",
    "V2 = [4, 3, -9]\n",
    "ProduitScalaire(V1, V2)"
   ]
  },
  {
   "cell_type": "code",
   "execution_count": 38,
   "metadata": {},
   "outputs": [
    {
     "data": {
      "text/plain": [
       "[[19, 7], [54, 12]]"
      ]
     },
     "execution_count": 38,
     "metadata": {},
     "output_type": "execute_result"
    }
   ],
   "source": [
    "# Exercice 9\n",
    "\n",
    "def ProduitMatriciel(M1, M2):\n",
    "    # initilisation de la matrice produit\n",
    "    P = []   \n",
    "    # parcours des lignes\n",
    "    for l in range(len(M1)):   \n",
    "        # initilisation du vecteur produit\n",
    "        V = []\n",
    "        # parcours des colonnes\n",
    "        for c in range(len(M2[0])):   \n",
    "            # calcul et ajout de la somme des produits des éléments au vecteur\n",
    "            V.append(sum([ M1[l][i]*M2[i][c] for i in range(len(M2)) ]))\n",
    "        # ajout du vecteur à la matrice produit\n",
    "        P.append(V)   \n",
    "    return P\n",
    "\n",
    "M1 = [[1, 2], [1, 7]]\n",
    "M2 = [[5, 5], [7, 1]]\n",
    "ProduitMatriciel(M1, M2)"
   ]
  },
  {
   "cell_type": "code",
   "execution_count": 39,
   "metadata": {},
   "outputs": [
    {
     "data": {
      "text/plain": [
       "7"
      ]
     },
     "execution_count": 39,
     "metadata": {},
     "output_type": "execute_result"
    }
   ],
   "source": [
    "# Exercice 10\n",
    "\n",
    "# 1\n",
    "\n",
    "def valeur(P, x):\n",
    "    s = 0\n",
    "    for i in range(len(P)):\n",
    "        s += P[i]*x**i\n",
    "    return s\n",
    "\n",
    "P = [7, 2, 0, 1]\n",
    "valeur(P, 0)"
   ]
  },
  {
   "cell_type": "code",
   "execution_count": 1,
   "metadata": {},
   "outputs": [
    {
     "data": {
      "text/plain": [
       "[7, 4, 0, 4, 9, 3]"
      ]
     },
     "execution_count": 1,
     "metadata": {},
     "output_type": "execute_result"
    }
   ],
   "source": [
    "# Exercice 10\n",
    "\n",
    "# 2\n",
    "\n",
    "def addition(P1, P2):\n",
    "    maxi = max(len(P1), len(P2))   # Calculer le degré maximal \n",
    "    P1 += (maxi-len(P1))*[0]       # Compléter la différence par des 0s\n",
    "    P2 += (maxi-len(P2))*[0]\n",
    "    return [P1[i]+P2[i] for i in range(len(P1))]\n",
    "\n",
    "\n",
    "P1 = [7, 2, 0, 1]\n",
    "P2 = [0, 2, 0, 3, 9, 3]\n",
    "addition(P1, P2)"
   ]
  },
  {
   "cell_type": "code",
   "execution_count": 4,
   "metadata": {},
   "outputs": [],
   "source": [
    "students = [['student1', 20, 18, 19], ['student2', 12, 14, 16], ['student3', 9, 10, 11]]\n",
    "\n",
    "# 1\n",
    "\n",
    "for x in students:\n",
    "    moyenne = round(sum(x[1:])/3, 2)\n",
    "    x.append(moyenne)"
   ]
  },
  {
   "cell_type": "code",
   "execution_count": 6,
   "metadata": {},
   "outputs": [
    {
     "name": "stdout",
     "output_type": "stream",
     "text": [
      "student1 a obtenu 19.0\n",
      "student2 a obtenu 14.0\n",
      "student3 a obtenu 10.0\n"
     ]
    }
   ],
   "source": [
    "# 2\n",
    "                    \n",
    "for x in students:\n",
    "    print(f'{x[0]} a obtenu {x[4]}')"
   ]
  },
  {
   "cell_type": "code",
   "execution_count": 10,
   "metadata": {},
   "outputs": [
    {
     "name": "stdout",
     "output_type": "stream",
     "text": [
      "14.33\n"
     ]
    }
   ],
   "source": [
    "# 3\n",
    "\n",
    "somme = 0\n",
    "for x in students:\n",
    "    somme += x[-1]   # Calcul de la somme des moyennes des élèves \n",
    "    \n",
    "moyenne = round(somme/len(students), 2)   # Division par le nombre d'élèves\n",
    "\n",
    "print(moyenne)"
   ]
  },
  {
   "cell_type": "code",
   "execution_count": 11,
   "metadata": {},
   "outputs": [
    {
     "name": "stdout",
     "output_type": "stream",
     "text": [
      "student1 a obtenu 19.0\n"
     ]
    }
   ],
   "source": [
    "# 4\n",
    "                    \n",
    "for x in students:\n",
    "    if x[-1] >= moyenne:\n",
    "        print(f'{x[0]} a obtenu {x[4]}')"
   ]
  },
  {
   "cell_type": "code",
   "execution_count": 13,
   "metadata": {},
   "outputs": [
    {
     "data": {
      "text/plain": [
       "19.0"
      ]
     },
     "execution_count": 13,
     "metadata": {},
     "output_type": "execute_result"
    }
   ],
   "source": [
    "# 5\n",
    "                   \n",
    "max([x[-1] for x in students])"
   ]
  }
 ],
 "metadata": {
  "colab": {
   "collapsed_sections": [],
   "name": "7_Programmation_Python_Partie_3.ipynb",
   "provenance": []
  },
  "kernelspec": {
   "display_name": "Python 3 (ipykernel)",
   "language": "python",
   "name": "python3"
  },
  "language_info": {
   "codemirror_mode": {
    "name": "ipython",
    "version": 3
   },
   "file_extension": ".py",
   "mimetype": "text/x-python",
   "name": "python",
   "nbconvert_exporter": "python",
   "pygments_lexer": "ipython3",
   "version": "3.11.7"
  }
 },
 "nbformat": 4,
 "nbformat_minor": 4
}
