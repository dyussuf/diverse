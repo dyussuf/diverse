{
 "cells": [
  {
   "cell_type": "markdown",
   "id": "1043ff04",
   "metadata": {
    "colab_type": "text",
    "id": "carR_ZzOnnLd"
   },
   "source": [
    "# Dictionnaire\n",
    "\n",
    "Le dictionnaire est une structure de données qui permet de stocker des paires clé-valeur. Il est défini à l’aide des accolades { } et permet un accès rapide aux valeurs via leurs clés uniques."
   ]
  },
  {
   "cell_type": "code",
   "execution_count": null,
   "id": "86649261",
   "metadata": {
    "colab": {
     "base_uri": "https://localhost:8080/",
     "height": 72
    },
    "colab_type": "code",
    "id": "JO-AHu0Ckbq9",
    "outputId": "716ea98d-b36e-4659-f89a-deb4daa081b2"
   },
   "outputs": [],
   "source": [
    "# Création d'un dictionnaire avec {}\n",
    "\n",
    "# Dictionnaire vide \n",
    "contacts  = {}   #ou contacts=dict() \n",
    "\n",
    "contacts = {'Ahmad':'105033', 'Fatima': '103300', 'Omar':'212020', 'Sarah' : '184554'}\n",
    "\n",
    "print(contacts)"
   ]
  },
  {
   "cell_type": "code",
   "execution_count": null,
   "id": "bd21bc26",
   "metadata": {},
   "outputs": [],
   "source": [
    "contacts.keys()"
   ]
  },
  {
   "cell_type": "code",
   "execution_count": null,
   "id": "e0535951",
   "metadata": {},
   "outputs": [],
   "source": [
    "contacts.values()"
   ]
  },
  {
   "cell_type": "code",
   "execution_count": null,
   "id": "452d18d9",
   "metadata": {
    "colab": {
     "base_uri": "https://localhost:8080/",
     "height": 54
    },
    "colab_type": "code",
    "id": "yMUd0OUepnQZ",
    "outputId": "a0a89f4c-2ac9-47d8-a6f9-27071d8be2dd"
   },
   "outputs": [],
   "source": [
    "# Accès aux valeurs \n",
    "\n",
    "contacts['Sarah']"
   ]
  },
  {
   "cell_type": "code",
   "execution_count": null,
   "id": "8a2b41b9",
   "metadata": {
    "colab": {
     "base_uri": "https://localhost:8080/",
     "height": 35
    },
    "colab_type": "code",
    "id": "qfda69zCqFIc",
    "outputId": "806bb09e-cb81-4fb4-8043-f9b126200766"
   },
   "outputs": [],
   "source": [
    "# Changer de valeur d'une clé\n",
    "contacts['Omar'] = '212021'\n",
    "contacts"
   ]
  },
  {
   "cell_type": "code",
   "execution_count": null,
   "id": "c457840e",
   "metadata": {
    "colab": {
     "base_uri": "https://localhost:8080/",
     "height": 164
    },
    "colab_type": "code",
    "id": "J6UmxrmFqhLC",
    "outputId": "5f373599-0e8f-4cf5-88ce-2c87f4c69ddd"
   },
   "outputs": [],
   "source": [
    "# Ajouter une paire clé-valeur au dictionnaire\n",
    "contacts['Safiah'] = '999017'\n",
    "contacts['Mohammad'] = ['900023', '001123']\n",
    "contacts"
   ]
  },
  {
   "cell_type": "code",
   "execution_count": null,
   "id": "9c49b99b",
   "metadata": {},
   "outputs": [],
   "source": [
    "# Supprimer une paire\n",
    "\n",
    "del contacts['Sarah']"
   ]
  },
  {
   "cell_type": "code",
   "execution_count": null,
   "id": "4c979d86",
   "metadata": {},
   "outputs": [],
   "source": [
    "# Parcourir un dictionnaire\n",
    "\n",
    "# Parcourir les clés\n",
    "for clé in contacts:\n",
    "    print(clé, \":\", contacts[clé])\n",
    "    \n",
    "# Parcourir les valeurs\n",
    "for valeur in contacts.values():\n",
    "    print(valeur)\n",
    "\n",
    "# Parcourir les clés et valeurs\n",
    "for clé, valeur in contacts.items():\n",
    "    print(f\"{clé} : {valeur}\")"
   ]
  },
  {
   "cell_type": "markdown",
   "id": "9df3126c",
   "metadata": {},
   "source": [
    "# Set\n",
    "\n",
    "Un set (ensemble) est une collection non ordonnée d'éléments uniques. Il est utile pour éliminer les doublons et effectuer des opérations ensemblistes comme l'union et l'intersection."
   ]
  },
  {
   "cell_type": "code",
   "execution_count": null,
   "id": "017dafc1",
   "metadata": {},
   "outputs": [],
   "source": [
    "# Créer un set\n",
    "set_vide = set()   #set vide, {} crée un dictionnaire !\n",
    "\n",
    "premiers =  {2, 3, 5, 7, 7}\n",
    "\n",
    "print(premiers)\n",
    "\n",
    "# Set à partir d'une liste\n",
    "premiers =  [2, 3, 5, 7, 7]\n",
    "print(set(premiers))\n",
    "\n",
    "# Set à partir d'une chaîne de caractères \n",
    "\n",
    "mot = 'ingeneer' \n",
    "print(set(mot))"
   ]
  },
  {
   "cell_type": "code",
   "execution_count": null,
   "id": "54e72337",
   "metadata": {},
   "outputs": [],
   "source": [
    "#Ajouter un élément\n",
    "\n",
    "premiers.add(11)\n",
    "\n",
    "premiers"
   ]
  },
  {
   "cell_type": "code",
   "execution_count": null,
   "id": "03c12f52",
   "metadata": {},
   "outputs": [],
   "source": [
    "#Supprimer un élément \n",
    "premiers.remove(11)\n",
    "\n",
    "premiers"
   ]
  },
  {
   "cell_type": "code",
   "execution_count": null,
   "id": "9f8b9e4f",
   "metadata": {},
   "outputs": [],
   "source": [
    "# Opérations ensemblistes\n",
    "premiers =  {2, 3, 5, 7}\n",
    "impairs = {1, 3, 5, 7}\n",
    "\n",
    "# Union\n",
    "print(f'{premiers} | {impairs} = {premiers | impairs}')   #ou premiers.union(impairs)\n",
    "\n",
    "# Intersection\n",
    "print(f'{premiers} & {impairs} = {premiers & impairs}')   #ou premiers.intersection(impairs)\n",
    "\n",
    "# Différence\n",
    "print(f'{premiers} - {impairs} = {premiers - impairs}')   #ou premiers.difference(impairs)\n",
    "\n",
    "# Différence symétrique (éléments exclusifs)\n",
    "print(f'{premiers} ^ {impairs} = {premiers ^ impairs}')   #ou premiers.symmetric_difference(impairs)\n"
   ]
  },
  {
   "cell_type": "code",
   "execution_count": null,
   "id": "41940913",
   "metadata": {},
   "outputs": [],
   "source": [
    "e1 = {1, 3, 5, 7}\n",
    "e2 = {1, 3, 5, 7, 11, 13}\n",
    "\n",
    "# Tester si e1 est un sous ensemble de e2\n",
    "\n",
    "print(e1<e2)   #ou e1.issubset(e2)\n",
    "\n",
    "#ou bien\n",
    "\n",
    "print(e1>e2)   #e2.issuperset(e1)"
   ]
  },
  {
   "cell_type": "markdown",
   "id": "4ce3285c",
   "metadata": {},
   "source": [
    "# Tuple\n",
    "\n",
    "Un tuple est une structure de données immuable (non modifiable après création) défini à l’aide des parenthèses ( ) et permet de stocker une collection ordonnée d’éléments qui doivent rester inchangées."
   ]
  },
  {
   "cell_type": "code",
   "execution_count": null,
   "id": "99bb9500",
   "metadata": {},
   "outputs": [],
   "source": [
    "# Tuple vide\n",
    "\n",
    "tuple_vide = ()\n",
    "\n",
    "valeurs_logiques = (True, False)\n",
    "chiffres_arabes = (0, 1, 2, 3, 4, 5, 6, 7, 8, 9)\n",
    "\n",
    "# Tuple à un seul élément (ajouter une virgule !)\n",
    "tuple_unique = (1,)\n",
    "\n",
    "# Tuple à partir d'une liste\n",
    "premiers =  [2, 3, 5, 7]\n",
    "print(tuple(premiers))\n",
    "\n",
    "# Tuple à partir d'une chaîne de caractères \n",
    "\n",
    "mot = 'ingeneer' \n",
    "print(tuple(mot))"
   ]
  },
  {
   "cell_type": "code",
   "execution_count": null,
   "id": "cf9be444",
   "metadata": {},
   "outputs": [],
   "source": []
  }
 ],
 "metadata": {
  "kernelspec": {
   "display_name": "Python 3 (ipykernel)",
   "language": "python",
   "name": "python3"
  },
  "language_info": {
   "codemirror_mode": {
    "name": "ipython",
    "version": 3
   },
   "file_extension": ".py",
   "mimetype": "text/x-python",
   "name": "python",
   "nbconvert_exporter": "python",
   "pygments_lexer": "ipython3",
   "version": "3.11.7"
  }
 },
 "nbformat": 4,
 "nbformat_minor": 5
}
