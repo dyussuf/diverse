{
 "cells": [
  {
   "cell_type": "markdown",
   "id": "1043ff04",
   "metadata": {
    "colab_type": "text",
    "id": "carR_ZzOnnLd"
   },
   "source": [
    "Le dictionnaire est une structure de données qui permet de stocker des paires clé-valeur. Il est défini à l’aide des accolades {} et permet un accès rapide aux valeurs via leurs clés qui doivent être uniques."
   ]
  },
  {
   "cell_type": "code",
   "execution_count": 55,
   "id": "86649261",
   "metadata": {
    "colab": {
     "base_uri": "https://localhost:8080/",
     "height": 72
    },
    "colab_type": "code",
    "id": "JO-AHu0Ckbq9",
    "outputId": "716ea98d-b36e-4659-f89a-deb4daa081b2"
   },
   "outputs": [
    {
     "data": {
      "text/plain": [
       "{'Ahmad': '105033', 'Fatima ': '103300', 'Omar': '212020', 'Sarah': '184554'}"
      ]
     },
     "execution_count": 55,
     "metadata": {},
     "output_type": "execute_result"
    }
   ],
   "source": [
    "# Création d'un dictionnaire avec {}\n",
    "\n",
    "contacts  = {}   #dictionnaire vide\n",
    "contacts = {'Ahmad':'105033', 'Fatima ': '103300', 'Omar':'212020', 'Sarah' : '184554'}\n",
    "contacts"
   ]
  },
  {
   "cell_type": "code",
   "execution_count": 56,
   "id": "bd21bc26",
   "metadata": {},
   "outputs": [
    {
     "data": {
      "text/plain": [
       "dict_keys(['Ahmad', 'Fatima ', 'Omar', 'Sarah'])"
      ]
     },
     "execution_count": 56,
     "metadata": {},
     "output_type": "execute_result"
    }
   ],
   "source": [
    "contacts.keys()"
   ]
  },
  {
   "cell_type": "code",
   "execution_count": 57,
   "id": "e0535951",
   "metadata": {},
   "outputs": [
    {
     "data": {
      "text/plain": [
       "dict_values(['105033', '103300', '212020', '184554'])"
      ]
     },
     "execution_count": 57,
     "metadata": {},
     "output_type": "execute_result"
    }
   ],
   "source": [
    "contacts.values()"
   ]
  },
  {
   "cell_type": "code",
   "execution_count": 58,
   "id": "452d18d9",
   "metadata": {
    "colab": {
     "base_uri": "https://localhost:8080/",
     "height": 54
    },
    "colab_type": "code",
    "id": "yMUd0OUepnQZ",
    "outputId": "a0a89f4c-2ac9-47d8-a6f9-27071d8be2dd"
   },
   "outputs": [
    {
     "data": {
      "text/plain": [
       "'184554'"
      ]
     },
     "execution_count": 58,
     "metadata": {},
     "output_type": "execute_result"
    }
   ],
   "source": [
    "# Accès aux valeurs \n",
    "\n",
    "contacts['Sarah']"
   ]
  },
  {
   "cell_type": "code",
   "execution_count": 59,
   "id": "8a2b41b9",
   "metadata": {
    "colab": {
     "base_uri": "https://localhost:8080/",
     "height": 35
    },
    "colab_type": "code",
    "id": "qfda69zCqFIc",
    "outputId": "806bb09e-cb81-4fb4-8043-f9b126200766"
   },
   "outputs": [
    {
     "data": {
      "text/plain": [
       "{'Ahmad': '105033', 'Fatima ': '103300', 'Omar': '212021', 'Sarah': '184554'}"
      ]
     },
     "execution_count": 59,
     "metadata": {},
     "output_type": "execute_result"
    }
   ],
   "source": [
    "# Changer la valeur d'une clé\n",
    "contacts['Omar'] = '212021'\n",
    "contacts"
   ]
  },
  {
   "cell_type": "code",
   "execution_count": 60,
   "id": "c457840e",
   "metadata": {
    "colab": {
     "base_uri": "https://localhost:8080/",
     "height": 164
    },
    "colab_type": "code",
    "id": "J6UmxrmFqhLC",
    "outputId": "5f373599-0e8f-4cf5-88ce-2c87f4c69ddd"
   },
   "outputs": [
    {
     "data": {
      "text/plain": [
       "{'Ahmad': '105033',\n",
       " 'Fatima ': '103300',\n",
       " 'Omar': '212021',\n",
       " 'Sarah': '184554',\n",
       " 'Safiah': '999017',\n",
       " 'Mohammad': ['900023', '001123']}"
      ]
     },
     "execution_count": 60,
     "metadata": {},
     "output_type": "execute_result"
    }
   ],
   "source": [
    "# Ajout d'une paire clé-valeur dans un dictionnaire\n",
    "contacts['Safiah'] = '999017'\n",
    "contacts['Mohammad'] = ['900023', '001123']\n",
    "contacts"
   ]
  },
  {
   "cell_type": "code",
   "execution_count": 61,
   "id": "4c979d86",
   "metadata": {},
   "outputs": [
    {
     "name": "stdout",
     "output_type": "stream",
     "text": [
      "Ahmad : 105033\n",
      "Fatima  : 103300\n",
      "Omar : 212021\n",
      "Sarah : 184554\n",
      "Safiah : 999017\n",
      "Mohammad : ['900023', '001123']\n",
      "Ahmad : 105033\n",
      "Fatima  : 103300\n",
      "Omar : 212021\n",
      "Sarah : 184554\n",
      "Safiah : 999017\n",
      "Mohammad : ['900023', '001123']\n"
     ]
    }
   ],
   "source": [
    "# Parcourir un dictionnaire\n",
    "\n",
    "# Parcourir les clés\n",
    "for clé in contacts:\n",
    "    print(clé, \":\", contacts[clé])\n",
    "\n",
    "# Parcourir les clés et valeurs\n",
    "for clé, valeur in contacts.items():\n",
    "    print(f\"{clé} : {valeur}\")"
   ]
  },
  {
   "cell_type": "markdown",
   "id": "9df3126c",
   "metadata": {},
   "source": [
    "En Python, un set (ensemble) est une collection non ordonnée d'éléments uniques. Il est utile pour éliminer les doublons et effectuer des opérations ensemblistes comme l'union et l'intersection."
   ]
  },
  {
   "cell_type": "code",
   "execution_count": 62,
   "id": "017dafc1",
   "metadata": {},
   "outputs": [
    {
     "data": {
      "text/plain": [
       "{2, 3, 5, 7}"
      ]
     },
     "execution_count": 62,
     "metadata": {},
     "output_type": "execute_result"
    }
   ],
   "source": [
    "# Créer un set\n",
    "set_vide = set()   #set vide, {} crée un dictionnaire !\n",
    "\n",
    "premiers =  {2, 3, 5, 7, 7}\n",
    "\n",
    "premiers"
   ]
  },
  {
   "cell_type": "code",
   "execution_count": 63,
   "id": "54e72337",
   "metadata": {},
   "outputs": [
    {
     "data": {
      "text/plain": [
       "{2, 3, 5, 7, 11}"
      ]
     },
     "execution_count": 63,
     "metadata": {},
     "output_type": "execute_result"
    }
   ],
   "source": [
    "#Ajouter un élément\n",
    "\n",
    "premiers.add(11)\n",
    "\n",
    "premiers"
   ]
  },
  {
   "cell_type": "code",
   "execution_count": 64,
   "id": "03c12f52",
   "metadata": {},
   "outputs": [
    {
     "data": {
      "text/plain": [
       "{2, 3, 5, 7}"
      ]
     },
     "execution_count": 64,
     "metadata": {},
     "output_type": "execute_result"
    }
   ],
   "source": [
    "#Supprimer un élément \n",
    "premiers.remove(11)\n",
    "\n",
    "premiers"
   ]
  },
  {
   "cell_type": "code",
   "execution_count": 65,
   "id": "9f8b9e4f",
   "metadata": {},
   "outputs": [
    {
     "name": "stdout",
     "output_type": "stream",
     "text": [
      "{2, 3, 5, 7} | {1, 3, 5, 7} = {1, 2, 3, 5, 7}\n",
      "{2, 3, 5, 7} & {1, 3, 5, 7} = {3, 5, 7}\n",
      "{2, 3, 5, 7} - {1, 3, 5, 7} = {2}\n",
      "{2, 3, 5, 7} ^ {1, 3, 5, 7} = {1, 2}\n"
     ]
    }
   ],
   "source": [
    "# Opérations ensemblistes\n",
    "premiers =  {2, 3, 5, 7}\n",
    "impairs = {1, 3, 5, 7}\n",
    "\n",
    "print(f'{premiers} | {impairs} = {premiers | impairs}')   # Union\n",
    "print(f'{premiers} & {impairs} = {premiers & impairs}')   # Intersection\n",
    "print(f'{premiers} - {impairs} = {premiers - impairs}')   # Différence\n",
    "print(f'{premiers} ^ {impairs} = {premiers ^ impairs}')   # Différence symétrique (éléments exclusifs)\n"
   ]
  },
  {
   "cell_type": "markdown",
   "id": "4ce3285c",
   "metadata": {},
   "source": [
    "un tuple est une structure de données immuable (non modifiable après création) qui permet de stocker une collection ordonnée d’éléments qui doivent rester inchangées."
   ]
  },
  {
   "cell_type": "code",
   "execution_count": 66,
   "id": "99bb9500",
   "metadata": {},
   "outputs": [],
   "source": [
    "# Tuple vide\n",
    "\n",
    "tuple_vide = ()\n",
    "\n",
    "valeurs_logiques = (True, False)\n",
    "chiffres_arabes = (0, 1, 2, 3, 4, 5, 6, 7 ,8, 9)\n",
    "\n",
    "# Tuple à un seul élément (ajouter une virgule !)\n",
    "tuple_unique = (1,)\n"
   ]
  }
 ],
 "metadata": {
  "kernelspec": {
   "display_name": "Python 3 (ipykernel)",
   "language": "python",
   "name": "python3"
  },
  "language_info": {
   "codemirror_mode": {
    "name": "ipython",
    "version": 3
   },
   "file_extension": ".py",
   "mimetype": "text/x-python",
   "name": "python",
   "nbconvert_exporter": "python",
   "pygments_lexer": "ipython3",
   "version": "3.11.7"
  }
 },
 "nbformat": 4,
 "nbformat_minor": 5
}
