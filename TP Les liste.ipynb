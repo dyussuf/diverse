{
 "cells": [
  {
   "cell_type": "markdown",
   "metadata": {},
   "source": [
    "# TP\n",
    "\n",
    "1. Soit liste = [0,1,2,3,5,8,13,21,34,55,89]\n",
    "\n",
    "Donner les résultats des instructions suivantes :\n",
    "\n",
    "- liste[1:7]\n",
    "- liste[:]\n",
    "- liste[:-2]\n",
    "- liste[6:]\n",
    "- liste[ : : 3]\n",
    "- liste[ : : -3]\n",
    "\n",
    "2. Créer une liste des nombres impairs à partir de 1 et inférieurs à une borne donnée.\n",
    "\n",
    "3. Créer une fonction cube(liste) qui renvoie une liste contenant le cube de chaque élément de la liste originale.\n",
    "\n",
    "4. Créer une fonction somme(liste) qui renvoie la somme des nombres éléments de la liste.\n",
    "\n",
    "5. Créer une fonction qui prend en arguments une lise et un élément et compte les occurrences de cet élément dans la liste.\n",
    "\n",
    "6. Créer une fonction qui renvoie le maximum (ou minimum) d'une liste donnée.\n",
    "\n",
    "7. Créer une fonction ProduitScalaire(V1,V2) qui retourne le produit scalaire des deux vecteurs de même taille V1 et V2.\n",
    "\n",
    "8. Un polynôme  peut être représenté par une liste dont les éléments sont les coefficients et les indices sont les exposants.\n",
    "\n",
    "Exemple : le polynôme $P(x) = x^3 + 2x + 7$ sera représenté comme suit : P=[7, 2, 0, 1].\n",
    "\n",
    "- Créer une fonction valeur(P,x) qui calcule P(x).\n",
    "- Créer une fonction addition(P1, P2) qui retourne la représentation de l'addition des deux polynômes représentés  par P1 et P2.\n",
    "\n",
    "\n",
    "9. Créer une fonction qui fusionne deux listes triées dans l'ordre croissant.\n",
    "\n",
    "10. Gestion des élèves et leurs notes :\n",
    "\n",
    "On dispose d'une liste d'élèves, où chaque élément est une sous-liste contenant l'identifiant d'élève et ses notes dans trois matières.\n",
    "\n",
    "Exemple de données :\n",
    "\n",
    "students = [\n",
    "    [\"student1\", 20, 18, 19],\n",
    "    [\"student2\", 12, 14, 16],\n",
    "    [\"student3\", 9, 10, 11]\n",
    "]\n",
    "\n",
    "- Créer la liste des élèves avec plusieurs et différentes valeurs.\n",
    "- Parcourir la liste et afficher pour chaque élève son identifiant et ses notes.\n",
    "- Calculer et ajouter la moyenne dans la liste de chaque élève.\n",
    "- Parcourir la liste et afficher pour chaque élève son identifiant et sa note moyenne.\n",
    "- Calculer la moyenne de la classe\n",
    "- Afficher les élèves avec une moyenne >= la moyenne de la classe\n",
    "- Trouver le meilleur élève "
   ]
  }
 ],
 "metadata": {
  "colab": {
   "collapsed_sections": [],
   "name": "7_Programmation_Python_Partie_3.ipynb",
   "provenance": []
  },
  "kernelspec": {
   "display_name": "Python 3 (ipykernel)",
   "language": "python",
   "name": "python3"
  },
  "language_info": {
   "codemirror_mode": {
    "name": "ipython",
    "version": 3
   },
   "file_extension": ".py",
   "mimetype": "text/x-python",
   "name": "python",
   "nbconvert_exporter": "python",
   "pygments_lexer": "ipython3",
   "version": "3.11.7"
  }
 },
 "nbformat": 4,
 "nbformat_minor": 4
}
