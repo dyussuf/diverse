{
 "cells": [
  {
   "cell_type": "markdown",
   "metadata": {
    "colab_type": "text",
    "id": "irRPGfJySmwu"
   },
   "source": [
    "# Les structures conditionnelles \n",
    "\n",
    "La structure conditionnelle est une structure dont les instructions sont exécutées selon des conditions. "
   ]
  },
  {
   "cell_type": "markdown",
   "metadata": {
    "colab_type": "text",
    "id": "ahFS_ya6S0qH"
   },
   "source": [
    "## Les opérateurs de comparaison\n",
    "\n",
    "Les opérateurs de comparaison permettent de comparer les objets en Python :  \n",
    "\n",
    "* **<** : **inférieur à**;\n",
    "\n",
    "* **>** : **supérieur à**;\n",
    "\n",
    "* **<=** : **inférieur ou égal à**;\n",
    "\n",
    "* **>=** : **supérieur ou égal à**;\n",
    "\n",
    "* **==** : **égal à**;\n",
    "\n",
    "* **!=** : **différent de**.\n",
    "\n",
    "Les réponses de ces comparaisons sont de type booléen (***True*** ou ***False***)."
   ]
  },
  {
   "cell_type": "code",
   "execution_count": 1,
   "metadata": {
    "colab": {
     "base_uri": "https://localhost:8080/",
     "height": 109
    },
    "colab_type": "code",
    "id": "PEg8K7e3SamP",
    "outputId": "6361c8ee-0c5a-4e47-ee30-88a6c3f362b1"
   },
   "outputs": [
    {
     "name": "stdout",
     "output_type": "stream",
     "text": [
      "Est-ce que 100 est supérieur à 300 ? : False\n",
      "Est-ce que 70 est égal à '70' ? : False\n",
      "Est-ce que 'Dark' est égal à 'Light' ? : False\n",
      "Est-ce que x1 est inférieur ou égal à x2 ? : True\n",
      "Est-ce que x1 est équivalent à x3 ? : False\n",
      "Est-ce que x1 est inférieur à x3 ? : True\n"
     ]
    }
   ],
   "source": [
    "print(\"Est-ce que 100 est supérieur à 300 ? :\", 100 > 300)\n",
    "print(\"Est-ce que 70 est égal à '70' ? :\", 70 == '70')\n",
    "print(\"Est-ce que 'Dark' est égal à 'Light' ? :\", 'Dark' == 'Light')\n",
    "\n",
    "x1 = 5\n",
    "x2 = 5.0\n",
    "x3 = 1000\n",
    "\n",
    "print(\"Est-ce que x1 est inférieur ou égal à x2 ? :\", x1 <= x2)\n",
    "print(\"Est-ce que x1 est équivalent à x3 ? :\", x1 == x3)\n",
    "print(\"Est-ce que x1 est inférieur à x3 ? :\", x1 < x3)\n"
   ]
  },
  {
   "cell_type": "markdown",
   "metadata": {},
   "source": [
    "## Les opérateurs logiques\n",
    "\n",
    "* **and** : ET logique, retourne ***True*** (Vrai) lorsque les deux conditions considérées sont remplies et ***False*** (Faux) sinon;\n",
    "\n",
    "* **or** : OU logique, retourne ***True*** lorsqu'au moins l’une des conditions considérées est remplie et ***False*** sinon;\n",
    "\n",
    "* **not** : NON logique, retourne ***True*** si la condition considérée n’est pas remplie et ***False*** sinon.\n",
    "\n",
    "Remarque : L'ordre de priorité : **not > and > or**."
   ]
  },
  {
   "cell_type": "code",
   "execution_count": 2,
   "metadata": {},
   "outputs": [
    {
     "data": {
      "text/plain": [
       "False"
      ]
     },
     "execution_count": 2,
     "metadata": {},
     "output_type": "execute_result"
    }
   ],
   "source": [
    "100 > 300 and 1 > 3"
   ]
  },
  {
   "cell_type": "code",
   "execution_count": 3,
   "metadata": {},
   "outputs": [
    {
     "data": {
      "text/plain": [
       "True"
      ]
     },
     "execution_count": 3,
     "metadata": {},
     "output_type": "execute_result"
    }
   ],
   "source": [
    "1 > 3 or 0 < 1"
   ]
  },
  {
   "cell_type": "code",
   "execution_count": 4,
   "metadata": {},
   "outputs": [
    {
     "name": "stdout",
     "output_type": "stream",
     "text": [
      "True and True = True\n",
      "True or False = True\n",
      "True and True and False = False\n",
      "True or True and False = True\n",
      "(True or True) and False = False\n",
      "not True = False\n"
     ]
    }
   ],
   "source": [
    "b1 = True\n",
    "b2 = True\n",
    "b3 = False\n",
    "\n",
    "print( \"True and True =\", b1 and b2)\n",
    "print( \"True or False =\", b2 or b3)\n",
    "print(\"True and True and False =\", b1 and b2 and b3)\n",
    "print(\"True or True and False =\", b1 or b2 and b3) \n",
    "print(\"(True or True) and False =\", (b1 or b2) and b3)\n",
    "print(\"not True =\", not b1)"
   ]
  },
  {
   "cell_type": "markdown",
   "metadata": {},
   "source": [
    "## Bloc d’instructions – Indentation\n",
    "\n",
    "Un bloc est défini par une indentation obtenue en décalant le début des instructions vers la droite en utilisant des espaces (habituellement 4 espaces mais ce n’est pas obligatoire). Toutes les instructions d’un même bloc sont placées au même niveau d'indentation. \n",
    "\n",
    "## Structure conditionnelle simple (un cas possible)\n",
    "\n",
    "### Syntaxe\n"
   ]
  },
  {
   "cell_type": "markdown",
   "metadata": {},
   "source": [
    "**if** condition **:**\n",
    "\n",
    ">bloc d'instructions"
   ]
  },
  {
   "cell_type": "markdown",
   "metadata": {},
   "source": [
    "La condition est une expression booléenne. Le **:** (deux-points) à la fin de la ligne introduit le bloc d'instructions qui sera exécuté si la condition est remplie (c’est-à-dire si elle prend pour valeur ***True***).\n",
    "\n",
    "### Exemple"
   ]
  },
  {
   "cell_type": "code",
   "execution_count": 5,
   "metadata": {},
   "outputs": [
    {
     "name": "stdout",
     "output_type": "stream",
     "text": [
      "Entrer un nombre 0\n",
      "Entrer un nombre non nul\n"
     ]
    }
   ],
   "source": [
    "x = eval(input(\"Entrer un nombre \"))\n",
    "\n",
    "if x == 0 :\n",
    "    print(\"Entrer un nombre non nul\")"
   ]
  },
  {
   "cell_type": "markdown",
   "metadata": {},
   "source": [
    "## Structure conditionnelle alternée (deux cas possibles)\n",
    "\n",
    "### Syntaxe\n"
   ]
  },
  {
   "cell_type": "markdown",
   "metadata": {},
   "source": [
    "**if** condition **:**\n",
    "\n",
    ">bloc 1 d'instructions\n",
    "\n",
    "**else :**\n",
    "\n",
    ">bloc 2 d'instructions  "
   ]
  },
  {
   "cell_type": "markdown",
   "metadata": {},
   "source": [
    "Si la condition vaut ***True*** alors le bloc 1 d’instructions sera exécuté, et le bloc 2 sera ignoré, sinon le bloc 2 d'instructions sera exécuté et le bloc 1 sera ignoré. \n",
    "\n",
    "### Exemple"
   ]
  },
  {
   "cell_type": "code",
   "execution_count": 6,
   "metadata": {},
   "outputs": [
    {
     "name": "stdout",
     "output_type": "stream",
     "text": [
      "Entrer la moyenne 17\n",
      "Admis\n"
     ]
    }
   ],
   "source": [
    "x = eval(input(\"Entrer la moyenne \"))\n",
    "\n",
    "if x >= 10 :\n",
    "    print(\"Admis\")\n",
    "else :\n",
    "    print(\"Non admis\")"
   ]
  },
  {
   "cell_type": "markdown",
   "metadata": {},
   "source": [
    "## Structure conditionnelle alternée (plusieurs cas possibles)\n",
    "\n",
    "### Syntaxe\n"
   ]
  },
  {
   "cell_type": "markdown",
   "metadata": {},
   "source": [
    "**if** condition1 **:**\n",
    "\n",
    ">bloc 1 d'instructions\n",
    "\n",
    "**elif** condition2 **:**\n",
    "\n",
    ">bloc 2 d'instructions \n",
    "\n",
    "...\n",
    "\n",
    "**else :**\n",
    "\n",
    ">dernier bloc d'instructions \n"
   ]
  },
  {
   "cell_type": "markdown",
   "metadata": {},
   "source": [
    "Si la condition1 vaut ***True*** alors le bloc 1 d’instructions sera exécuté, et les autres blocs seront ignorés, sinon si la condition2 vaut ***True*** alors le bloc 2 d’instructions sera exécuté, et les autres blocs seront ignorés et ainsi de suite. Si toutes les conditions valent ***False*** le dernier bloc d’instructions sera exécuté.\n"
   ]
  },
  {
   "cell_type": "code",
   "execution_count": 7,
   "metadata": {},
   "outputs": [
    {
     "name": "stdout",
     "output_type": "stream",
     "text": [
      "Entrer un nombre 77\n",
      "Le nombre entré est positif\n"
     ]
    }
   ],
   "source": [
    "x = eval(input(\"Entrer un nombre \"))\n",
    "\n",
    "if x > 0 :\n",
    "    print(\"Le nombre entré est positif\")\n",
    "elif x < 0 :\n",
    "    print(\"Le nombre entré est négatif\")\n",
    "else :\n",
    "    print(\"Le nombre entré est nul\")"
   ]
  },
  {
   "cell_type": "markdown",
   "id": "bbe710e9",
   "metadata": {},
   "source": [
    "# Instructions répétitives\n",
    "\n",
    "En programmation, les boucles permettent de faire des itérations, c'est-à-dire de répéter le même bloc d'instructions. On trouve deux types de boucles : ***while*** et ***for***."
   ]
  },
  {
   "cell_type": "markdown",
   "id": "c16d9ab5",
   "metadata": {},
   "source": [
    "## for\n",
    "\n",
    "L'instruction ***for*** est utilisée pour répéter un nombre connu de fois un bloc d'instructions ou itérer sur les éléments d'un objet itérable.\n",
    "\n",
    "### Syntaxe\n",
    "    \n",
    "\n",
    "\n",
    "***for*** élément ***in*** itérable ***:***\n",
    "\n",
    "   > bloc d'instructions\n",
    "    \n",
    "Dans l’en-tête de la boucle, on précise après le mot-clé ***for*** le nom d’une variable (élément dans l’exemple ci-dessus) qui prendra successivement toutes les valeurs qui sont données après le mot-clé ***in***.\n",
    "\n",
    "\n",
    "Si vous devez itérer sur une suite de nombres, la fonction native ***range()*** est faite pour cela. Elle génère des suites arithmétiques :\n",
    "\n",
    "\n",
    "    \n",
    "### Syntaxe\n",
    "    \n",
    "\n",
    "***for*** item ***in range(start, stop, step):***\n",
    "\n",
    "   > bloc d'instructions\n",
    "    \n",
    "- La valeur par défaut de l'argument ***step*** est ***1*** et de l'argument ***start*** est ***0***.\n",
    "\n",
    "- L'argument ***start*** est inclus dans le résultat tandis que L'argument ***start*** est exclu."
   ]
  },
  {
   "cell_type": "markdown",
   "id": "9a6120b6",
   "metadata": {},
   "source": [
    "### Exemples\n"
   ]
  },
  {
   "cell_type": "code",
   "execution_count": 2,
   "id": "61b24d01",
   "metadata": {},
   "outputs": [
    {
     "name": "stdout",
     "output_type": "stream",
     "text": [
      "0\n",
      "1\n",
      "2\n",
      "3\n",
      "4\n",
      "5\n",
      "6\n",
      "7\n",
      "8\n",
      "9\n"
     ]
    }
   ],
   "source": [
    "for item in range(0,10,1):   #équivalent à range(10)\n",
    "    print(item)"
   ]
  },
  {
   "cell_type": "code",
   "execution_count": 5,
   "id": "3ea2b5ea",
   "metadata": {},
   "outputs": [
    {
     "name": "stdout",
     "output_type": "stream",
     "text": [
      "0\n",
      "2\n",
      "4\n",
      "6\n",
      "8\n"
     ]
    }
   ],
   "source": [
    "for item in range(0, 10, 2):\n",
    "    print(item)"
   ]
  },
  {
   "cell_type": "code",
   "execution_count": 6,
   "id": "c464f867",
   "metadata": {},
   "outputs": [
    {
     "name": "stdout",
     "output_type": "stream",
     "text": [
      "bla-bla-bla\n",
      "bla-bla-bla\n",
      "bla-bla-bla\n",
      "bla-bla-bla\n",
      "bla-bla-bla\n"
     ]
    }
   ],
   "source": [
    "#il vaut mieux utiliser _ au lieu d'un nom si on a pas besoin de la valeur courante de la variable dans la boucle\n",
    "\n",
    "for _ in range(5):   \n",
    "    print(\"bla-bla-bla\")"
   ]
  },
  {
   "cell_type": "markdown",
   "id": "e3b77f3f",
   "metadata": {},
   "source": [
    "## while\n",
    "    \n",
    "\n",
    "\n",
    "L'instruction ***while*** est utilisée pour exécuter des instructions de manière répétée tant qu'une expression est vraie.\n",
    "\n",
    "### Syntaxe\n",
    " \n"
   ]
  },
  {
   "cell_type": "markdown",
   "metadata": {},
   "source": [
    "\n",
    "***while*** condition ***:***\n",
    "\n",
    "   > bloc d'instructions\n"
   ]
  },
  {
   "cell_type": "markdown",
   "metadata": {},
   "source": [
    "### Exemples"
   ]
  },
  {
   "cell_type": "code",
   "execution_count": 3,
   "id": "424f8572",
   "metadata": {},
   "outputs": [
    {
     "name": "stdout",
     "output_type": "stream",
     "text": [
      "Entrée numéro : 1\n",
      "Entrée numéro : 2\n",
      "Entrée numéro : 3\n",
      "Entrée numéro : 4\n",
      "Entrée numéro : 5\n",
      "Entrée numéro : 6\n"
     ]
    }
   ],
   "source": [
    "i = 1\n",
    "while i<7 :\n",
    "    print(\"Entrée numéro :\", i)\n",
    "    i = i + 1 #ou i += 1"
   ]
  },
  {
   "cell_type": "code",
   "execution_count": 5,
   "id": "1fc1a804",
   "metadata": {},
   "outputs": [
    {
     "name": "stdout",
     "output_type": "stream",
     "text": [
      "Entrer un nombre strictement positif -1\n",
      "Entrer un nombre strictement positif ! -17\n",
      "Entrer un nombre strictement positif ! 0\n",
      "Entrer un nombre strictement positif ! 1\n",
      "Merci.\n"
     ]
    }
   ],
   "source": [
    "x = eval(input(\"Entrer un nombre strictement positif \"))\n",
    "while x<=0 :\n",
    "    x = eval(input(\"Entrer un nombre strictement positif ! \"))\n",
    "print(\"Merci.\")"
   ]
  }
 ],
 "metadata": {
  "colab": {
   "collapsed_sections": [],
   "name": "4_Programmation_Python_Partie_2.ipynb",
   "provenance": []
  },
  "kernelspec": {
   "display_name": "Python 3 (ipykernel)",
   "language": "python",
   "name": "python3"
  },
  "language_info": {
   "codemirror_mode": {
    "name": "ipython",
    "version": 3
   },
   "file_extension": ".py",
   "mimetype": "text/x-python",
   "name": "python",
   "nbconvert_exporter": "python",
   "pygments_lexer": "ipython3",
   "version": "3.11.7"
  }
 },
 "nbformat": 4,
 "nbformat_minor": 4
}
