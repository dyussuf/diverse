{
 "cells": [
  {
   "cell_type": "markdown",
   "id": "617718aa",
   "metadata": {},
   "source": [
    "Les fonctions\n",
    "===========\n",
    "\n",
    "En programmation, une fonction est un bloc d'instructions dont l'objectif est d'accomplir une tâche spécifique. Elle se distingue d'une simple séquence d'instructions par son caractère réutilisable.\n",
    "\n",
    "Les fonctions sont très populaires car :  \n",
    "\n",
    "- elles permettent de réutiliser les mêmes instructions plusieurs fois, à différents endroits, sans avoir à les répéter à chaque fois que nous en avons besoin ;\n",
    "- elles nous permettent de diviser des tâches très longues ou complexes en tâches plus petites et spécifiques, ce qui améliore la lisibilité de nos programmes en encapsulant chaque tâche dans une fonction distincte .\n",
    "\n",
    "Un ensemble de fonctions regroupées (à l'addition d'autres choses) est appelé ***module***. Par exemple le module $math$ de Python regroupe des fonctions mathématiques comme $cos$, $sin$, $sqrt$, . . .\n",
    "\n",
    "# ***Définition et Appel***\n",
    "\n",
    "Les fonctions comportent deux parties :  \n",
    "\n",
    "1. **la définition**  \n",
    "2. **l'appel**  \n",
    "\n",
    "Pour pouvoir appeler une fonction, nous devons l'avoir définie (ou importée) au préalable. Une fonction peut être appelée un nombre infini de fois à différents endroits, mais elle ne doit être définie qu'une seule fois !\n",
    "\n",
    "\n",
    "## À SAVOIR - FONCTIONS PRÉDÉFINIES  \n",
    "\n",
    "Jusqu'à présent, nous n'avons utilisé que des fonctions prédéfinies (c'est-à-dire des fonctions déjà définies quelque part). En effet, le langage Python fournit déjà un certain nombre de fonctions pour éviter de devoir les écrire nous-mêmes. Dans ce cas, nous avons soit :\n",
    "\n",
    "- utilisé directement ces fonctions car elles sont intégrées comme `range`, ... ;  \n",
    "- importé ces fonctions depuis une bibliothèque, par exemple la fonction `sqrt` du module `math` et `randint` du module `random`.\n",
    "\n",
    "Désormais, nous serons également capables de définir nos propres fonctions.\n",
    "\n",
    "\n",
    "## Définition  \n",
    "\n",
    "La première étape pour pouvoir utiliser une fonction est de la définir.  \n",
    "Cette étape consiste à :  \n",
    "\n",
    "1. définir un **nom** pour la fonction ;  \n",
    "2. définir les **entrées** qu'elle attend et les **sorties** qu'elle renvoie ;  \n",
    "3. définir le cœur de sa logique.  \n",
    "\n",
    "On peut voir la définition d'une fonction comme une opération analogue à une affectation, avec la différence qu'ici, nous n'allons pas stocker une simple valeur en mémoire, mais une séquence d'instructions.\n",
    "\n",
    "---\n",
    "\n",
    "### Structure  \n",
    "\n",
    "La structure d'une fonction est la suivante :  \n",
    "\n",
    "&nbsp;\n",
    "\n",
    "**def** nom **(** paramètres **)** **:**\n",
    "\n",
    "> bloc d'instructions (corps)\n",
    "\n",
    "> [**return** expression]\n",
    "\n",
    "&nbsp;\n",
    "\n",
    "- **`def`**  \n",
    "  Un mot-clé obligatoire indiquant que nous allons définir (**def**ine) une fonction. \n",
    "  \n",
    "&nbsp;\n",
    "\n",
    "- **nom**  \n",
    "  Un identifiant (choisi par nous) pour la fonction, respectant les mêmes règles que pour les noms de variables. \n",
    "  \n",
    "&nbsp;\n",
    "\n",
    "- **paramètres**  \n",
    "  Une séquence d'identifiants (définis par nous) placés entre parenthèses et séparés par des virgules, indiquant les valeurs que la fonction attend en entrée. \n",
    "  \n",
    "&nbsp;\n",
    "\n",
    "  **IMPORTANT :** Les paramètres sont facultatifs, mais les parenthèses sont obligatoires. Si la fonction n’a pas besoin de paramètres, les parenthèses restent vides.  \n",
    "  \n",
    "&nbsp;\n",
    "\n",
    "- **corps**  \n",
    "  Un bloc d'instructions exécutées lorsque la fonction est appelée. Dans ce bloc, nous pouvons utiliser les variables spécifiées comme entrées de la fonction.  \n",
    "  \n",
    "&nbsp;\n",
    "\n",
    "  **RAPPEL :** Le bloc doit être décalé d'un niveau (indentation) par rapport à sa définition.  \n",
    "  \n",
    "&nbsp;\n",
    "\n",
    "- **`return expression`**  \n",
    "  - La fonction renverra l'évaluation de l'expression comme sortie. Cette sortie peut être affichée directement sur l'écran ou affectée à une variable.\n",
    "  - Une fonction peut avoir une ou plusieurs instructions ***return***, dans ce cas, l'exécution de la fonction se termine dès que l'une de ces instructions est atteinte.\n",
    "  - Si aucune instruction ***return*** n'est présente, la fonction se termine lorsque son exécution atteint la dernière ligne, et la sortie sera automatiquement ***None***."
   ]
  },
  {
   "cell_type": "code",
   "execution_count": null,
   "id": "371aa8be",
   "metadata": {},
   "outputs": [],
   "source": [
    "def imc(taille, poids):\n",
    "\n",
    "    x = poids / taille ** 2\n",
    "\n",
    "    return round(x, 1)"
   ]
  },
  {
   "cell_type": "markdown",
   "id": "759dea95",
   "metadata": {},
   "source": [
    "Cette fonction calcule et retourne l'indice de la masse corporelle à partir de la taille en mètre et le poids en kilogramme."
   ]
  },
  {
   "cell_type": "markdown",
   "id": "d96f03c0",
   "metadata": {},
   "source": [
    "## 2. Appel  \n",
    "\n",
    "C'est la partie où nous utilisons (appelons) une fonction définie.  \n",
    "Pour appeler une fonction, nous devons écrire son nom suivi de parenthèses. À l'intérieur des parenthèses, nous devons placer toutes les entrées nécessaires, s'il y en a.\n",
    "\n",
    "\n",
    "**IMPORTANT**  \n",
    "- Si nous écrivons uniquement le nom de la fonction, sans parenthèses et sans entrées, alors nous **n'exécutons pas** la fonction !  \n",
    "- Pour que la fonction soit exécutée, **VOUS DEVEZ UTILISER LES PARENTHÈSES**.  "
   ]
  },
  {
   "cell_type": "code",
   "execution_count": null,
   "id": "750ad94c",
   "metadata": {},
   "outputs": [],
   "source": [
    "imc(1.7, 73)\n",
    "\n",
    "# C'est la bonne façon d'appeler la fonction imc, en passant deux entrées.\n"
   ]
  },
  {
   "cell_type": "markdown",
   "id": "0d5ea37f",
   "metadata": {},
   "source": [
    "### Paramètres et Arguments  \n",
    "\n",
    "Les termes techniques **paramètres** et **arguments** font tous deux référence aux entrées d'une fonction :  \n",
    "\n",
    "- **Paramètres** : Ce sont les variables spécifiées dans la définition d'une fonction. Elles indiquent quelles entrées la fonction attend.  \n",
    "- **Arguments** : Ce sont les valeurs réelles passées à la fonction lors de son appel. Les arguments font partie de l’appel.  \n",
    "\n",
    "Par défaut, une fonction doit être appelée avec autant d'arguments qu'il y a de paramètres définis.  \n",
    "Par exemple, si nous définissons la fonction `imc` avec deux paramètres, nous devons toujours l'appeler avec **exactement** deux arguments, ni plus, ni moins.\n"
   ]
  },
  {
   "cell_type": "code",
   "execution_count": null,
   "id": "cf1b01af",
   "metadata": {},
   "outputs": [],
   "source": [
    "imc(1.87)"
   ]
  },
  {
   "cell_type": "markdown",
   "id": "de4247de",
   "metadata": {},
   "source": [
    "### Arguments par Défaut\n",
    "\n",
    "Parfois, dans la définition d'une fonction, nous souhaitons spécifier une valeur par défaut pour un ou plusieurs paramètres. Cela peut être fait en indiquant la valeur par défaut directement dans la définition, comme ceci :"
   ]
  },
  {
   "cell_type": "code",
   "execution_count": null,
   "id": "309cf59f",
   "metadata": {},
   "outputs": [],
   "source": [
    "def somme(x1, x2, x3=0):\n",
    "    print(x1+x2+x3)\n",
    "\n",
    "# la paramètre x3 a 0 comme valeur par défaut \n",
    "\n",
    "# dans ce cas, on peux passer 2 arguments au lieu de 3.\n",
    "\n",
    "somme(1, 2)"
   ]
  },
  {
   "cell_type": "code",
   "execution_count": null,
   "id": "bd1831a4",
   "metadata": {},
   "outputs": [],
   "source": [
    "somme(1,2,3)"
   ]
  },
  {
   "cell_type": "markdown",
   "id": "78ab0825",
   "metadata": {},
   "source": [
    "### Portée (*Scope*)  \n",
    "\n",
    "Chaque objet possède sa propre portée. La portée peut être vue comme un espace ou un environnement dans lequel un objet \"existe\" et qui détermine avec quels autres objets il peut interagir.\n",
    "\n",
    "- En général, tout ce qui est défini au niveau supérieur d'un programme Python fait partie d'un environnement unique appelé **global**.  \n",
    "- Toutefois, tout ce qui est défini à l'intérieur d'une fonction appartient à un environnement distinct, appelé **environnement local**.  \n",
    "\n",
    "C'est pourquoi les fonctions nous obligent à réfléchir à la notion de **portée**.\n",
    "\n",
    "---\n",
    "\n",
    "#### Règles  \n",
    "\n",
    "1. **Les objets globaux sont accessibles partout** :  \n",
    "   Ce qui est défini au niveau global est accessible depuis n'importe quel environnement, qu'il soit global ou local.  \n",
    "\n",
    "2. **Les objets locaux sont restreints à leur propre environnement** :  \n",
    "   Ce qui est défini à l'intérieur d'une fonction n'est accessible que dans cette fonction, mais pas en dehors de la fonction.  \n",
    "\n",
    "3. **Modification des objets** :  \n",
    "   Les variables globales peuvent être utilisées dans des environnements locaux, cependant, elles **ne peuvent être modifiées que dans leur propre environnement**, sauf si elles sont explicitement déclarées comme globales dans l'environnement local.  "
   ]
  },
  {
   "cell_type": "code",
   "execution_count": null,
   "id": "3b9781a5",
   "metadata": {},
   "outputs": [],
   "source": [
    "x_global = 1000\n",
    "\n",
    "def test():\n",
    "    x_local = 77\n",
    "    print(\"Environment local:\")\n",
    "    print(f\"- variable globale: {x_global}\")   \n",
    "    # dans ce cas la variable x_global est de portée globale, alors on peut l'utiliser\n",
    "    print(f\"- variable locale: {x_local}\")\n",
    "    \n",
    "test()"
   ]
  },
  {
   "cell_type": "code",
   "execution_count": null,
   "id": "f06f08b8",
   "metadata": {},
   "outputs": [],
   "source": [
    "print(\"Environment global:\")\n",
    "print(f\"- variable globale: {x_global}\")\n",
    "print(f\"- variable locale: {x_local}\")\n",
    "# par contre, x_local est de portée locale, alors on ne peut pas l'utiliser, d'où l'erreur. "
   ]
  },
  {
   "cell_type": "code",
   "execution_count": null,
   "id": "09b8873a",
   "metadata": {},
   "outputs": [],
   "source": [
    "# Prouvons qu'un environnement local ne peut pas modifier directement les objets d'un environnement global\n",
    "\n",
    "# Définissons une variable globale\n",
    "x_global = 1000\n",
    "\n",
    "def modifier_x():\n",
    "    \n",
    "    # Cette ligne ne modifie pas la valeur globale, elle crée simplement une variable locale avec le même nom\n",
    "    x_global = 777\n",
    "    \n",
    "    print(f\"Depuis un environnement local : {x_global}\")\n",
    "    \n",
    "# Exécuter la fonction\n",
    "modifier_x()"
   ]
  },
  {
   "cell_type": "code",
   "execution_count": null,
   "id": "65f5963e",
   "metadata": {},
   "outputs": [],
   "source": [
    "# Cependant, la variable globale reste intacte\n",
    "print(f\"Depuis l'environnement global : {x_global}\")"
   ]
  },
  {
   "cell_type": "markdown",
   "id": "248afa78",
   "metadata": {},
   "source": [
    "Pour réellement modifier une variable globale à partir d'un environnement local, il faut spécifier que nous faisons référence à une variable globale en utilisant le mot-clé ***global***."
   ]
  },
  {
   "cell_type": "code",
   "execution_count": null,
   "id": "5b08825d",
   "metadata": {},
   "outputs": [],
   "source": [
    "# Définissons une variable globale\n",
    "x_global = 1000\n",
    "\n",
    "def actuellement_modifier_x():\n",
    "    global x_global\n",
    "    x_global = 777\n",
    "    \n",
    "    print(f\"Depuis un environnement local : {x_global}\")\n",
    "    \n",
    "# Exécuter la fonction\n",
    "actuellement_modifier_x()"
   ]
  },
  {
   "cell_type": "code",
   "execution_count": null,
   "id": "1e59c3e2",
   "metadata": {},
   "outputs": [],
   "source": [
    "print(f\"Depuis l'environnement global : {x_global}\")"
   ]
  },
  {
   "cell_type": "markdown",
   "id": "136f1693",
   "metadata": {},
   "source": [
    "TP\n",
    "==\n",
    "\n",
    "# Exercice 1\n",
    "\n",
    "Écrire une fonction ***celsius_vers_fahrenheit*** qui prend une température en Celsius et la convertit en Fahrenheit en utilisant la formule : $$f =  9/5  \\times  c + 32$$.\n",
    "\n",
    "# Exercice 2\n",
    "\n",
    "Écrire une fonction ***est_pair*** qui prend un nombre et répond par *oui* si le nombre est pair et *non* sinon.\n",
    "\n",
    "\n",
    "# Exercice 3\n",
    "\n",
    "Écrire une fonction ***appartient(n1, n2, n3)*** qui teste si $n3$ appartient à l'intervalle $[n1, n2]$.\n",
    "\n",
    "\n",
    "# Exercice 4\n",
    "\n",
    "Compléter la fonction `imc` par l'affichage de la classe de la personne :\n",
    "\n",
    "- en dessous de 18,5 kg/m², on considère que la personne est maigre,\n",
    "- entre 18,5 et 24,9 kg/m², on considère que la personne a un poids normal,\n",
    "- entre 25 et 29,9 kg/m², on considère que la personne est en surpoids,\n",
    "- au-dessus de 30 kg/m², on considère que la personne est en obésité.\n",
    "\n",
    "# Exercice 5\n",
    "\n",
    "Écrire une fonction ***maximum*** qui prend deux nombres et retourne le plus grand des deux.\n",
    "\n",
    "- **extra** : cas de 3 nombres.\n",
    "\n",
    "# Exercice 6\n",
    "\n",
    "Créer une fonction ***factorielle*** qui calcule la factorielle d'un nombre.\n",
    "\n",
    "# Exercice 7\n",
    "\n",
    "Créer une fonction ***premier*** qui teste la primalité d'un nombre."
   ]
  }
 ],
 "metadata": {
  "kernelspec": {
   "display_name": "Python 3 (ipykernel)",
   "language": "python",
   "name": "python3"
  },
  "language_info": {
   "codemirror_mode": {
    "name": "ipython",
    "version": 3
   },
   "file_extension": ".py",
   "mimetype": "text/x-python",
   "name": "python",
   "nbconvert_exporter": "python",
   "pygments_lexer": "ipython3",
   "version": "3.11.7"
  }
 },
 "nbformat": 4,
 "nbformat_minor": 5
}
