{
 "cells": [
  {
   "cell_type": "markdown",
   "metadata": {},
   "source": [
    "# Énoncé\n",
    "\n",
    "***Exercice 1***\n",
    "\n",
    "Écrire un programme qui compte le nombre de mots dans une phrase (les mots sont séparés par des espaces).\n",
    "\n",
    "***Exercice 2***\n",
    "\n",
    "Écrire une fonction qui prend un texte et le renvoie inversé.\n",
    "\n",
    "***Exercice 3***\n",
    "\n",
    "Un palindrome est un texte qui se lit de la même manière de gauche à droite et de droite à gauche comme \"$radar$\" et \"$ressasser$\". Écrire une fonction qui prend un texte et vérifie s'il s'agit d'un palindrome.\n",
    "\n",
    "***Exercice 4***\n",
    "\n",
    "Le chiffrement de César consiste à décaler chaque lettre d’un texte d’un certain nombre de positions dans l’alphabet.\n",
    "\n",
    "- Écrire une fonction qui chiffre un texte en décalant chaque lettre d'un nombre donné de positions. Il faut faire correspondre, pour chaque lettre, la valeur de son rang dans l'alphabet, à partir de 0 : a=0, b=1, ..., z=25.\n",
    "\n",
    "- Ajouter une fonction pour déchiffrer le texte en inversant le décalage.\n",
    "\n",
    "- Brute force sur le chiffrement de César : Un texte chiffré avec César peut être facilement cassé en testant tous les décalages possibles. Écrire un programme qui prend un message chiffré par César et affiche toutes les versions possibles.\n",
    "\n",
    "***Exercice 5***\n",
    "\n",
    "Le chiffrement de Vigenère consiste à additionner un texte clé au texte clair. Après avoir fait correspondre la longueur du texte à la clé, on additionne le rang de chaque lettre du texte au rang de la lettre correspondante dans la clé. Le résultat est le rang de la lettre chiffrée.\n",
    "\n",
    "- Écrire une fonction qui renvoie le chiffrement de Vigenère d'un texte donné.\n",
    "\n",
    "- Ajouter une fonction pour déchiffrer le texte.\n",
    "\n",
    "***Exercice 6***\n",
    "\n",
    "Compresser une chaîne en notation RLE (Run-Length Encoding) : L'encodage RLE consiste à remplacer une séquence répétée de caractères par un seul caractère suivi du nombre d'occurrences.\n",
    "\n",
    "$Exemple$ : \"$haaalloo$\" devient \"$h1a3l2o2$\".\n",
    "\n",
    "Écrire une fonction qui prend un texte et le compresse en utilisant cette technique."
   ]
  }
 ],
 "metadata": {
  "colab": {
   "collapsed_sections": [],
   "name": "7_Programmation_Python_Partie_3.ipynb",
   "provenance": []
  },
  "kernelspec": {
   "display_name": "Python 3 (ipykernel)",
   "language": "python",
   "name": "python3"
  },
  "language_info": {
   "codemirror_mode": {
    "name": "ipython",
    "version": 3
   },
   "file_extension": ".py",
   "mimetype": "text/x-python",
   "name": "python",
   "nbconvert_exporter": "python",
   "pygments_lexer": "ipython3",
   "version": "3.11.7"
  }
 },
 "nbformat": 4,
 "nbformat_minor": 4
}
