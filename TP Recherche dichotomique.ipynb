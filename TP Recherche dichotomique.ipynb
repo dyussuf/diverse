{
 "cells": [
  {
   "cell_type": "markdown",
   "metadata": {},
   "source": [
    "# Utilisation\n",
    "\n",
    "Recherche d'un élément dans une liste triée.\n",
    "\n",
    "# Principe\n",
    "\n",
    "On divise la liste triée en deux sous-listes et on compare l’élément du milieu de la liste avec la valeur recherchée :\n",
    "\n",
    "- Si c'est la bonne valeur, on renvoie $True$.\n",
    "\n",
    "- Si la valeur est plus petite, on recherche dans la sous-liste gauche.\n",
    "\n",
    "- Si la valeur est plus grande, on recherche dans la sous-liste droite.\n",
    "\n",
    "On recommence jusqu’à trouver l’élément ou jusqu’à ce que la sous-liste soit vide et on renvoie $False$.\n",
    "\n",
    "\n",
    "# Énoncé\n",
    "\n",
    "Créer une fonction, itérative puis récursive, $recherche\\_dichotomique$ qui prend une liste triée et une valeur, et renvoie $True$ si cette valeur se trouve dans la liste, et $False$ sinon."
   ]
  }
 ],
 "metadata": {
  "colab": {
   "collapsed_sections": [],
   "name": "7_Programmation_Python_Partie_3.ipynb",
   "provenance": []
  },
  "kernelspec": {
   "display_name": "Python 3 (ipykernel)",
   "language": "python",
   "name": "python3"
  },
  "language_info": {
   "codemirror_mode": {
    "name": "ipython",
    "version": 3
   },
   "file_extension": ".py",
   "mimetype": "text/x-python",
   "name": "python",
   "nbconvert_exporter": "python",
   "pygments_lexer": "ipython3",
   "version": "3.11.7"
  }
 },
 "nbformat": 4,
 "nbformat_minor": 4
}
