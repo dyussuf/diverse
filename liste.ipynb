{
 "cells": [
  {
   "cell_type": "markdown",
   "metadata": {
    "colab_type": "text",
    "id": "HDiuAMWgdGEl"
   },
   "source": [
    "Une liste est un objet permettant de stocker et de structurer plusieurs objets de mêmes ou de différents types; des nombres, des chaînes de caractères, des booléens, ... et d’autres listes.\n",
    "\n",
    "# Création d'une liste"
   ]
  },
  {
   "cell_type": "code",
   "execution_count": null,
   "metadata": {},
   "outputs": [],
   "source": [
    "# Liste vide\n",
    "ma_liste = []\n",
    "\n",
    "# Listes avec des éléments de même type\n",
    "nombres = [0, 1, 2, 3, 4, 5, 6, 7]\n",
    "courses = ['farine de blé', 'lait', 'thé', 'pâtes', 'fruits']\n",
    "\n",
    "\n",
    "import math\n",
    "# Liste avec des types variés\n",
    "ma_liste = ['cercle', 7, math.pi, True]"
   ]
  },
  {
   "cell_type": "code",
   "execution_count": null,
   "metadata": {},
   "outputs": [],
   "source": [
    "type(courses)"
   ]
  },
  {
   "cell_type": "markdown",
   "metadata": {},
   "source": [
    "# Accéder aux éléments d'une liste"
   ]
  },
  {
   "cell_type": "code",
   "execution_count": null,
   "metadata": {},
   "outputs": [],
   "source": [
    "#Par index positif (les index commencent à 0)\n",
    "\n",
    "print(\"Le premier élément de la liste :\" , courses[0])\n",
    "print(\"Le deuxième élément de la liste :\" , courses[1])  "
   ]
  },
  {
   "cell_type": "code",
   "execution_count": null,
   "metadata": {},
   "outputs": [],
   "source": [
    "#Par index négatif pour accéder aux éléments à partir de la fin\n",
    "\n",
    "print(\"Le dernier élément de la liste :\", courses[-1])  \n",
    "print(\"L'avant dernier :\", courses[-2])  "
   ]
  },
  {
   "cell_type": "markdown",
   "metadata": {},
   "source": [
    "# Opérations sur les listes"
   ]
  },
  {
   "cell_type": "code",
   "execution_count": null,
   "metadata": {
    "colab": {
     "base_uri": "https://localhost:8080/",
     "height": 35
    },
    "colab_type": "code",
    "id": "kMAwIxOpeumr",
    "outputId": "49c5c01f-947f-47fe-eff9-588a1c97e20f"
   },
   "outputs": [],
   "source": [
    "liste1 = [1, 2, 3]\n",
    "liste2 = [4, 5, 6]\n",
    "\n",
    "# Concaténer des listes en utilisant l'opérateur +\n",
    "liste = liste1 + liste2\n",
    "\n",
    "# Répéter une liste en utilisant l'opérateur *\n",
    "3*liste\n",
    "\n",
    "# Tester l'appartenance avec l'opérateur in\n",
    "1 in liste\n",
    "\n",
    "# Modifier un élément à partir de son index\n",
    "courses[3]='savon'"
   ]
  },
  {
   "cell_type": "markdown",
   "metadata": {},
   "source": [
    "# Quelques fonctions natives :\n",
    "\n",
    "- ***len(liste)*** : Renvoie la longueur (nombre d'éléments) de la liste.\n",
    "- ***max(liste)*** : Renvoie le plus grand élément de la liste\n",
    "- ***min(liste)*** : Renvoie le plus petit élément de la liste.\n",
    "- ***list(map(fonction, liste))*** : Renvoie une nouvelle liste appliquant la fonction à chaque élément de la liste originale\n",
    "\n"
   ]
  },
  {
   "cell_type": "markdown",
   "metadata": {},
   "source": [
    "# Parcourir une liste"
   ]
  },
  {
   "cell_type": "code",
   "execution_count": null,
   "metadata": {},
   "outputs": [],
   "source": [
    "# Boucle simple\n",
    "for x in courses:\n",
    "    print(x)\n",
    "    \n",
    "#ou\n",
    "for i in range(len(courses)):\n",
    "    print(courses[i])\n",
    "\n",
    "\n",
    "# Avec index\n",
    "for i, x in enumerate(courses):\n",
    "    print(i, \":\", x)"
   ]
  },
  {
   "cell_type": "markdown",
   "metadata": {},
   "source": [
    "# Quelques méthodes applicables aux listes :\n",
    "    \n",
    "- ***liste.append(x)*** : Ajouter x à la fin de la liste\n",
    "- ***liste1.extend(liste2)*** : Ajouter les éléments de la liste2 à la fin de la liste1\n",
    "- ***liste.insert(i, x)*** : Insère un élément x à la position i\n",
    "- ***liste.remove(x)*** : Supprime de la liste le premier élément dont la valeur est égale à x.\n",
    "- ***list.index(x)*** : Renvoie la position du premier élément de la liste dont la valeur égale x (en commençant à - compter les positions à partir de zéro).\n",
    "- ***liste.pop(i)*** : Retire et renvoie l'élément d'indice i et liste.pop() retire et renvoie le dernier élément \n",
    "- ***list.count(x)*** : Renvoie le nombre d'éléments ayant la valeur x dans la liste.\n",
    "- ***list.reverse()*** : Inverse l'ordre des éléments dans la liste.\n",
    "- ***list.sort()*** : Trie la liste sur place.\n"
   ]
  },
  {
   "cell_type": "code",
   "execution_count": 6,
   "metadata": {},
   "outputs": [],
   "source": [
    "courses = ['farine de blé', 'lait', 'thé', 'pâtes', 'salade', 'pâtes']\n",
    "\n",
    "# Ajouter un élément à la fin de la liste\n",
    "courses.append('fruits')\n",
    "\n",
    "courses.extend(['chocolat', 'biscuits'])\n",
    "\n",
    "# Insérer à un index spécifique\n",
    "courses.insert(2, 'dattes')\n",
    "\n",
    "# Supprimer un élément par sa valeur\n",
    "courses.remove('pâtes') \n",
    " \n",
    "\n",
    "# Trouvez la position d'une valeur dans une liste\n",
    "position_lait = courses.index('lait')\n",
    "\n",
    "# Retirer et obtenir un élément de la liste par son index\n",
    "x = courses.pop(position_lait)\n",
    "\n",
    "courses.reverse()\n",
    "\n",
    "courses.sort()"
   ]
  },
  {
   "cell_type": "markdown",
   "metadata": {},
   "source": [
    "# Tranchage (Slicing)\n",
    "\n",
    "Pour obtenir une tranche d’indice entre $début$ (inclus) et $fin$ (exclus) avec un $pas$, on utilise $liste[début : fin : pas]$. La liste obtenue est composée de $liste[début]$, $liste[début+ 1 \\times pas]$, $liste[début + 2 \\times pas]$, ... et $liste[début + nombre \\times pas]$, tel que $début + nombre \\times pas$ tend vers $fin$ sinon on obtient une liste vide [ ]."
   ]
  },
  {
   "cell_type": "code",
   "execution_count": null,
   "metadata": {},
   "outputs": [],
   "source": [
    "liste = [0, 1, 2, 3, 4, 5, 6, 7, 8, 9]\n",
    "\n",
    "liste[1:7:1]"
   ]
  },
  {
   "cell_type": "code",
   "execution_count": null,
   "metadata": {},
   "outputs": [],
   "source": [
    "liste[::] # les valeurs par défaut pour le début, la fin et le pas sont 0, la longueur de la liste et 1"
   ]
  },
  {
   "cell_type": "code",
   "execution_count": null,
   "metadata": {},
   "outputs": [],
   "source": [
    "liste[6:0:-1]"
   ]
  },
  {
   "cell_type": "markdown",
   "metadata": {},
   "source": [
    "# Listes en compréhension\n",
    "Les listes en compréhension fournissent un moyen de construire des listes de manière concise et élégante. Elles permettent d'écrire des boucles, des conditions, et des opérations sur les éléments d'une liste en une seule ligne de code.\n",
    "\n",
    "## Syntaxe de base\n",
    "\n",
    "nouvelle_liste = [***expression*** for ***élément*** in ***itérable*** if ***condition***]\n",
    "\n",
    "Une expression sera ajoutée à la nouvelle liste pour chaque élément dans l'itérable avec une condition à vérifier."
   ]
  },
  {
   "cell_type": "code",
   "execution_count": null,
   "metadata": {},
   "outputs": [],
   "source": [
    "#Exemples simples\n",
    "#Créer une liste à partir d'une autre\n",
    "\n",
    "# Ajouter 1 à chaque élément\n",
    "ancienne_liste = [1, 2, 3, 4]\n",
    "nouvelle_liste = [x+1 for x in ancienne_liste]\n",
    "\n",
    "print(nouvelle_liste)  "
   ]
  },
  {
   "cell_type": "code",
   "execution_count": null,
   "metadata": {},
   "outputs": [],
   "source": [
    "#Supposons que l'on veuille créer une liste de carrés, comme :\n",
    "\n",
    "squares = []\n",
    "for x in range(10):\n",
    "    squares.append(x**2)\n",
    "\n",
    "\n",
    "squares = list(map(lambda x: x**2, range(10)))\n",
    "\n",
    "#ou, de manière équivalente :\n",
    "\n",
    "squares = [x**2 for x in range(10)]\n",
    "#ce qui est plus court et lisible.  "
   ]
  },
  {
   "cell_type": "code",
   "execution_count": null,
   "metadata": {},
   "outputs": [],
   "source": [
    "#Ajout de conditions\n",
    "#Filtrer les éléments\n",
    "\n",
    "# Seules les valeurs paires\n",
    "nombres = [1, 2, 3, 4, 5, 6]\n",
    "pairs = [x for x in nombres if x % 2 == 0]\n",
    "print(pairs)"
   ]
  },
  {
   "cell_type": "markdown",
   "metadata": {},
   "source": [
    "# Liste imbriquée \n",
    "\n",
    "Une liste imbriquée est une liste qui contient d'autres listes comme éléments. Elles sont souvent utilisées pour représenter des structures complexes comme les matrices et les tableaux de données."
   ]
  },
  {
   "cell_type": "code",
   "execution_count": null,
   "metadata": {},
   "outputs": [],
   "source": [
    "#Créer une liste imbriquée\n",
    "\n",
    "matrice = [[1, 2, 3], [4, 5, 6], [7, 8, 9]]\n"
   ]
  },
  {
   "cell_type": "code",
   "execution_count": null,
   "metadata": {},
   "outputs": [],
   "source": [
    "#Accéder aux éléments d'une liste imbriquée\n",
    "#On utilise plusieurs index pour accéder aux éléments des sous-listes :\n",
    "\n",
    "# Accéder à une sous-liste (ligne entière)\n",
    "print(matrice[0])\n",
    "\n",
    "# Accéder à un élément spécifique\n",
    "print(matrice[0][1])  # (ligne 0, colonne 1)\n",
    "print(matrice[2][2])  # (ligne 2, colonne 2)"
   ]
  },
  {
   "cell_type": "markdown",
   "metadata": {},
   "source": [
    "## Parcourir une liste imbriquée\n",
    "\n",
    "On peut utiliser des boucles imbriquées pour parcourir les éléments :"
   ]
  },
  {
   "cell_type": "code",
   "execution_count": null,
   "metadata": {},
   "outputs": [],
   "source": [
    "matrice = [[1, 2, 3], [4, 5, 6], [7, 8, 9]]\n",
    "\n",
    "# Parcourir les sous-listes\n",
    "for ligne in matrice:\n",
    "    print(ligne)\n",
    "\n",
    "# Parcourir les éléments individuels\n",
    "for ligne in matrice:\n",
    "    for x in ligne:\n",
    "        print(x, end=\" \")\n"
   ]
  },
  {
   "cell_type": "markdown",
   "metadata": {},
   "source": [
    "# Copier une liste "
   ]
  },
  {
   "cell_type": "markdown",
   "metadata": {},
   "source": [
    "Si on utilise une simple affectation (=), on ne copie pas la liste, mais crée une référence vers la liste d'origine :"
   ]
  },
  {
   "cell_type": "code",
   "execution_count": null,
   "metadata": {},
   "outputs": [],
   "source": [
    "originale = [1, 2, 3, 4]\n",
    "\n",
    "copie = originale\n",
    "\n",
    "copie.append(5) #modification de la liste copie\n",
    "\n",
    "print(originale) #affichage de la liste originale\n"
   ]
  },
  {
   "cell_type": "markdown",
   "metadata": {},
   "source": [
    "Pour éviter cela, dans le cas d'une liste simple on peut utiliser la méthode copy() :"
   ]
  },
  {
   "cell_type": "code",
   "execution_count": null,
   "metadata": {},
   "outputs": [],
   "source": [
    "originale = [1, 2, 3, 4]\n",
    "copie = originale.copy()\n",
    "\n",
    "copie.append(5)\n",
    "\n",
    "print(originale)\n",
    "print(copie)  \n"
   ]
  },
  {
   "cell_type": "markdown",
   "metadata": {},
   "source": [
    "Dans le cas une liste contenant d'autres objets complexes (comme des sous-listes), il faut une copie profonde. La bibliothèque copy permet cela :"
   ]
  },
  {
   "cell_type": "code",
   "execution_count": null,
   "metadata": {},
   "outputs": [],
   "source": [
    "import copy\n",
    "\n",
    "# Exemple avec des sous-listes\n",
    "originale = [[1, 2], [3, 4]]\n",
    "copie_profonde = copy.deepcopy(originale)\n",
    "\n",
    "# Modification de l'original n'affecte pas la copie profonde\n",
    "originale[0][0] = \"x\"\n",
    "print(originale)         \n",
    "print(copie_profonde)  \n"
   ]
  },
  {
   "cell_type": "markdown",
   "metadata": {},
   "source": [
    "# TP\n",
    "\n",
    "1. Soit liste = [0,1,2,3,5,7,12,19,31,40,71]\n",
    "\n",
    "Donner les résultats des instructions suivantes :\n",
    "\n",
    "- liste[1:7]\n",
    "- liste[:]\n",
    "- liste[:-2]\n",
    "- liste[6:]\n",
    "- liste[ : : 3]\n",
    "- liste[ : : -3]\n",
    "\n",
    "Donner les instructions qui permettent d’obtenir les résultats suivants :\n",
    "\n",
    "- [0,1,2,3]\n",
    "- [3,5,7]\n",
    "- [7,5,3,2,1,0]\n",
    "- [71,31,12,5,2,0]\n",
    "\n",
    "2. Créer une liste des nombres impairs à partir de 1 et inférieurs à une borne donnée.\n",
    "\n",
    "3. Créer une fonction cube(liste) qui renvoie une liste Contenant le cube de chaque élément de la liste originale.\n",
    "\n",
    "4. Créer une fonction somme(liste) qui renvoie la somme des nombres éléments de la liste.\n",
    "\n",
    "5. Créer une fonction qui prend en arguments une lise et un élément et compte les occurrences de cet élément dans la liste.\n",
    "\n",
    "6. Créer une fonction qui renvoie le maximum (ou minimum) d'une liste donnée.\n",
    "\n",
    "7. Créer une fonction ProduitScalaire(V1,V2) qui retourne le produit scalaire des deux vecteurs de même taille V1 et V2.\n",
    "\n",
    "8. Un polynôme  peut être représenté par une liste dont les éléments sont les coefficients et les indices sont les exposants.\n",
    "\n",
    "Exemple : le polynôme $P(x) = x^3 + 6x + 1x$ sera représenté comme suit : P=[1, 6, 0, 1].\n",
    "\n",
    "9. Créer une fonction valeur(P,x) qui calcule P(x).\n",
    "\n",
    "\n",
    "10. Créer une fonction qui fusionne deux listes triées dans l'ordre croissant.\n",
    "\n",
    "11. Gestion des élèves et leurs notes :\n",
    "\n",
    "On dispose d'une liste d'élèves, où chaque élément est une sous-liste contenant l'identifiant d'élève et ses notes dans trois matières.\n",
    "\n",
    "Exemple de données :\n",
    "\n",
    "students = [\n",
    "    [\"student1\", 20, 18, 19],\n",
    "    [\"student2\", 12, 14, 16],\n",
    "    [\"student3\", 9, 10, 11]\n",
    "]\n",
    "\n",
    "- Créer la liste des élèves avec plusieurs et différentes valeurs.\n",
    "- Parcourir la liste et afficher pour chaque élève son identifiant et ses notes.\n",
    "- Calculer et ajouter la moyenne dans la liste de chaque élève.\n",
    "- Parcourir la liste et afficher pour chaque élève son identifiant et sa note moyenne.\n",
    "- Afficher la moyenne de la classe\n",
    "- Afficher les élèves avec une moyenne >= la moyenne de la classe\n",
    "- Trouver le meilleur élève "
   ]
  }
 ],
 "metadata": {
  "colab": {
   "collapsed_sections": [],
   "name": "7_Programmation_Python_Partie_3.ipynb",
   "provenance": []
  },
  "kernelspec": {
   "display_name": "Python 3 (ipykernel)",
   "language": "python",
   "name": "python3"
  },
  "language_info": {
   "codemirror_mode": {
    "name": "ipython",
    "version": 3
   },
   "file_extension": ".py",
   "mimetype": "text/x-python",
   "name": "python",
   "nbconvert_exporter": "python",
   "pygments_lexer": "ipython3",
   "version": "3.11.7"
  }
 },
 "nbformat": 4,
 "nbformat_minor": 4
}
