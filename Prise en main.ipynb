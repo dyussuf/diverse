{
 "cells": [
  {
   "cell_type": "markdown",
   "metadata": {
    "colab_type": "text",
    "id": "gtBELRMhvpvq"
   },
   "source": [
    "# PRISE EN MAIN DU LANGAGE PYTHON"
   ]
  },
  {
   "cell_type": "markdown",
   "metadata": {},
   "source": [
    "## **Python en tant que calculatrice : Calculs basiques**"
   ]
  },
  {
   "cell_type": "markdown",
   "metadata": {
    "colab_type": "text",
    "id": "tvKENqvhwTDO"
   },
   "source": [
    "Python peut être utilisé comme une simple calculatrice pour mener les opérations basiques :\n",
    "\n",
    "* **Addition** : +\n",
    "\n",
    "* **Soustraction** : -\n",
    "\n",
    "* **Multiplication** : *\n",
    "\n",
    "  - **Puissance** : **\n",
    "\n",
    "* **Division** : /\n",
    "\n",
    "  - **Division entière** : //\n",
    "\n",
    "  - **Modulo (Reste de la division entière)** : %"
   ]
  },
  {
   "cell_type": "code",
   "execution_count": null,
   "metadata": {
    "colab": {
     "base_uri": "https://localhost:8080/",
     "height": 35
    },
    "colab_type": "code",
    "id": "10SxqIcRBDch",
    "outputId": "35e61973-55e4-42f6-dabf-ea88830a9a70"
   },
   "outputs": [],
   "source": [
    "# Addition\n",
    "5 + 3"
   ]
  },
  {
   "cell_type": "code",
   "execution_count": null,
   "metadata": {
    "colab": {
     "base_uri": "https://localhost:8080/",
     "height": 35
    },
    "colab_type": "code",
    "id": "7E_rvNRMBa1z",
    "outputId": "df513bd6-57b3-45fa-e364-16b8ef1963ce"
   },
   "outputs": [],
   "source": [
    "# Soustraction\n",
    "10 - 5.5"
   ]
  },
  {
   "cell_type": "code",
   "execution_count": null,
   "metadata": {
    "colab": {
     "base_uri": "https://localhost:8080/",
     "height": 35
    },
    "colab_type": "code",
    "id": "_W7DAw_HBmDV",
    "outputId": "5744fe42-96c6-47b1-8e4f-1510c727edc6"
   },
   "outputs": [],
   "source": [
    "# Multiplication\n",
    "99 * 7"
   ]
  },
  {
   "cell_type": "code",
   "execution_count": null,
   "metadata": {
    "colab": {
     "base_uri": "https://localhost:8080/",
     "height": 54
    },
    "colab_type": "code",
    "id": "80G8opQ4BxUG",
    "outputId": "90c95844-55c0-4603-fe85-60bbda3c5183"
   },
   "outputs": [],
   "source": [
    "# Division\n",
    "5 / 2"
   ]
  },
  {
   "cell_type": "code",
   "execution_count": null,
   "metadata": {
    "colab": {
     "base_uri": "https://localhost:8080/",
     "height": 54
    },
    "colab_type": "code",
    "id": "4dvEdasSB__2",
    "outputId": "ee2221ac-c580-4a84-c50e-3c3318100a0f"
   },
   "outputs": [],
   "source": [
    "# Division entière\n",
    "5 // 2"
   ]
  },
  {
   "cell_type": "code",
   "execution_count": null,
   "metadata": {
    "colab": {
     "base_uri": "https://localhost:8080/",
     "height": 35
    },
    "colab_type": "code",
    "id": "E_f4U2gvCkOE",
    "outputId": "743911bb-6f62-4c12-9ecd-8739f79eb544"
   },
   "outputs": [],
   "source": [
    "# Modulo\n",
    "5 % 2"
   ]
  },
  {
   "cell_type": "markdown",
   "metadata": {
    "colab_type": "text",
    "id": "XjoKvVlGEhpf"
   },
   "source": [
    "5 modulo 2 égal 1 car le reste de la division de 5 par 2 est 1."
   ]
  },
  {
   "cell_type": "code",
   "execution_count": null,
   "metadata": {},
   "outputs": [],
   "source": [
    "# Puissance\n",
    "5 ** 3             # se lit : 5 puissance 3"
   ]
  },
  {
   "cell_type": "code",
   "execution_count": null,
   "metadata": {
    "colab": {
     "base_uri": "https://localhost:8080/",
     "height": 35
    },
    "colab_type": "code",
    "id": "C1Y7_LLvEzzo",
    "outputId": "15509f67-ab8f-4c65-858a-f9e7b2f57612"
   },
   "outputs": [],
   "source": [
    "# Ordre de priorité des opérateurs\n",
    "(5 + 2) * - 3"
   ]
  },
  {
   "cell_type": "markdown",
   "metadata": {
    "colab_type": "text",
    "id": "Ua7AiMkwFIvM"
   },
   "source": [
    "Python évalue d'abord ce qui est entre parenthèses. Ainsi on a :\n",
    "\n",
    "5 + 2 = 7 puis 7 * -3 = -21"
   ]
  },
  {
   "cell_type": "code",
   "execution_count": null,
   "metadata": {
    "colab": {
     "base_uri": "https://localhost:8080/",
     "height": 35
    },
    "colab_type": "code",
    "id": "baxRZUzNFgLW",
    "outputId": "24dd6caa-585f-44de-c53a-59843b6b209b"
   },
   "outputs": [],
   "source": [
    "# Même calcul sans parenthèses\n",
    "5 + 2 * -3"
   ]
  },
  {
   "cell_type": "markdown",
   "metadata": {
    "colab_type": "text",
    "id": "H-ImyNYPGnIO"
   },
   "source": [
    "Python a d'abord évalué 2 * -3 ce qui donne -6 puis a ajouté 5 à ce résultat : 5 - 6 égal à -1. La raison est simple : La multiplication est prioritaire sur l'addition et la soustraction."
   ]
  },
  {
   "cell_type": "code",
   "execution_count": null,
   "metadata": {
    "colab": {
     "base_uri": "https://localhost:8080/",
     "height": 35
    },
    "colab_type": "code",
    "id": "xzw-UzDbHyMi",
    "outputId": "abebd607-023f-4aa9-f067-9d0e8f159aaf"
   },
   "outputs": [],
   "source": [
    "(2 * 5) ** 3"
   ]
  },
  {
   "cell_type": "markdown",
   "metadata": {
    "colab_type": "text",
    "id": "jRfvk19III6Q"
   },
   "source": [
    "Première évaluation : 2 fois 5 égal à 10\n",
    "\n",
    "Deuxième évaluation : 10 puissance 3 égal à 1000."
   ]
  },
  {
   "cell_type": "code",
   "execution_count": null,
   "metadata": {
    "colab": {
     "base_uri": "https://localhost:8080/",
     "height": 35
    },
    "colab_type": "code",
    "id": "8jLiwlVEIalw",
    "outputId": "cc7002a6-f330-40cd-8d4d-907d0d4bd6eb"
   },
   "outputs": [],
   "source": [
    "# Même calcul sans parenthèses\n",
    "2 * 5 ** 3"
   ]
  },
  {
   "cell_type": "markdown",
   "metadata": {
    "colab_type": "text",
    "id": "I7tQKJlsInUq"
   },
   "source": [
    "Python a d'abord évalué 5 puissance 3 ce qui donne 125. Puis il a fait 2 fois ce résultat ce qui donne 250. La raison est simple : La puissance est prioritaire sur la multiplication.\n",
    "\n"
   ]
  },
  {
   "cell_type": "markdown",
   "metadata": {
    "colab": {
     "base_uri": "https://localhost:8080/",
     "height": 35
    },
    "colab_type": "code",
    "id": "jy-QOGGQJeBx",
    "outputId": "3f186b34-685c-40da-9fe0-764e1ef0b4d4"
   },
   "source": [
    "## Exercice\n",
    "\n",
    "Calculez 5 puissance 3,\n",
    "ensuite soustraire 100 du résultat\n",
    "et enfin divisez le résultat par 5.\n",
    "Vous devez trouver comme réponse : 5.0"
   ]
  },
  {
   "cell_type": "code",
   "execution_count": null,
   "metadata": {},
   "outputs": [],
   "source": [
    "# Résolution\n",
    "((5**3) - 100) / 5"
   ]
  },
  {
   "cell_type": "code",
   "execution_count": null,
   "metadata": {},
   "outputs": [],
   "source": [
    "5**3 - 100 / 5"
   ]
  },
  {
   "cell_type": "markdown",
   "metadata": {
    "colab_type": "text",
    "id": "El2L0EX38fre"
   },
   "source": [
    "**CONSEIL : Pour ne pas se tromper sur l'ordre des opérations surtout quand on manipule des expressions plus ou moins complexes, il faut recourir aux parenthèses**."
   ]
  },
  {
   "cell_type": "markdown",
   "metadata": {},
   "source": [
    "## Déclaration des données  et Affectation\n",
    "\n",
    "La déclaration des données est sous la forme d'une initialisation et une affectation, le type de la variable est automatiquement détecté."
   ]
  },
  {
   "cell_type": "code",
   "execution_count": null,
   "metadata": {
    "colab": {
     "base_uri": "https://localhost:8080/",
     "height": 35
    },
    "colab_type": "code",
    "id": "jNX9NwpTOA78",
    "outputId": "1974289c-c09b-437f-b14b-8b049f9bc17f"
   },
   "outputs": [],
   "source": [
    "x = 7\n",
    "x1 = x + 1\n",
    "x2 = x - 1\n",
    "name = 'Omar'"
   ]
  },
  {
   "cell_type": "markdown",
   "metadata": {},
   "source": [
    "### **Types des objets**\n",
    "\n",
    "La fonction **type()** permet de déterminer le type de tout objet Python."
   ]
  },
  {
   "cell_type": "code",
   "execution_count": null,
   "metadata": {},
   "outputs": [],
   "source": [
    "# Type de 7\n",
    "type(7)"
   ]
  },
  {
   "cell_type": "markdown",
   "metadata": {},
   "source": [
    "7 est un nombre entier (**int** mis pour **integer** dans Python)."
   ]
  },
  {
   "cell_type": "code",
   "execution_count": null,
   "metadata": {},
   "outputs": [],
   "source": [
    "# Type de 7.1\n",
    "type(7.1)"
   ]
  },
  {
   "cell_type": "markdown",
   "metadata": {},
   "source": [
    "7.1 est un nombre décimal (**float** dans Python)."
   ]
  },
  {
   "cell_type": "code",
   "execution_count": null,
   "metadata": {},
   "outputs": [],
   "source": [
    "# Type de 'Hello world'\n",
    "type('Hello world')"
   ]
  },
  {
   "cell_type": "markdown",
   "metadata": {},
   "source": [
    "'Hello world' est une chaîne de caractères (**str** mis pour **string** dans Python)."
   ]
  },
  {
   "cell_type": "code",
   "execution_count": null,
   "metadata": {},
   "outputs": [],
   "source": [
    "# Type de la variable x\n",
    "\n",
    "type(x)"
   ]
  },
  {
   "cell_type": "code",
   "execution_count": null,
   "metadata": {},
   "outputs": [],
   "source": [
    "# Type de la variable name\n",
    "\n",
    "type(name)"
   ]
  },
  {
   "cell_type": "markdown",
   "metadata": {},
   "source": [
    "## Exercice d'application\n",
    "\n",
    "1. Affecte **100** à la variable **x1**. Quel est le type de la variable **x1** ?\n",
    "2. Affecte **x1 - 30** à la variable **x2**\n",
    "3. Affecte **x2** divisé par **10** à la variable **x2**\n",
    "4. Affecte **x2** puissance **2** à la variale **x2**\n",
    "5. Quelle est la valeur de **x2** ? Quel est son type ?\n",
    "\n"
   ]
  },
  {
   "cell_type": "markdown",
   "metadata": {
    "colab_type": "text",
    "id": "ZlDJJ1aqLYhf"
   },
   "source": [
    "## Instructions de base : Écriture"
   ]
  },
  {
   "cell_type": "code",
   "execution_count": null,
   "metadata": {
    "colab": {
     "base_uri": "https://localhost:8080/",
     "height": 35
    },
    "colab_type": "code",
    "id": "aOIJetVfLvDH",
    "outputId": "89e2e4a3-c9ae-4675-e9d9-d9121c4f2dd7"
   },
   "outputs": [],
   "source": [
    "#Afficher 'Hello world'\n",
    "\n",
    "print('Hello world')"
   ]
  },
  {
   "cell_type": "code",
   "execution_count": null,
   "metadata": {
    "colab": {
     "base_uri": "https://localhost:8080/",
     "height": 35
    },
    "colab_type": "code",
    "id": "ks5-k3MZLzMh",
    "outputId": "f0c1df1c-63b4-4955-8530-2ddccd2ca38d"
   },
   "outputs": [],
   "source": [
    "#Afficher la valeur de la variable x\n",
    "\n",
    "print(x)"
   ]
  },
  {
   "cell_type": "code",
   "execution_count": null,
   "metadata": {},
   "outputs": [],
   "source": [
    "#Afficher la valeur de la variable name\n",
    "\n",
    "print(name)"
   ]
  },
  {
   "cell_type": "code",
   "execution_count": null,
   "metadata": {},
   "outputs": [],
   "source": [
    "#Combinaison d'une chaîne de caractères et d'une variable\n",
    "\n",
    "print('Hello world, my name is', name)\n"
   ]
  },
  {
   "cell_type": "code",
   "execution_count": null,
   "metadata": {},
   "outputs": [],
   "source": [
    "print(\"Hello world, my name is\", name, \",I'm\", x, \"years old.\")"
   ]
  },
  {
   "cell_type": "code",
   "execution_count": null,
   "metadata": {},
   "outputs": [],
   "source": [
    "#Ou encore\n",
    "print(f\"Hello world, my name is {name}, I'm {x} years old.\")"
   ]
  },
  {
   "cell_type": "code",
   "execution_count": null,
   "metadata": {},
   "outputs": [],
   "source": [
    "print(7+33)"
   ]
  },
  {
   "cell_type": "code",
   "execution_count": null,
   "metadata": {},
   "outputs": [],
   "source": [
    "print(x1-x2)"
   ]
  },
  {
   "cell_type": "markdown",
   "metadata": {},
   "source": [
    "## Instructions de base : Lecture"
   ]
  },
  {
   "cell_type": "markdown",
   "metadata": {},
   "source": [
    "Pour lire une donnée à partir du clavier on utilise **input()**.\n",
    "Écrivons un petit programme qui demande le nom de l'utilisateur et le salue puis demande l'âge de ce même utilisateur."
   ]
  },
  {
   "cell_type": "code",
   "execution_count": null,
   "metadata": {},
   "outputs": [],
   "source": [
    "print(\"Comment t'appelles-tu ?\")\n",
    "name = input()\n",
    "print(\"Bonjour\", name)\n",
    "print(\"Quel âge as-tu ?\")\n",
    "age = input()"
   ]
  },
  {
   "cell_type": "code",
   "execution_count": null,
   "metadata": {},
   "outputs": [],
   "source": [
    "#Ou encore\n",
    "\n",
    "name = input(\"Comment t'appelles-tu ?\")\n",
    "print(\"Bonjour\", name)\n",
    "age = input(\"Quel âge as-tu ?\")"
   ]
  },
  {
   "cell_type": "markdown",
   "metadata": {},
   "source": [
    "## Exercice d'application\n",
    "\n",
    "1. Demander le prénom de l'utilisateur et stocker la réponse sous le nom **first_name**.\n",
    "2. Demander le nom de l'utilisateur sous le nom **last_name**.\n",
    "3. Afficher à l'écran la phrase **\"Vous vous appellez \"** et le nom complet.\n",
    "4. Demander l'âge de l'utilisateur sous le nom **age**.\n",
    "5. Afficher à l'écran son année de naissance."
   ]
  },
  {
   "cell_type": "markdown",
   "metadata": {},
   "source": [
    "## Casting (Changement de type)\n",
    "Essayons d'écrire un programme qui nous demande deux entiers."
   ]
  },
  {
   "cell_type": "code",
   "execution_count": null,
   "metadata": {},
   "outputs": [],
   "source": [
    "e1 = input('Donner le premier entier : ')\n",
    "e2 = input('Donner le deuxième  : ')"
   ]
  },
  {
   "cell_type": "markdown",
   "metadata": {},
   "source": [
    "Maintenant complétons le programme en demandant l'affichage de leur somme."
   ]
  },
  {
   "cell_type": "code",
   "execution_count": null,
   "metadata": {},
   "outputs": [],
   "source": [
    "print(e1+e2)"
   ]
  },
  {
   "cell_type": "markdown",
   "metadata": {},
   "source": [
    "On constate que l'ordinateur traite ces données (par défaut) comme des chaînes de caractères en retournant sa concaténation.\n",
    "Dans ce cas on a besoin de changer le type de nos variables vers : \n",
    "- entier avec **int()**\n",
    "- réel avec **float()**"
   ]
  },
  {
   "cell_type": "code",
   "execution_count": null,
   "metadata": {},
   "outputs": [],
   "source": [
    "s = int(e1) + int(e2)\n",
    "print(s)"
   ]
  },
  {
   "cell_type": "markdown",
   "metadata": {},
   "source": [
    "### Évaluation d'une expression\n",
    "\n",
    "On peut évaluer directement une expression (sous forme d'une chaîne de caractères) avec la fonction **eval()**."
   ]
  },
  {
   "cell_type": "code",
   "execution_count": null,
   "metadata": {},
   "outputs": [],
   "source": [
    "eval('1+7')"
   ]
  },
  {
   "cell_type": "code",
   "execution_count": null,
   "metadata": {},
   "outputs": [],
   "source": [
    "x = 3\n",
    "eval('x-1')"
   ]
  },
  {
   "cell_type": "code",
   "execution_count": null,
   "metadata": {},
   "outputs": [],
   "source": [
    "expression = 'x*(x+1)*(x+2)'\n",
    "print(expression)"
   ]
  },
  {
   "cell_type": "code",
   "execution_count": null,
   "metadata": {},
   "outputs": [],
   "source": [
    "x = 2\n",
    "result = eval(expression)\n",
    "print(result)"
   ]
  }
 ],
 "metadata": {
  "colab": {
   "collapsed_sections": [],
   "name": "Programmation en Python pour la Data Science Partie 1.ipynb",
   "provenance": []
  },
  "kernelspec": {
   "display_name": "Python 3 (ipykernel)",
   "language": "python",
   "name": "python3"
  },
  "language_info": {
   "codemirror_mode": {
    "name": "ipython",
    "version": 3
   },
   "file_extension": ".py",
   "mimetype": "text/x-python",
   "name": "python",
   "nbconvert_exporter": "python",
   "pygments_lexer": "ipython3",
   "version": "3.11.7"
  }
 },
 "nbformat": 4,
 "nbformat_minor": 4
}
