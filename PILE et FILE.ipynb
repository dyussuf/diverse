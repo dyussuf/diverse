{
 "cells": [
  {
   "cell_type": "markdown",
   "id": "cdb0319c",
   "metadata": {},
   "source": [
    "# Pile \n",
    "\n",
    "(stack en anglais) est une structure de données que l'on ne peut remplir ou vider que par une seule et même extrémité. Ce qui veut dire qu'elle fonctionne selon le principe $dernier\\>\\>entré,\\>\\>premier\\>\\>sorti$ (ou $LIFO$ pour $Last\\>\\>In,\\>\\>First\\>\\>Out$). \n",
    "\n",
    "\n",
    "Communément, on a besoin de quatre fonctions pour exploiter la structure d'une pile :\n",
    "\n",
    "1. Une pour la création et l'initialisation de la pile qui renvoie une pile vide.\n",
    "2. Une pour tester si la pile est vide ou non.\n",
    "3. Une pour ajouter un élément à la pile.\n",
    "4. Une pour restituer un élément de la pile. \n",
    "\n",
    "$Implémentation$\n",
    "\n",
    "En python, une pile est facilement implémentée en utilisant une liste et ses méthodes :"
   ]
  },
  {
   "cell_type": "code",
   "execution_count": 2,
   "id": "a87eab62",
   "metadata": {},
   "outputs": [],
   "source": [
    "def créer_pile():\n",
    "    return []"
   ]
  },
  {
   "cell_type": "code",
   "execution_count": 3,
   "id": "f7ca3835",
   "metadata": {},
   "outputs": [],
   "source": [
    "def est_vide(pile):\n",
    "    return pile == []"
   ]
  },
  {
   "cell_type": "code",
   "execution_count": 4,
   "id": "d05d88e4",
   "metadata": {},
   "outputs": [],
   "source": [
    "def empiler(pile, x):\n",
    "    pile.append(x)"
   ]
  },
  {
   "cell_type": "code",
   "execution_count": 5,
   "id": "ce3c33c8",
   "metadata": {},
   "outputs": [],
   "source": [
    "def dépiler(pile):\n",
    "    assert not est_vide(pile)\n",
    "    return pile.pop()"
   ]
  },
  {
   "cell_type": "markdown",
   "id": "0eddbd62",
   "metadata": {},
   "source": [
    "# File \n",
    "\n",
    "(queue en anglais) est une structure de données que l'on ne peut remplir que par une extrémité et vider que par l'autre. Ce qui veut dire qu'elle fonctionne selon le principe $premier\\>\\>entré,\\>\\>premier\\>\\>sorti$ (ou $FIFO$ pour $First\\>\\>In,\\>\\>First\\>\\>Out$). \n",
    "\n",
    "Pareillement, on a besoin de quatre fonctions pour exploiter la structure d'une file :\n",
    "\n",
    "1. Une pour la création et l'initialisation de la file qui renvoie une file vide.\n",
    "2. Une pour tester si la file est vide ou non.\n",
    "3. Une pour ajouter un élément à la file.\n",
    "4. Une pour restituer un élément de la file. \n",
    "\n",
    "$Implémentation$\n",
    "\n",
    "En utilisant une liste et ses méthodes : "
   ]
  },
  {
   "cell_type": "code",
   "execution_count": 6,
   "id": "b702b788",
   "metadata": {},
   "outputs": [],
   "source": [
    "def créer_file():\n",
    "    return []"
   ]
  },
  {
   "cell_type": "code",
   "execution_count": 7,
   "id": "69bdbce0",
   "metadata": {},
   "outputs": [],
   "source": [
    "def est_vide(file):\n",
    "    return file == []"
   ]
  },
  {
   "cell_type": "code",
   "execution_count": 8,
   "id": "1e9a29de",
   "metadata": {},
   "outputs": [],
   "source": [
    "def enfiler(pile, x):\n",
    "    file.insert(0, x)"
   ]
  },
  {
   "cell_type": "code",
   "execution_count": 9,
   "id": "1d1d9e0f",
   "metadata": {},
   "outputs": [],
   "source": [
    "def défiler(file):\n",
    "    assert not est_vide(file)\n",
    "    return file.pop()"
   ]
  },
  {
   "cell_type": "markdown",
   "id": "343dc28a",
   "metadata": {},
   "source": [
    "# TP\n",
    "\n",
    "Dans cette suite d'exercices, on n'utilisera que les primitives de pile et de file vues précédemment.\n",
    "\n",
    "## Exercice 1\n",
    "\n",
    "1. Écrire une fonction $hauteur(pile)$ qui renvoie la hauteur d'une pile donnée.\n",
    "\n",
    "2. Écrire une fonction $copie(pile)$ qui permet de créer et renvoyer une copie d'une pile donnée.\n",
    "\n",
    "3. Écrire une fonction $application(pile, fonction)$ qui prend une pile et une fonction et renvoie la pile formée des images des éléments de la pile par la fonction.\n",
    "\n",
    "## Exercice 2\n",
    "\n",
    "1. Écrire une fonction $hauteur(file)$ qui renvoie la hauteur d'une file donnée.\n",
    "\n",
    "2. Écrire une fonction $renverser(file)$ qui renverse une file donnée.\n",
    "\n",
    "3. Écrire une fonction $rotation(file, pas)$ qui effectue une rotation de la file d'un nombre de pas.\n",
    "\n",
    "## Exercice 3\n",
    "\n",
    "Écrire une fonction $évaluer(expression)$ qui évalue une expression postfixée (notation polonaise inversée) en utilisant une pile.\n",
    "\n",
    "$Exemple$ : '3 4 + 2 -' renvoie 5\n",
    "\n",
    "## Exercice 4\n",
    "\n",
    "Écrire une fonction $bien\\_formée(expression)$ qui utilise une pile pour vérifier si les parenthèses dans une expression sont bien ouvertes et fermées.\n",
    "\n",
    "Une expression est bien parenthésée, si à tout moment le nombre de parenthèses ouvrantes est supérieur ou égal au nombre de parenthèses fermantes avec égalité en fin d'expression.\n",
    "\n",
    "1. On parcourt l'expression de gauche à droite;\n",
    "\n",
    "2. On empile pour chaque '(' rencontrée;\n",
    "\n",
    "3. En rencontrant une ')' on essaye de dépiler; dans ce cas, si la pile est vide, alors l'expression n’est pas bien parenthésée (la première condition n'est pas vérifiée), sinon on continue.\n",
    "    \n",
    "4. Quand le parcours termine, si la pile est vide l’expression est bien parenthésée, sinon elle ne l’est pas (la deuxième condition n'est pas vérifiée)."
   ]
  },
  {
   "cell_type": "code",
   "execution_count": 37,
   "id": "477bcaa8",
   "metadata": {},
   "outputs": [
    {
     "data": {
      "text/plain": [
       "5"
      ]
     },
     "execution_count": 37,
     "metadata": {},
     "output_type": "execute_result"
    }
   ],
   "source": [
    "def évaluer(expression):\n",
    "    pile = créer_pile()\n",
    "    expression = expression.split()\n",
    "    for x in expression:\n",
    "        if x not in ['+', '-', '*', '/']:\n",
    "            empiler(pile, x)\n",
    "        else:\n",
    "            x2 = dépiler(pile)\n",
    "            x1 = dépiler(pile)\n",
    "            empiler(pile, eval(f'{x1}{x}{x2}'))\n",
    "    return dépiler(pile)\n",
    "\n",
    "bien_formée('3 4 + 2 -')"
   ]
  },
  {
   "cell_type": "code",
   "execution_count": 38,
   "id": "5492e500",
   "metadata": {},
   "outputs": [],
   "source": [
    "def hauteur(pile):\n",
    "    pt = créer_pile()\n",
    "    c = 0\n",
    "    while not est_vide(pile):\n",
    "        empiler(pt, dépiler(pile))\n",
    "        c += 1\n",
    "        \n",
    "    while not est_vide(pt):\n",
    "        empiler(pile, dépiler(pt))\n",
    "    \n",
    "    return c"
   ]
  },
  {
   "cell_type": "code",
   "execution_count": 30,
   "id": "cbfd3852",
   "metadata": {},
   "outputs": [],
   "source": [
    "def copie(pile):\n",
    "    pt = créer_pile()\n",
    "    pc = créer_pile()\n",
    "    while not est_vide(pile):\n",
    "        empiler(pt, dépiler(pile))\n",
    "    while not est_vide(pt):\n",
    "        x = dépiler(pt)\n",
    "        empiler(pc, x)\n",
    "        empiler(pile, x)\n",
    "        \n",
    "    return pc"
   ]
  }
 ],
 "metadata": {
  "kernelspec": {
   "display_name": "Python 3 (ipykernel)",
   "language": "python",
   "name": "python3"
  },
  "language_info": {
   "codemirror_mode": {
    "name": "ipython",
    "version": 3
   },
   "file_extension": ".py",
   "mimetype": "text/x-python",
   "name": "python",
   "nbconvert_exporter": "python",
   "pygments_lexer": "ipython3",
   "version": "3.11.4"
  }
 },
 "nbformat": 4,
 "nbformat_minor": 5
}
