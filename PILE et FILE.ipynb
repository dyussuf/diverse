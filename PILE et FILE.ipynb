{
 "cells": [
  {
   "cell_type": "markdown",
   "id": "cdb0319c",
   "metadata": {},
   "source": [
    "Une pile (stack en anglais) est une structure de données fonctionnant selon le principe $dernier\\>\\>entré,\\>\\>premier\\>\\>sorti$ (ou $LIFO$ pour $Last\\>\\>In,\\>\\>First\\>\\>Out$). Ce qui veut dire que l'on ne peut remplir ou vider que par une seule et même extrémité.\n",
    "\n",
    "\n",
    "Communément, on a besoin de quatre fonctions pour utiliser une pile :\n",
    "\n",
    "1. Une pour la création et l'initialisation de la pile qui renvoie une pile vide.\n",
    "2. Une pour tester si la pile est vide ou non.\n",
    "3. Une pour ajouter un élément à la pile.\n",
    "4. Une pour restituer un élément de la pile. \n",
    "\n",
    "Implémentation :\n",
    "\n",
    "En python, une pile est facilement implémentée en utilisant une liste et ses méthodes :"
   ]
  },
  {
   "cell_type": "code",
   "execution_count": 17,
   "id": "a87eab62",
   "metadata": {},
   "outputs": [],
   "source": [
    "def créer_pile():\n",
    "    return []"
   ]
  },
  {
   "cell_type": "code",
   "execution_count": 18,
   "id": "f7ca3835",
   "metadata": {},
   "outputs": [],
   "source": [
    "def est_vide(pile):\n",
    "    return pile == []"
   ]
  },
  {
   "cell_type": "code",
   "execution_count": 19,
   "id": "d05d88e4",
   "metadata": {},
   "outputs": [],
   "source": [
    "def empiler(pile, x):\n",
    "    pile.append(x)"
   ]
  },
  {
   "cell_type": "code",
   "execution_count": 20,
   "id": "ce3c33c8",
   "metadata": {},
   "outputs": [],
   "source": [
    "def dépiler(pile):\n",
    "    assert not est_vide(pile)\n",
    "    return pile.pop()"
   ]
  },
  {
   "cell_type": "markdown",
   "id": "0eddbd62",
   "metadata": {},
   "source": [
    "Une file (queue en anglais) est une structure de données fonctionnant selon le principe $premier\\>\\>entré,\\>\\>premier\\>\\>sorti$ (ou $FIFO$ pour $First\\>\\>In,\\>\\>First\\>\\>Out$). Ce qui veut dire que l'on ne peut remplir que par une extrémité et vider que par l'autre.\n",
    "\n",
    "Pareillement, on a besoin de quatre fonctions pour utiliser une file :\n",
    "\n",
    "1. Une pour la création et l'initialisation de la file qui renvoie une file vide.\n",
    "2. Une pour tester si la file est vide ou non.\n",
    "3. Une pour ajouter un élément à la file.\n",
    "4. Une pour restituer un élément de la file. \n",
    "\n",
    "Implémentation :\n",
    "\n",
    "En utilisant une liste et ses méthodes : "
   ]
  },
  {
   "cell_type": "code",
   "execution_count": 21,
   "id": "b702b788",
   "metadata": {},
   "outputs": [],
   "source": [
    "def créer_file():\n",
    "    return []"
   ]
  },
  {
   "cell_type": "code",
   "execution_count": 22,
   "id": "69bdbce0",
   "metadata": {},
   "outputs": [],
   "source": [
    "def est_vide(file):\n",
    "    return file == []"
   ]
  },
  {
   "cell_type": "code",
   "execution_count": 23,
   "id": "1e9a29de",
   "metadata": {},
   "outputs": [],
   "source": [
    "def enfiler(pile, x):\n",
    "    file.insert(0, x)"
   ]
  },
  {
   "cell_type": "code",
   "execution_count": 24,
   "id": "1d1d9e0f",
   "metadata": {},
   "outputs": [],
   "source": [
    "def défiler(file):\n",
    "    assert not est_vide(file)\n",
    "    return file.pop()"
   ]
  },
  {
   "cell_type": "markdown",
   "id": "343dc28a",
   "metadata": {},
   "source": [
    "# TP\n",
    "\n",
    "Dans cette suite d'exercices, on n'utilisera que les primitives de pile et de file vues précédemment.\n",
    "\n",
    "## Exercice 1\n",
    "\n",
    "1. Écrire une fonction $hauteur(pile)$ qui renvoie la hauteur d'une pile donnée.\n",
    "\n",
    "2. Écrire une fonction $copie(pile)$ qui permet de créer et renvoyer une copie d'une pile donnée.\n",
    "\n",
    "3. Écrire une fonction $application(pile, fonction)$ qui prend une pile et une fonction et renvoie la pile formée des images des éléments de la pile par la fonction.\n",
    "\n",
    "## Exercice 2 : \n",
    "\n",
    "Écrire une fonction $évaluer(expression)$ qui évalue une expression postfixée (notation polonaise inversée) en utilisant une pile.\n",
    "\n",
    "$Exemple$ : '3 4 + 2 -' renvoie 5\n",
    "\n",
    "## Exercice 3\n",
    "\n",
    "Écrire une fonction $bien\\_formée(expression)$ qui utilise une pile pour vérifier si les parenthèses dans une expression sont bien ouvertes et fermées.\n",
    "\n",
    "Une expression est bien parenthésée, si à tout moment le nombre de parenthèses ouvrantes est supérieur ou égal au nombre de parenthèses fermantes avec égalité en fin d'expression.\n",
    "\n",
    "1. On parcourt l'expression de gauche à droite;\n",
    "\n",
    "2. On empile pour chaque '(' rencontrée;\n",
    "\n",
    "3. En rencontrant une ')' on essaye de dépiler; dans ce cas, si la pile est vide, alors l'expression n’est pas bien parenthésée, sinon on continue.\n",
    "    \n",
    "4. Quand le parcours termine, si la pile est vide l’expression est bien parenthésée, sinon elle ne l’est pas."
   ]
  },
  {
   "cell_type": "code",
   "execution_count": 25,
   "id": "477bcaa8",
   "metadata": {},
   "outputs": [
    {
     "data": {
      "text/plain": [
       "5"
      ]
     },
     "execution_count": 25,
     "metadata": {},
     "output_type": "execute_result"
    }
   ],
   "source": [
    "def bien_formée(expression):\n",
    "    pile = créer_pile()\n",
    "    expression = expression.split()\n",
    "    for x in expression:\n",
    "        if x not in ['+', '-', '*', '/']:\n",
    "            empiler(pile, x)\n",
    "        else:\n",
    "            x2 = dépiler(pile)\n",
    "            x1 = dépiler(pile)\n",
    "            empiler(pile, eval(f'{x1}{x}{x2}'))\n",
    "    return dépiler(pile)\n",
    "\n",
    "bien_formée('3 4 + 2 -')"
   ]
  }
 ],
 "metadata": {
  "kernelspec": {
   "display_name": "Python 3 (ipykernel)",
   "language": "python",
   "name": "python3"
  },
  "language_info": {
   "codemirror_mode": {
    "name": "ipython",
    "version": 3
   },
   "file_extension": ".py",
   "mimetype": "text/x-python",
   "name": "python",
   "nbconvert_exporter": "python",
   "pygments_lexer": "ipython3",
   "version": "3.11.7"
  }
 },
 "nbformat": 4,
 "nbformat_minor": 5
}
