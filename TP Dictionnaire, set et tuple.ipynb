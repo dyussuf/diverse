{
 "cells": [
  {
   "cell_type": "markdown",
   "id": "ebc45f16",
   "metadata": {},
   "source": [
    "# Énoncé\n",
    "\n",
    "***Exercice 1***\n",
    "\n",
    "Écrire une fonction $compteur(texte)$ qui prend une chaîne de caractères et renvoie un dictionnaire avec le nombre d’occurrences de chaque caractères dans le texte.\n",
    "\n",
    "$Exemple$ : compteur('bla bla') renvoie {'b' : 2, 'l' : 2, 'a' : 2, ' ' : 1}. \n",
    "\n",
    "***Exercice 2***\n",
    "\n",
    "Écrire une fonction $maximale(dictionnaire)$ qui renvoie la clé associée à la valeur maximale d’un dictionnaire.\n",
    "\n",
    "$Exemple$ : maximale({'x1':20, 'x2':15, 'x3':17}) renvoie x1.\n",
    "\n",
    "***Exercice 3***\n",
    "\n",
    "Écrire une fonction $tri(dictionnaire)$ qui renvoie une liste des clés triées en fonction des valeurs de manière croissante.\n",
    "\n",
    "$Exemple$ : maximale({'x1':20, 'x2':15, 'x3':17}) renvoie ['x2', 'x3, 'x1'].\n",
    "\n",
    "***Exercice 4***\n",
    "\n",
    "Afin de traiter l'évolution des populations de différents pays entre 1977 et 2007 on utilise un dictionnaire contenant pour chaque pays une liste des populations en différentes années.\n",
    "\n",
    "$Extrait \\>\\> du \\>\\> dictionnaire$ :\n",
    "\n",
    "population = { \n",
    "\n",
    "'Morocco' : [18396941, 20198730, 22987397, 25798239, 28529501, 31167783, 33757175],\n",
    "\n",
    "'Palestine (Gaza)' : [1261091, 1425876, 1691210, 2104779, 2826046, 3389578, 4018332],\n",
    "\n",
    "'Indonesia' : [136725000, 153343000, 169276000, 184816000, 199278000, 211060000, 223547000],\n",
    "\n",
    "'Iraq' : [11882916, 14173318, 16543189, 17861905, 20775703, 24001816, 27499638],\n",
    "\n",
    "'Spain' : [36439000, 37983310, 38880702, 39549438, 39855442, 40152517, 40448191],\n",
    "\n",
    "'United States' : [220239000, 232187835, 242803533, 256894189, 272911760, 287675526, 301139947] \n",
    "\n",
    "}\n",
    "\n",
    "On donne la liste des années de recensement : années = [1977, 1982, 1987, 1992, 1997, 2002, 2007].\n",
    "\n",
    "- Écrire une fonction $population(pays, an)$ qui prend un pays et une année et affiche la population de ce pays en cette année.\n",
    "\n",
    "- Écrire une fonction $maximale(pays)$ qui prend un pays et renvoie l'année associée à la population maximale dans ce pays.\n",
    "\n",
    "- Écrire une fonction $moyenne(pays)$ qui prend un pays et calcule et renvoie la population moyenne de ce pays.\n",
    "\n",
    "- Écrire une fonction $total(an)$ qui prend une année et renvoie la population totale de tous les pays en cette année."
   ]
  }
 ],
 "metadata": {
  "kernelspec": {
   "display_name": "Python 3 (ipykernel)",
   "language": "python",
   "name": "python3"
  },
  "language_info": {
   "codemirror_mode": {
    "name": "ipython",
    "version": 3
   },
   "file_extension": ".py",
   "mimetype": "text/x-python",
   "name": "python",
   "nbconvert_exporter": "python",
   "pygments_lexer": "ipython3",
   "version": "3.11.7"
  }
 },
 "nbformat": 4,
 "nbformat_minor": 5
}
