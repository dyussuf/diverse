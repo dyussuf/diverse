{
 "cells": [
  {
   "cell_type": "markdown",
   "id": "bbe710e9",
   "metadata": {},
   "source": [
    "# Structure répétitives\n",
    "\n",
    "En programmation, les boucles permettent de faire des itérations, c’est-à-dire de répéter le même bloc d’instructions. On trouve deux types de boucles : while et for.\n",
    "\n"
   ]
  },
  {
   "cell_type": "markdown",
   "id": "c16d9ab5",
   "metadata": {},
   "source": [
    "<span style=\"color:#2f2e63\">\n",
    "\n",
    "# 1. for\n",
    "    \n",
    "</span>\n",
    "\n",
    "L'instruction ***for*** est utilisée pour répéter un nombre connu de fois un bloc d'instructions ou itérer sur les éléments d'un objet itérable.\n",
    "\n",
    "<span style=\"color:#2f2e63\">\n",
    "    \n",
    "- ### Syntaxe\n",
    "    \n",
    "</span>\n",
    "\n",
    "***for*** élément ***in*** itérable ***:***\n",
    "   > bloc d'instructions\n",
    "    \n",
    "Dans l’en-tête de la boucle, on précise après le mot-clé ***for*** le nom d’une variable (élément dans l’exemple ci-dessus) qui prendra successivement toutes les valeurs qui sont données après le mot-clé ***in***.\n",
    "\n",
    "\n",
    "Si vous devez itérer sur une suite de nombres, la fonction native ***range()*** est faite pour cela. Elle génère des suites arithmétiques :\n",
    "\n",
    "<span style=\"color:#2f2e63\">\n",
    "    \n",
    "- ### Syntaxe\n",
    "    \n",
    "</span>\n",
    "\n",
    "***for*** item ***in range(start, stop, step):***\n",
    "   > bloc d'instructions\n",
    "    \n",
    "- La valeur par défaut de l'argument ***step*** est ***1*** et de l'argument ***start*** est ***0***.\n",
    "\n",
    "- L'argument ***start*** est inclus dans le résultat tandis que L'argument ***start*** est exclu."
   ]
  },
  {
   "cell_type": "markdown",
   "id": "9a6120b6",
   "metadata": {},
   "source": [
    "\n",
    "<span style=\"color:#2f2e63\">\n",
    "    \n",
    "- ### Exemple\n",
    "    \n",
    "</span>"
   ]
  },
  {
   "cell_type": "code",
   "execution_count": null,
   "id": "c464f867",
   "metadata": {},
   "outputs": [],
   "source": [
    "for item in range(0, 10, 1):\n",
    "    print(\"bla-bla-bla\")"
   ]
  },
  {
   "cell_type": "code",
   "execution_count": null,
   "id": "61b24d01",
   "metadata": {},
   "outputs": [],
   "source": [
    "for item in range(10):\n",
    "    print(item)"
   ]
  },
  {
   "cell_type": "code",
   "execution_count": null,
   "id": "3ea2b5ea",
   "metadata": {},
   "outputs": [],
   "source": [
    "for item in range(0, 10, 2):\n",
    "    print(item)"
   ]
  },
  {
   "cell_type": "markdown",
   "id": "e3b77f3f",
   "metadata": {},
   "source": [
    "<span style=\"color:#2f2e63\">\n",
    "    \n",
    "# 2. while\n",
    "    \n",
    "</span>\n",
    "\n",
    "L'instruction ***while*** est utilisée pour exécuter des instructions de manière répétée tant qu'une expression est vraie.\n",
    "\n",
    "<span style=\"color:#2f2e63\">\n",
    "    \n",
    "- ### Syntaxe\n",
    "    \n",
    "</span>\n",
    " \n",
    "\n",
    "***while*** condition ***:***\n",
    "   > bloc d'instructions\n",
    "  \n",
    "<span style=\"color:#2f2e63\">\n",
    "    \n",
    "- ### Exemple\n",
    "    \n",
    "</span>\n"
   ]
  },
  {
   "cell_type": "code",
   "execution_count": null,
   "id": "424f8572",
   "metadata": {},
   "outputs": [],
   "source": [
    "i = 1\n",
    "while i<7 :\n",
    "    print(\"Entrée numéro :\", i)\n",
    "    i = i + 1 #ou i += 1"
   ]
  },
  {
   "cell_type": "code",
   "execution_count": null,
   "id": "1fc1a804",
   "metadata": {},
   "outputs": [],
   "source": [
    "x = eval(input(\"Entrer un nombre strictement positif \"))\n",
    "while x<=0 :\n",
    "    x = eval(input(\"Entrer un nombre strictement positif ! \"))\n",
    "print(\"Merci.\")"
   ]
  },
  {
   "cell_type": "markdown",
   "id": "0bbb6396",
   "metadata": {},
   "source": [
    "<span style=\"color:#2f2e63\">\n",
    "    \n",
    "# 3. Boucle imbriquée\n",
    "    \n",
    "</span>\n",
    "\n",
    "\n",
    "Boucle complètement inclue dans une autre, de sorte que cette dernière ne peut poursuivre son itération qu’après la sortie de la première. Cela est utilisé par exemple lorsque chaque élément d'une boucle nécessite un traitement sous forme d'une boucle.\n",
    "\n",
    "<span style=\"color:#2f2e63\">\n",
    "    \n",
    "- ### Exemple : Affichage des coordonnées dans une grille\n",
    "    \n",
    "</span>"
   ]
  },
  {
   "cell_type": "code",
   "execution_count": null,
   "id": "5c683023",
   "metadata": {},
   "outputs": [],
   "source": [
    "for ligne in range(3):  # Boucle extérieure : contrôle les lignes\n",
    "    for colonne in range(3):  # Boucle intérieure : contrôle les colonnes\n",
    "        print(f\"({ligne}, {colonne})\", end=\" \")  # Affiche les coordonnées\n",
    "    print()  # Passe à la ligne suivante après chaque ligne"
   ]
  },
  {
   "cell_type": "markdown",
   "id": "270c0f6f",
   "metadata": {},
   "source": [
    "<span style=\"color:#2f2e63\">\n",
    "\n",
    "# 4. break et continue\n",
    "    \n",
    "</span>\n",
    "\n",
    "Les instructions ***break*** et ***continue*** ne peuvent apparaître qu'à l'intérieur d'une boucle ***for*** ou ***while***.\n",
    "\n",
    "<span style=\"color:#2f2e63\">\n",
    "    \n",
    "- ## break\n",
    "    \n",
    "</span>\n",
    "\n",
    "Elle termine la boucle la plus imbriquée, shuntant l'instruction suivante après cette boucle.\n",
    "\n",
    "<span style=\"color:#2f2e63\">\n",
    "    \n",
    "- ## continue\n",
    "    \n",
    "</span>\n",
    "\n",
    "Elle fait continuer le flot d'exécution au prochain cycle de la boucle la plus imbriquée.\n",
    "\n",
    "<span style=\"color:#2f2e63\">    \n",
    "\n",
    "- ### Exemples\n",
    "    \n",
    "</span>"
   ]
  },
  {
   "cell_type": "code",
   "execution_count": null,
   "id": "29c86ab9",
   "metadata": {},
   "outputs": [],
   "source": [
    "for i in range(10):\n",
    "    if i == 6:\n",
    "        break\n",
    "    print(i)\n",
    "    "
   ]
  },
  {
   "cell_type": "code",
   "execution_count": null,
   "id": "9102c309",
   "metadata": {},
   "outputs": [],
   "source": [
    "for i in range(10):\n",
    "    if i == 6:\n",
    "        continue\n",
    "    print(i)"
   ]
  },
  {
   "cell_type": "code",
   "execution_count": null,
   "id": "16176050",
   "metadata": {},
   "outputs": [],
   "source": [
    "for ligne in range(10):\n",
    "    for colonne in range(10):\n",
    "        if colonne == 7 :\n",
    "            continue\n",
    "        print(f\"({ligne}, {colonne})\", end=\" \")  \n",
    "    print() "
   ]
  },
  {
   "cell_type": "markdown",
   "id": "5f86301f",
   "metadata": {},
   "source": [
    "# TP\n",
    "\n",
    "## Exercice 1\n",
    "\n",
    "Écrire un programme qui retourne la parité d'un nombre donné.\n",
    "\n",
    "## Exercice 2\n",
    "\n",
    "1) Pour un nombre entier positif x, calculer la somme des entier consécutifs de 1 à x.\n",
    "2) Pour un nombre entier positif x, calculer sa factorielle.\n",
    "\n",
    "## Exercice 3\n",
    "\n",
    "Écrire un programme pour :\n",
    "- Demander à l'utilisateur d'entrer des notes tel que tant qu'il y a des notes supplémentaires, ajouter-les au total.\n",
    "- Arrêter lorsque l'utilisateur saisit la valeur *-1*. \n",
    "- Calculer leur moyenne et afficher *admis avec la mention* si la moyenne >= 10 et *non admis* sinon.\n",
    "\n",
    "\n",
    "## Exercice 4\n",
    "\n",
    "L'ordinateur tire un nombre aléatoire entre 0 et 100, l'utilisateur doit le trouver et pour cela propose des valeurs. L'ordinateur indique pour chaque valeur proposée si la valeur est trop petite, trop grande ou s'il a trouvé.\n",
    "1) Écrire un programme pour jouer à ce jeu. En combien de coups est-on sûr de trouver?\n",
    "2) Modifier le programme pour qu'il s'arrête si l'utilisateur n'a pas trouvé au bout du nombre de coups de la question 2.\n",
    "\n",
    "## Exercice 5\n",
    "\n",
    "1) Écrire un programme pour tester si un nombre est premier.\n",
    "2) Écrire un programme pour retourner tous les nombres premiers dans un interval donné.\n",
    "\n",
    "\n",
    "## Exercice 6\n",
    "\n",
    "Écrire un programme qui, à partir d'un nombre entier positif, crée un triangle former des nombres tel que par exemple dans le cas de 10 :\n",
    "\n",
    "0  \n",
    "0  1  \n",
    "0  1  2  \n",
    "0  1  2  3  \n",
    "0  1  2  3  4  \n",
    "0  1  2  3  4  5  \n",
    "0  1  2  3  4  5  6  \n",
    "0  1  2  3  4  5  6  7  \n",
    "0  1  2  3  4  5  6  7  8  \n",
    "0  1  2  3  4  5  6  7  8  9  \n",
    "0  1  2  3  4  5  6  7  8  9  10\n"
   ]
  }
 ],
 "metadata": {
  "kernelspec": {
   "display_name": "Python 3 (ipykernel)",
   "language": "python",
   "name": "python3"
  },
  "language_info": {
   "codemirror_mode": {
    "name": "ipython",
    "version": 3
   },
   "file_extension": ".py",
   "mimetype": "text/x-python",
   "name": "python",
   "nbconvert_exporter": "python",
   "pygments_lexer": "ipython3",
   "version": "3.11.7"
  }
 },
 "nbformat": 4,
 "nbformat_minor": 5
}
