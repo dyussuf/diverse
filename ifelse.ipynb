{
 "cells": [
  {
   "cell_type": "markdown",
   "metadata": {
    "colab_type": "text",
    "id": "irRPGfJySmwu"
   },
   "source": [
    "# Les instructions conditionnelles \n",
    "\n",
    "La structure conditionnelle est une structure dont les instructions sont exécutées selon des conditions. "
   ]
  },
  {
   "cell_type": "markdown",
   "metadata": {
    "colab_type": "text",
    "id": "ahFS_ya6S0qH"
   },
   "source": [
    "## **Les opérateurs de comparaison**\n",
    "\n",
    "Les opérateurs de comparaison permettent de comparer les objets en Python. Les réponses de ces comparaisons sont des booléens (True ou False). Les opérateurs de comparaison sont :  \n",
    "\n",
    "* **<** : **inférieur à**;\n",
    "\n",
    "* **>** : **supérieur à**;\n",
    "\n",
    "* **<=** : **inférieur ou égal à**;\n",
    "\n",
    "* **>=** : **supérieur ou égal à**;\n",
    "\n",
    "* **==** : **égal à**;\n",
    "\n",
    "* **!=** : **différent de**."
   ]
  },
  {
   "cell_type": "code",
   "execution_count": null,
   "metadata": {
    "colab": {
     "base_uri": "https://localhost:8080/",
     "height": 109
    },
    "colab_type": "code",
    "id": "PEg8K7e3SamP",
    "outputId": "6361c8ee-0c5a-4e47-ee30-88a6c3f362b1"
   },
   "outputs": [],
   "source": [
    "print(\"Est-ce que 100 est supérieur à 300 ? :\", 100 > 300)\n",
    "print(\"Est-ce que 8 est égal à '8' ? :\", 70 == '70')\n",
    "print(\"Est-ce que 'Dark' est égal à 'Light' ? :\", 'Dark' == 'Light')\n",
    "\n",
    "x1 = 5\n",
    "x2 = 5.0\n",
    "x3 = 1000\n",
    "\n",
    "print(\"Est-ce que x1 est inférieur ou égal à x2 ? :\", x1 <= x2)\n",
    "print(\"Est-ce que x1 est équivalent à x3 ? :\", x1 == x3)\n",
    "print(\"Est-ce que x1 est inférieur à x3 ? :\", x1 < x3)\n"
   ]
  },
  {
   "cell_type": "markdown",
   "metadata": {},
   "source": [
    "## **Les opérateurs logiques**\n",
    "\n",
    "* **and** : ET logique, retourne ***True*** (Vrai) lorsque les deux conditions considérées sont remplies et ***False*** (Faux) sinon;\n",
    "\n",
    "* **or** : OU logique, retourne ***True*** lorsqu'au moins l’une des conditions considérées est remplie et ***False*** sinon;\n",
    "\n",
    "* **not** : NON logique, retourne ***True*** si la condition considérée n’est pas remplie et ***False*** sinon.\n",
    "\n",
    "Remarque : L'ordre de priorité : not > and > or."
   ]
  },
  {
   "cell_type": "code",
   "execution_count": null,
   "metadata": {},
   "outputs": [],
   "source": [
    "100 > 300 and 1 > 3"
   ]
  },
  {
   "cell_type": "code",
   "execution_count": null,
   "metadata": {},
   "outputs": [],
   "source": [
    "1 > 3 or 0 < 1"
   ]
  },
  {
   "cell_type": "code",
   "execution_count": null,
   "metadata": {},
   "outputs": [],
   "source": [
    "b1 = True\n",
    "b2 = True\n",
    "b3 = False\n",
    "\n",
    "print( \"True and True =\", b1 and b2)\n",
    "print( \"True or False =\", b2 or b3)\n",
    "print(\"True and True and False =\", b1 and b2 and b3)\n",
    "print(\"True or True and False =\", b1 or b2 and b3) \n",
    "print(\"(True or True) and False =\", (b1 or b2) and b3)\n",
    "print(\"not True =\", not b1)"
   ]
  },
  {
   "cell_type": "markdown",
   "metadata": {},
   "source": [
    "## Bloc d’instructions – Indentation\n",
    "\n",
    "Un bloc est défini par une indentation obtenue en décalant le début des instructions vers la droite en utilisant des espaces (habituellement 4 espaces mais ce n’est pas obligatoire). Toutes les instructions d’un même bloc sont placées au même niveau d'indentation. \n",
    "\n",
    "## Instruction conditionnelle simple (un cas possible)\n",
    "\n",
    "### Syntaxe\n",
    "\n",
    "**if** condition **:**\n",
    "> bloc d'instructions\n",
    "\n",
    "La condition est une expression booléenne. Le : (deux-points) à la fin de la ligne introduit le bloc d'instructions qui sera exécuté si la condition est remplie (c’est-à-dire si elle prend pour valeur True).\n",
    "\n",
    "### Exemple"
   ]
  },
  {
   "cell_type": "code",
   "execution_count": null,
   "metadata": {},
   "outputs": [],
   "source": [
    "x = eval(input(\"Entrer un nombre \"))\n",
    "\n",
    "if x == 0 :\n",
    "    print(\"Entrer un nombre non nul\")"
   ]
  },
  {
   "cell_type": "markdown",
   "metadata": {},
   "source": [
    "## Instruction conditionnelle alternée (deux cas possibles)\n",
    "\n",
    "### Syntaxe\n",
    "\n",
    "**if** condition **:**\n",
    "> bloc 1 d'instructions\n",
    "\n",
    "**else :**\n",
    "\n",
    ">bloc 2 d'instructions  \n",
    "\n",
    "Si la condition vaut True alors le bloc 1 d’instructions sera exécuté, et le bloc 2 sera ignoré, sinon le bloc 2 d'instructions sera exécuté et le bloc 1 sera ignoré. \n",
    "\n",
    "### Exemple"
   ]
  },
  {
   "cell_type": "code",
   "execution_count": null,
   "metadata": {},
   "outputs": [],
   "source": [
    "x = eval(input(\"Entrer la moyenne \"))\n",
    "\n",
    "if x >= 10 :\n",
    "    print(\"Admis\")\n",
    "else :\n",
    "    print(\"Non admis\")"
   ]
  },
  {
   "cell_type": "markdown",
   "metadata": {},
   "source": [
    "## Instruction conditionnelle alternée (plusieurs cas possibles)\n",
    "\n",
    "### Syntaxe\n",
    "\n",
    "**if** condition1 **:**\n",
    "> bloc 1 d'instructions\n",
    "\n",
    "**elif** condition2 **:**\n",
    "\n",
    ">bloc 2 d'instructions \n",
    "\n",
    "...\n",
    "\n",
    "**else :**\n",
    "\n",
    ">dernier bloc d'instructions \n",
    "\n",
    "Si la condition1 vaut True alors le bloc 1 d’instructions sera exécuté, et les autres blocs seront ignorés, sinon si la condition2 vaut True alors le bloc 2 d’instructions sera exécuté, et les autres blocs seront ignorés et ainsi de suite. Si toutes les conditions valent False le dernier bloc d'instructions sera exécuté.\n",
    "\n",
    "### Exemple"
   ]
  },
  {
   "cell_type": "code",
   "execution_count": null,
   "metadata": {},
   "outputs": [],
   "source": [
    "x = eval(input(\"Entrer un nombre \"))\n",
    "\n",
    "if x > 0 :\n",
    "    print(\"Le nombre entré est positif\")\n",
    "elif x < 0 :\n",
    "    print(\"Le nombre entré est négatif\")\n",
    "else :\n",
    "    print(\"Le nombre entré est nul\")"
   ]
  },
  {
   "cell_type": "markdown",
   "metadata": {},
   "source": [
    "# TP\n",
    "\n",
    "## Exercice 1\n",
    "\n",
    "Écrire un programme pour demander les notes de cinq matières et leurs coefficients, calculer la moyenne et afficher admis et la mention obtenue si la moyenne >= 10 et non admis sinon. "
   ]
  }
 ],
 "metadata": {
  "colab": {
   "collapsed_sections": [],
   "name": "4_Programmation_Python_Partie_2.ipynb",
   "provenance": []
  },
  "kernelspec": {
   "display_name": "Python 3 (ipykernel)",
   "language": "python",
   "name": "python3"
  },
  "language_info": {
   "codemirror_mode": {
    "name": "ipython",
    "version": 3
   },
   "file_extension": ".py",
   "mimetype": "text/x-python",
   "name": "python",
   "nbconvert_exporter": "python",
   "pygments_lexer": "ipython3",
   "version": "3.11.7"
  }
 },
 "nbformat": 4,
 "nbformat_minor": 4
}
