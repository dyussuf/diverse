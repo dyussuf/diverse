{
 "cells": [
  {
   "cell_type": "markdown",
   "id": "d8af6ab2",
   "metadata": {},
   "source": [
    "# Le module numpy\n",
    "\n",
    "$numpy$ $(numerical\\>python)$ est un module Python optimisé pour effectuer des calculs mathématiques de manière rapides et plus performante sur les vecteurs et les matrices.\n",
    "\n",
    "On commence par importer le module et lui donne l’alias $np$ afin de faciliter son utilisation :"
   ]
  },
  {
   "cell_type": "code",
   "execution_count": 1,
   "id": "fc680c5e",
   "metadata": {},
   "outputs": [],
   "source": [
    "import numpy as np   "
   ]
  },
  {
   "cell_type": "markdown",
   "id": "46064abf",
   "metadata": {},
   "source": [
    "## Quelques fonctions usuelles\n",
    "\n",
    "Dans le module $numpy$ on en trouve plusieurs comme :\n",
    "\n",
    "-  Fonctions trigonométriques : $np.cos$, $np.sin$, ...\n",
    "\n",
    "-  Fonctions logarithmiques et exponentielles : \n",
    "\n",
    "   - $np.log$ pour le logarithme naturel;\n",
    "   \n",
    "   - $np.log2$ et $np.log10$ pour le logarithme à base 2 et à base 10, ...\n",
    "   \n",
    "   - $np.exp$ pour l'exponentielle, ...\n",
    "   \n",
    "-  La fonction $np.sqrt$ qui renvoie la racine carrée et $np.absolute$ pour la valeur absolue, ...\n",
    "\n",
    "## L'objet ndarray\n",
    "\n",
    "$ndarray$ (pour $n\\hspace{3pt} dimensional\\hspace{3pt}array$) est le type de structure de données utilisé pour représenter un tableau multidimensionnel et homogène d’éléments (même type) comme un vecteur (une dimension) une matrice (deux dimensions), ...\n",
    "\n",
    "### Création à partir d'un objet liste\n",
    "\n",
    "Pour définir un tel objet à partir d'une liste, on utilise le mot clé $array$ comme suit :\n",
    "\n",
    "$variable=np.array(liste, dtype)$\n",
    "\n",
    "Le parametre optionnel $dtype$ (data type) définit le type et comment les données sont stockées (taille, représentation mémoire) comme :\n",
    "\n",
    "- ***Entier*** : int8, int16, int32, int64\n",
    "- ***Entier non signé*** : uint8, uint16, uint32, uint64\n",
    "- ***Nombre à virgule (Flottant)*** : float16, float32, float64\n",
    "- ***Nombre flottant complexe*** : complex64, complex128\n",
    "\n",
    "$Exemples$"
   ]
  },
  {
   "cell_type": "code",
   "execution_count": 7,
   "id": "d54cfd0a",
   "metadata": {},
   "outputs": [
    {
     "data": {
      "text/plain": [
       "array([1, 3, 7])"
      ]
     },
     "execution_count": 7,
     "metadata": {},
     "output_type": "execute_result"
    }
   ],
   "source": [
    "vecteur = np.array([1, 3, 7])\n",
    "\n",
    "vecteur"
   ]
  },
  {
   "cell_type": "code",
   "execution_count": 8,
   "id": "025dc0c3",
   "metadata": {},
   "outputs": [
    {
     "name": "stdout",
     "output_type": "stream",
     "text": [
      "type d'éléments : int64\n"
     ]
    }
   ],
   "source": [
    "print('type d\\'éléments :', vecteur.dtype)   #automatique"
   ]
  },
  {
   "cell_type": "code",
   "execution_count": 5,
   "id": "808571d2",
   "metadata": {},
   "outputs": [],
   "source": [
    "vecteur = np.array([1, 3, 7], dtype = 'int8')   #choisi, on a besoin que de 8 bits (nombre entre [-128, 127])"
   ]
  },
  {
   "cell_type": "code",
   "execution_count": 9,
   "id": "509d128c",
   "metadata": {
    "scrolled": true
   },
   "outputs": [
    {
     "data": {
      "text/plain": [
       "array([[1, 3, 7],\n",
       "       [2, 4, 8]])"
      ]
     },
     "execution_count": 9,
     "metadata": {},
     "output_type": "execute_result"
    }
   ],
   "source": [
    "matrice = np.array([[1, 3, 7], [2, 4, 8]]) \n",
    "\n",
    "matrice"
   ]
  },
  {
   "cell_type": "markdown",
   "id": "73b1aecb",
   "metadata": {},
   "source": [
    "***Accès aux éléments***\n",
    "\n",
    "Dans le cas d'une seule dimension on utilise le nom suivi par un indice entre crochets, sinon, et entre les mêmes crochets, on sépare les indices de chaque dimension par une virgule.\n",
    "\n",
    "$Exemples$"
   ]
  },
  {
   "cell_type": "code",
   "execution_count": 10,
   "id": "8edbf99e",
   "metadata": {},
   "outputs": [
    {
     "name": "stdout",
     "output_type": "stream",
     "text": [
      "1\n",
      "7\n"
     ]
    }
   ],
   "source": [
    "# premier et dernier élément du vecteur précédent\n",
    "\n",
    "print(vecteur[0])  \n",
    "print(vecteur[-1])  "
   ]
  },
  {
   "cell_type": "code",
   "execution_count": 11,
   "id": "fbf3320f",
   "metadata": {},
   "outputs": [
    {
     "name": "stdout",
     "output_type": "stream",
     "text": [
      "1\n",
      "8\n"
     ]
    }
   ],
   "source": [
    "# premier et dernier élément de la matrice précédente\n",
    "\n",
    "print(matrice[0,0])  \n",
    "print(matrice[1,2])  \n"
   ]
  },
  {
   "cell_type": "markdown",
   "id": "ee9a6f13",
   "metadata": {},
   "source": [
    "### Création en utilisant des fonctions prédéfinies \n",
    "\n",
    "- $np.arange(d\\acute{e}but, fin, pas)$ renvoie un vecteur ligne dont les valeurs sont en progression arithmétique de raison $pas$, de premier terme $d\\acute{e}but$ et ne dépassant pas $fin$.\n",
    "\n",
    "- Si on a besoin de générer un vecteur de nombres uniformément espacés sur un intervalle $[d\\acute{e}but, fin]$ on peux utiliser $np.linspace(d\\acute{e}but, fin, nombre\\_\\acute{e}l\\acute{e}ments)$. \n",
    "\n",
    "- $np.ones(forme)$ renvoie un tableau d'une forme rempli de 1.\n",
    "\n",
    "- $np.zeros(forme)$ renvoie un tableau d'une forme rempli de 0.\n",
    "\n",
    "$Exemples$"
   ]
  },
  {
   "cell_type": "code",
   "execution_count": 12,
   "id": "2f979548",
   "metadata": {},
   "outputs": [
    {
     "data": {
      "text/plain": [
       "array([1. , 1.5, 2. , 2.5, 3. , 3.5, 4. , 4.5, 5. , 5.5, 6. , 6.5, 7. ,\n",
       "       7.5, 8. , 8.5, 9. , 9.5])"
      ]
     },
     "execution_count": 12,
     "metadata": {},
     "output_type": "execute_result"
    }
   ],
   "source": [
    "v1 = np.arange(1, 10, 0.5)   #un vecteur de valeurs d'une suite arithmétique de raison 0.5 à partir de 1 et ne dépassant pas 10 10\n",
    "\n",
    "v1"
   ]
  },
  {
   "cell_type": "code",
   "execution_count": 13,
   "id": "09b1cb35",
   "metadata": {},
   "outputs": [
    {
     "data": {
      "text/plain": [
       "array([ 1.        ,  1.47368421,  1.94736842,  2.42105263,  2.89473684,\n",
       "        3.36842105,  3.84210526,  4.31578947,  4.78947368,  5.26315789,\n",
       "        5.73684211,  6.21052632,  6.68421053,  7.15789474,  7.63157895,\n",
       "        8.10526316,  8.57894737,  9.05263158,  9.52631579, 10.        ])"
      ]
     },
     "execution_count": 13,
     "metadata": {},
     "output_type": "execute_result"
    }
   ],
   "source": [
    "v2 = np.linspace(1, 10, 20)   #un vecteur de 20 valeurs uniformément distribuées sur [1, 10]\n",
    "\n",
    "v2"
   ]
  },
  {
   "cell_type": "markdown",
   "id": "03b59426",
   "metadata": {},
   "source": [
    "Généralement, $arange$ est utilisée lorsqu'on connaît le pas et $linspace$ lorsqu'on connaît le nombre de valeurs."
   ]
  },
  {
   "cell_type": "code",
   "execution_count": 14,
   "id": "e571edbc",
   "metadata": {},
   "outputs": [
    {
     "data": {
      "text/plain": [
       "array([1., 1., 1., 1., 1., 1., 1.])"
      ]
     },
     "execution_count": 14,
     "metadata": {},
     "output_type": "execute_result"
    }
   ],
   "source": [
    "v3 = np.ones(7)   #un vecteur ligne contenant sept 'un'\n",
    "\n",
    "v3"
   ]
  },
  {
   "cell_type": "code",
   "execution_count": 15,
   "id": "22702c25",
   "metadata": {},
   "outputs": [
    {
     "data": {
      "text/plain": [
       "array([[1.],\n",
       "       [1.],\n",
       "       [1.],\n",
       "       [1.],\n",
       "       [1.],\n",
       "       [1.],\n",
       "       [1.]])"
      ]
     },
     "execution_count": 15,
     "metadata": {},
     "output_type": "execute_result"
    }
   ],
   "source": [
    "v4 = np.ones((7,1))   #un vecteur colonne contenant sept 'un'\n",
    "\n",
    "v4"
   ]
  },
  {
   "cell_type": "code",
   "execution_count": 16,
   "id": "81ec06dc",
   "metadata": {},
   "outputs": [
    {
     "data": {
      "text/plain": [
       "(7, 1)"
      ]
     },
     "execution_count": 16,
     "metadata": {},
     "output_type": "execute_result"
    }
   ],
   "source": [
    "v4.shape   #renvoie un tuple représentant la forme du tableau"
   ]
  },
  {
   "cell_type": "code",
   "execution_count": 17,
   "id": "7126dea6",
   "metadata": {},
   "outputs": [
    {
     "data": {
      "text/plain": [
       "array([[0., 0., 0., 0., 0., 0., 0., 0., 0., 0.],\n",
       "       [0., 0., 0., 0., 0., 0., 0., 0., 0., 0.],\n",
       "       [0., 0., 0., 0., 0., 0., 0., 0., 0., 0.],\n",
       "       [0., 0., 0., 0., 0., 0., 0., 0., 0., 0.],\n",
       "       [0., 0., 0., 0., 0., 0., 0., 0., 0., 0.],\n",
       "       [0., 0., 0., 0., 0., 0., 0., 0., 0., 0.],\n",
       "       [0., 0., 0., 0., 0., 0., 0., 0., 0., 0.]])"
      ]
     },
     "execution_count": 17,
     "metadata": {},
     "output_type": "execute_result"
    }
   ],
   "source": [
    "m1 = np.zeros((7,10))   # une matrice nulle de forme (7 lignes, 10 colonnes)\n",
    "\n",
    "m1"
   ]
  },
  {
   "cell_type": "code",
   "execution_count": 18,
   "id": "61118115",
   "metadata": {},
   "outputs": [
    {
     "data": {
      "text/plain": [
       "(7, 10)"
      ]
     },
     "execution_count": 18,
     "metadata": {},
     "output_type": "execute_result"
    }
   ],
   "source": [
    "m1.shape"
   ]
  },
  {
   "cell_type": "markdown",
   "id": "740da165",
   "metadata": {},
   "source": [
    "On peut générer de tableaux de nombres aléatoires en utilisant les fonctions de $numpy.random$.\n",
    "\n",
    "$Exemples$"
   ]
  },
  {
   "cell_type": "code",
   "execution_count": 21,
   "id": "247764e3",
   "metadata": {},
   "outputs": [
    {
     "data": {
      "text/plain": [
       "array([[3, 6, 3, 1, 8],\n",
       "       [5, 6, 1, 1, 5],\n",
       "       [3, 4, 5, 0, 3]])"
      ]
     },
     "execution_count": 21,
     "metadata": {},
     "output_type": "execute_result"
    }
   ],
   "source": [
    "matrice_aléatoire_1  = np.random.randint(0, 10, (3, 5))   # matrice (3, 5) de nombres entiers aléatoires dans [0, 10[\n",
    "\n",
    "matrice_aléatoire_1"
   ]
  },
  {
   "cell_type": "code",
   "execution_count": 22,
   "id": "498841cd",
   "metadata": {},
   "outputs": [
    {
     "data": {
      "text/plain": [
       "array([[0.01148173, 0.19046363, 0.19553019, 0.95525042, 0.69036821],\n",
       "       [0.69611997, 0.5684202 , 0.57669775, 0.21610266, 0.33685002],\n",
       "       [0.72025102, 0.70179305, 0.65071355, 0.222158  , 0.53115711],\n",
       "       [0.67438668, 0.18753042, 0.9317494 , 0.84253837, 0.9920089 ],\n",
       "       [0.73590629, 0.82179364, 0.39398821, 0.79905419, 0.25246418]])"
      ]
     },
     "execution_count": 22,
     "metadata": {},
     "output_type": "execute_result"
    }
   ],
   "source": [
    "matrice_aléatoire_2 = np.random.rand(5, 5)   # matrice (5, 5) de nombres aléatoires dans [0, 1[\n",
    "\n",
    "matrice_aléatoire_2"
   ]
  },
  {
   "cell_type": "markdown",
   "id": "89e86a11",
   "metadata": {},
   "source": [
    "## Tranchage\n",
    "\n",
    "### par indice\n",
    "\n",
    "Pour obtenir une tranche d'une dimension d’indice entre $d\\acute{e}but$ (inclus) et $fin$ (exclue) avec un $pas$, on utilise pour chaque dimension la syntaxe $d\\acute{e}but : fin : pas$ et la virgule comme séparateur. \n",
    "\n",
    "$Exemples$"
   ]
  },
  {
   "cell_type": "code",
   "execution_count": 34,
   "id": "8e2cbd00",
   "metadata": {},
   "outputs": [
    {
     "data": {
      "text/plain": [
       "array([[5, 5, 9, 9, 3, 4, 1],\n",
       "       [5, 9, 5, 9, 4, 4, 3],\n",
       "       [0, 6, 7, 6, 9, 3, 8],\n",
       "       [1, 2, 1, 7, 2, 4, 5],\n",
       "       [9, 9, 3, 0, 0, 0, 4],\n",
       "       [6, 9, 7, 4, 5, 0, 9],\n",
       "       [5, 6, 6, 3, 6, 4, 0]])"
      ]
     },
     "execution_count": 34,
     "metadata": {},
     "output_type": "execute_result"
    }
   ],
   "source": [
    "matrice_aléatoire  = np.random.randint(0, 10, (7, 7))\n",
    "\n",
    "matrice_aléatoire"
   ]
  },
  {
   "cell_type": "code",
   "execution_count": 35,
   "id": "7957a4f9",
   "metadata": {},
   "outputs": [
    {
     "data": {
      "text/plain": [
       "array([[5, 9, 5, 9, 4, 4, 3],\n",
       "       [0, 6, 7, 6, 9, 3, 8],\n",
       "       [1, 2, 1, 7, 2, 4, 5],\n",
       "       [9, 9, 3, 0, 0, 0, 4]])"
      ]
     },
     "execution_count": 35,
     "metadata": {},
     "output_type": "execute_result"
    }
   ],
   "source": [
    "# de la deuxième ligne à la cinquième  \n",
    "\n",
    "matrice_aléatoire[1:5]"
   ]
  },
  {
   "cell_type": "code",
   "execution_count": 36,
   "id": "2ccf877a",
   "metadata": {},
   "outputs": [
    {
     "data": {
      "text/plain": [
       "array([[5, 9, 4, 4],\n",
       "       [7, 6, 9, 3],\n",
       "       [1, 7, 2, 4],\n",
       "       [3, 0, 0, 0]])"
      ]
     },
     "execution_count": 36,
     "metadata": {},
     "output_type": "execute_result"
    }
   ],
   "source": [
    "# de la deuxième ligne à la cinquième et de la troisième colonne à la sixième  \n",
    "\n",
    "matrice_aléatoire[1:5, 2:6]"
   ]
  },
  {
   "cell_type": "code",
   "execution_count": 37,
   "id": "75f13a1e",
   "metadata": {},
   "outputs": [
    {
     "data": {
      "text/plain": [
       "array([[0, 6, 7],\n",
       "       [1, 2, 1],\n",
       "       [9, 9, 3],\n",
       "       [6, 9, 7],\n",
       "       [5, 6, 6]])"
      ]
     },
     "execution_count": 37,
     "metadata": {},
     "output_type": "execute_result"
    }
   ],
   "source": [
    "# à partir de la troisième ligne et jusqu'à troisième colonne\n",
    "\n",
    "matrice_aléatoire[2:, :3]"
   ]
  },
  {
   "cell_type": "code",
   "execution_count": 45,
   "id": "4128ee3e",
   "metadata": {},
   "outputs": [
    {
     "data": {
      "text/plain": [
       "array([[-5, -5,  9,  9,  3,  4,  1],\n",
       "       [-5, -9,  5,  9,  4,  4,  3],\n",
       "       [ 0,  0,  0,  6,  9,  3,  8],\n",
       "       [ 0,  0,  0,  7,  2,  4,  5],\n",
       "       [ 0,  0,  0,  0,  0,  0,  4],\n",
       "       [ 0,  0,  0,  4,  5,  0,  9],\n",
       "       [ 0,  0,  0,  3,  6,  4,  0]])"
      ]
     },
     "execution_count": 45,
     "metadata": {},
     "output_type": "execute_result"
    }
   ],
   "source": [
    "# modification d'une tranche en utilisant une seule valeur\n",
    "\n",
    "matrice_aléatoire[2:, :3] = 0\n",
    "\n",
    "matrice_aléatoire"
   ]
  },
  {
   "cell_type": "code",
   "execution_count": 49,
   "id": "560eeb50",
   "metadata": {},
   "outputs": [
    {
     "data": {
      "text/plain": [
       "array([[-5, -5],\n",
       "       [-5, -9]])"
      ]
     },
     "execution_count": 49,
     "metadata": {},
     "output_type": "execute_result"
    }
   ],
   "source": [
    "# modification d'une tranche en utilisant un tableau compatible\n",
    "\n",
    "x = matrice_aléatoire[0:2, 0:2]\n",
    "\n",
    "x"
   ]
  },
  {
   "cell_type": "code",
   "execution_count": 48,
   "id": "258b2896",
   "metadata": {},
   "outputs": [
    {
     "data": {
      "text/plain": [
       "array([[-5, -5,  9,  9,  3,  4,  1],\n",
       "       [-5, -9,  5,  9,  4,  4,  3],\n",
       "       [ 0,  0,  0,  6,  9,  3,  8],\n",
       "       [ 0,  0,  0,  7,  2,  4,  5],\n",
       "       [ 0,  0,  0,  0,  0,  0,  4],\n",
       "       [ 0,  0,  0,  4,  5,  0,  9],\n",
       "       [ 0,  0,  0,  3,  6,  4,  0]])"
      ]
     },
     "execution_count": 48,
     "metadata": {},
     "output_type": "execute_result"
    }
   ],
   "source": [
    "matrice_aléatoire[0:2, 0:2] = -x\n",
    "\n",
    "matrice_aléatoire"
   ]
  },
  {
   "cell_type": "markdown",
   "id": "d4d81b5a",
   "metadata": {},
   "source": [
    "### par tableau d'indices\n",
    "\n",
    "$Exemple$"
   ]
  },
  {
   "cell_type": "code",
   "execution_count": 5,
   "id": "dc871d82",
   "metadata": {},
   "outputs": [
    {
     "data": {
      "text/plain": [
       "array([[9, 0, 8, 6, 4, 6, 3],\n",
       "       [0, 9, 1, 7, 2, 3, 0],\n",
       "       [2, 0, 9, 6, 5, 3, 9]])"
      ]
     },
     "execution_count": 5,
     "metadata": {},
     "output_type": "execute_result"
    }
   ],
   "source": [
    "indices = np.array([0,2,4])\n",
    "\n",
    "matrice_aléatoire[indices]   #renvoie les lignes d'indices 0, 2 et 4"
   ]
  },
  {
   "cell_type": "code",
   "execution_count": 15,
   "id": "9515b48e",
   "metadata": {},
   "outputs": [
    {
     "data": {
      "text/plain": [
       "array([0, 7, 3])"
      ]
     },
     "execution_count": 15,
     "metadata": {},
     "output_type": "execute_result"
    }
   ],
   "source": [
    "indices_lignes = np.array([0,2,4])\n",
    "indices_colonnes = np.array([1,3,5])\n",
    "\n",
    "matrice_aléatoire[indices_lignes, indices_colonnes]"
   ]
  },
  {
   "cell_type": "markdown",
   "id": "07faa2ab",
   "metadata": {},
   "source": [
    "## Filtrage\n",
    "\n",
    "Permet de sélectionner des éléments d’un tableau satisfaisant une condition donnée. \n",
    "\n",
    "$Exemple$"
   ]
  },
  {
   "cell_type": "code",
   "execution_count": 25,
   "id": "7f9a7159",
   "metadata": {},
   "outputs": [
    {
     "data": {
      "text/plain": [
       "array([ 7,  7, -5,  3, -5,  0,  6])"
      ]
     },
     "execution_count": 25,
     "metadata": {},
     "output_type": "execute_result"
    }
   ],
   "source": [
    "vecteur_aléatoire  = np.random.randint(-9, 10, 7)\n",
    "\n",
    "vecteur_aléatoire"
   ]
  },
  {
   "cell_type": "code",
   "execution_count": 28,
   "id": "85048b2d",
   "metadata": {},
   "outputs": [
    {
     "data": {
      "text/plain": [
       "array([False, False,  True, False,  True, False, False])"
      ]
     },
     "execution_count": 28,
     "metadata": {},
     "output_type": "execute_result"
    }
   ],
   "source": [
    "condition = vecteur_aléatoire<0\n",
    "\n",
    "condition"
   ]
  },
  {
   "cell_type": "code",
   "execution_count": 29,
   "id": "31c22edb",
   "metadata": {},
   "outputs": [
    {
     "data": {
      "text/plain": [
       "array([-5, -5])"
      ]
     },
     "execution_count": 29,
     "metadata": {},
     "output_type": "execute_result"
    }
   ],
   "source": [
    "vecteur_aléatoire[condition]   #renvoie les valeurs satisfaisant la condition"
   ]
  },
  {
   "cell_type": "code",
   "execution_count": 32,
   "id": "aeb1e5dc",
   "metadata": {},
   "outputs": [],
   "source": [
    "vecteur_aléatoire[condition] = 0 #modifie les valeurs satisfaisant la condition"
   ]
  },
  {
   "cell_type": "code",
   "execution_count": 31,
   "id": "3f2166f2",
   "metadata": {},
   "outputs": [
    {
     "data": {
      "text/plain": [
       "array([7, 7, 0, 3, 0, 0, 6])"
      ]
     },
     "execution_count": 31,
     "metadata": {},
     "output_type": "execute_result"
    }
   ],
   "source": [
    "vecteur_aléatoire"
   ]
  },
  {
   "cell_type": "markdown",
   "id": "88eb0873",
   "metadata": {},
   "source": [
    "## Quelques opérations \n",
    "\n",
    "- $tableau.reshape(nouvelle\\_forme)$ : renvoie un autre tableau en changeant la forme du tableau originel sans en modifier les données (Le nombre total d’éléments doit rester identique) :"
   ]
  },
  {
   "cell_type": "code",
   "execution_count": 33,
   "id": "6669ad3b",
   "metadata": {},
   "outputs": [
    {
     "data": {
      "text/plain": [
       "array([ 0,  1,  2,  3,  4,  5,  6,  7,  8,  9, 10, 11])"
      ]
     },
     "execution_count": 33,
     "metadata": {},
     "output_type": "execute_result"
    }
   ],
   "source": [
    "vecteur = np.arange(12)\n",
    "\n",
    "vecteur"
   ]
  },
  {
   "cell_type": "code",
   "execution_count": 34,
   "id": "36449ff7",
   "metadata": {},
   "outputs": [
    {
     "data": {
      "text/plain": [
       "array([[ 0,  1,  2,  3],\n",
       "       [ 4,  5,  6,  7],\n",
       "       [ 8,  9, 10, 11]])"
      ]
     },
     "execution_count": 34,
     "metadata": {},
     "output_type": "execute_result"
    }
   ],
   "source": [
    "matrice = vecteur.reshape((3,4))\n",
    "\n",
    "matrice"
   ]
  },
  {
   "cell_type": "markdown",
   "id": "ae7ea827",
   "metadata": {},
   "source": [
    "On peut même utiliser -1 comme valeur, dans ce cas la dimension correspondante sera automatiquement calculée  :\n",
    "\n",
    "$Exemple$"
   ]
  },
  {
   "cell_type": "code",
   "execution_count": 35,
   "id": "10dc0ecb",
   "metadata": {},
   "outputs": [
    {
     "data": {
      "text/plain": [
       "array([[ 0,  1,  2,  3,  4,  5],\n",
       "       [ 6,  7,  8,  9, 10, 11]])"
      ]
     },
     "execution_count": 35,
     "metadata": {},
     "output_type": "execute_result"
    }
   ],
   "source": [
    "vecteur.reshape((2,-1))   # 12 éléments à reformer en utilisant 2 lignes"
   ]
  },
  {
   "cell_type": "markdown",
   "id": "d50adafa",
   "metadata": {},
   "source": [
    "- ***Image d'un tableau par une fonction***\n",
    "\n",
    "Pour cela, il suffit de donner ce tableau comme argument à cette fonction.\n",
    "\n",
    "$Exemple$"
   ]
  },
  {
   "cell_type": "code",
   "execution_count": 36,
   "id": "623408bd",
   "metadata": {},
   "outputs": [
    {
     "data": {
      "text/plain": [
       "array([  0,  -1,  -2,  -3,  -4,  -5,  -6,  -7,  -8,  -9, -10, -11])"
      ]
     },
     "execution_count": 36,
     "metadata": {},
     "output_type": "execute_result"
    }
   ],
   "source": [
    "def opposé(x):\n",
    "    return -x\n",
    "\n",
    "vecteur_opposé = opposé(vecteur)\n",
    "\n",
    "vecteur_opposé"
   ]
  },
  {
   "cell_type": "markdown",
   "id": "509f4861",
   "metadata": {},
   "source": [
    "- ***Opérations basiques***\n",
    "\n",
    "Soit $X1$ et $X2$ deux objets de type ndarray de même forme. $X1 \\hspace{2pt}opérateur\\hspace{2pt} X2$, avec $opérateur \\in \\{+,-,*,/,...\\}$, renvoie un objet ndarray $X3$ dont les éléments $x3 = x1 \\hspace{2pt}opérateur \\hspace{2pt}x2$.\n",
    "\n",
    "$Exemples$"
   ]
  },
  {
   "cell_type": "code",
   "execution_count": 38,
   "id": "4e176cda",
   "metadata": {},
   "outputs": [
    {
     "data": {
      "text/plain": [
       "array([[6, 8, 3, 7, 4],\n",
       "       [7, 3, 3, 0, 4],\n",
       "       [8, 3, 1, 7, 9],\n",
       "       [2, 8, 5, 2, 8],\n",
       "       [1, 8, 5, 7, 5]])"
      ]
     },
     "execution_count": 38,
     "metadata": {},
     "output_type": "execute_result"
    }
   ],
   "source": [
    "X1 = np.random.randint(0, 10, (5, 5))\n",
    "\n",
    "X1"
   ]
  },
  {
   "cell_type": "code",
   "execution_count": 39,
   "id": "9ee3b043",
   "metadata": {},
   "outputs": [
    {
     "data": {
      "text/plain": [
       "array([[8, 4, 5, 1, 7],\n",
       "       [7, 1, 0, 6, 6],\n",
       "       [8, 6, 5, 8, 6],\n",
       "       [3, 6, 3, 2, 3],\n",
       "       [9, 1, 6, 7, 2]])"
      ]
     },
     "execution_count": 39,
     "metadata": {},
     "output_type": "execute_result"
    }
   ],
   "source": [
    "X2 = np.random.randint(0, 10, (5, 5))\n",
    "\n",
    "X2"
   ]
  },
  {
   "cell_type": "code",
   "execution_count": 41,
   "id": "e3ff12c2",
   "metadata": {},
   "outputs": [
    {
     "data": {
      "text/plain": [
       "array([[14, 12,  8,  8, 11],\n",
       "       [14,  4,  3,  6, 10],\n",
       "       [16,  9,  6, 15, 15],\n",
       "       [ 5, 14,  8,  4, 11],\n",
       "       [10,  9, 11, 14,  7]])"
      ]
     },
     "execution_count": 41,
     "metadata": {},
     "output_type": "execute_result"
    }
   ],
   "source": [
    "# addition\n",
    "\n",
    "X1+X2"
   ]
  },
  {
   "cell_type": "code",
   "execution_count": 42,
   "id": "e9222a2f",
   "metadata": {},
   "outputs": [
    {
     "data": {
      "text/plain": [
       "array([[ 1679616,     4096,      243,        7,    16384],\n",
       "       [  823543,        3,        1,        0,     4096],\n",
       "       [16777216,      729,        1,  5764801,   531441],\n",
       "       [       8,   262144,      125,        4,      512],\n",
       "       [       1,        8,    15625,   823543,       25]])"
      ]
     },
     "execution_count": 42,
     "metadata": {},
     "output_type": "execute_result"
    }
   ],
   "source": [
    "# puissance\n",
    "\n",
    "X1**X2"
   ]
  },
  {
   "cell_type": "code",
   "execution_count": 9,
   "id": "5a90dc46",
   "metadata": {},
   "outputs": [
    {
     "data": {
      "text/plain": [
       "array([[ 0,  1,  2,  3],\n",
       "       [ 4,  5,  6,  7],\n",
       "       [ 8,  9, 10, 11],\n",
       "       [12, 13, 14, 15],\n",
       "       [16, 17, 18, 19]])"
      ]
     },
     "execution_count": 9,
     "metadata": {},
     "output_type": "execute_result"
    }
   ],
   "source": [
    "m = np.arange(20).reshape((5,4))\n",
    "\n",
    "m"
   ]
  },
  {
   "cell_type": "markdown",
   "id": "e0f5af26",
   "metadata": {},
   "source": [
    "# Algèbre linéaire\n",
    "\n",
    "- ***La matrice identité***"
   ]
  },
  {
   "cell_type": "code",
   "execution_count": 45,
   "id": "693b69f7",
   "metadata": {},
   "outputs": [
    {
     "data": {
      "text/plain": [
       "array([[1., 0., 0., 0., 0.],\n",
       "       [0., 1., 0., 0., 0.],\n",
       "       [0., 0., 1., 0., 0.],\n",
       "       [0., 0., 0., 1., 0.],\n",
       "       [0., 0., 0., 0., 1.]])"
      ]
     },
     "execution_count": 45,
     "metadata": {},
     "output_type": "execute_result"
    }
   ],
   "source": [
    "mi = np.identity(5)\n",
    "\n",
    "mi"
   ]
  },
  {
   "cell_type": "markdown",
   "id": "88038ed9",
   "metadata": {},
   "source": [
    "- ***La matrice transposée***"
   ]
  },
  {
   "cell_type": "code",
   "execution_count": 47,
   "id": "3503035c",
   "metadata": {},
   "outputs": [
    {
     "data": {
      "text/plain": [
       "array([[4, 4, 2, 3],\n",
       "       [1, 4, 4, 2],\n",
       "       [3, 1, 1, 4],\n",
       "       [1, 2, 4, 2],\n",
       "       [3, 4, 3, 3]])"
      ]
     },
     "execution_count": 47,
     "metadata": {},
     "output_type": "execute_result"
    }
   ],
   "source": [
    "m = np.random.randint(1, 5, (5, 4)) \n",
    "\n",
    "m"
   ]
  },
  {
   "cell_type": "code",
   "execution_count": 48,
   "id": "650c7831",
   "metadata": {},
   "outputs": [
    {
     "data": {
      "text/plain": [
       "array([[4, 1, 3, 1, 3],\n",
       "       [4, 4, 1, 2, 4],\n",
       "       [2, 4, 1, 4, 3],\n",
       "       [3, 2, 4, 2, 3]])"
      ]
     },
     "execution_count": 48,
     "metadata": {},
     "output_type": "execute_result"
    }
   ],
   "source": [
    "mt = np.transpose(m)\n",
    "\n",
    "mt"
   ]
  },
  {
   "cell_type": "markdown",
   "id": "b5f56f8b",
   "metadata": {},
   "source": [
    "- ***Le produit***"
   ]
  },
  {
   "cell_type": "code",
   "execution_count": 49,
   "id": "6354a40f",
   "metadata": {},
   "outputs": [
    {
     "data": {
      "text/plain": [
       "array([[45, 34, 30, 26, 43],\n",
       "       [34, 37, 19, 29, 37],\n",
       "       [30, 19, 27, 17, 28],\n",
       "       [26, 29, 17, 25, 29],\n",
       "       [43, 37, 28, 29, 43]])"
      ]
     },
     "execution_count": 49,
     "metadata": {},
     "output_type": "execute_result"
    }
   ],
   "source": [
    "mp = np.dot(m, mt)\n",
    "\n",
    "mp"
   ]
  },
  {
   "cell_type": "markdown",
   "id": "d356e99d",
   "metadata": {},
   "source": [
    "- ***La trace d'une matrice***"
   ]
  },
  {
   "cell_type": "code",
   "execution_count": 50,
   "id": "13a6c397",
   "metadata": {},
   "outputs": [
    {
     "data": {
      "text/plain": [
       "11"
      ]
     },
     "execution_count": 50,
     "metadata": {},
     "output_type": "execute_result"
    }
   ],
   "source": [
    "np.trace(m)"
   ]
  },
  {
   "cell_type": "markdown",
   "id": "8566c331",
   "metadata": {},
   "source": [
    "De plus, dans le sous module $linalg$ (pour $linear\\hspace{3pt}algebra$) :\n",
    "\n",
    "- ***Le déterminant d'une matrice***"
   ]
  },
  {
   "cell_type": "code",
   "execution_count": 57,
   "id": "00ecbb1a",
   "metadata": {},
   "outputs": [
    {
     "data": {
      "text/plain": [
       "-1.9999999999999998"
      ]
     },
     "execution_count": 57,
     "metadata": {},
     "output_type": "execute_result"
    }
   ],
   "source": [
    "m = np.random.randint(0, 5, (3, 3)) \n",
    "\n",
    "np.linalg.det(m)"
   ]
  },
  {
   "cell_type": "markdown",
   "id": "80d7de78",
   "metadata": {},
   "source": [
    "- ***La norme de Frobenius***"
   ]
  },
  {
   "cell_type": "code",
   "execution_count": 54,
   "id": "f90f8211",
   "metadata": {},
   "outputs": [
    {
     "data": {
      "text/plain": [
       "7.14142842854285"
      ]
     },
     "execution_count": 54,
     "metadata": {},
     "output_type": "execute_result"
    }
   ],
   "source": [
    "np.linalg.norm(m)"
   ]
  },
  {
   "cell_type": "markdown",
   "id": "aec8b7c6",
   "metadata": {},
   "source": [
    "- ***L'inverse d'une matrice***"
   ]
  },
  {
   "cell_type": "code",
   "execution_count": 58,
   "id": "9758b629",
   "metadata": {},
   "outputs": [
    {
     "data": {
      "text/plain": [
       "array([[-1. ,  3.5,  0.5],\n",
       "       [ 1. , -2.5, -0.5],\n",
       "       [ 1. , -4. , -0. ]])"
      ]
     },
     "execution_count": 58,
     "metadata": {},
     "output_type": "execute_result"
    }
   ],
   "source": [
    "mi = np.linalg.inv(m)\n",
    "\n",
    "mi"
   ]
  },
  {
   "cell_type": "code",
   "execution_count": 59,
   "id": "88b0fc71",
   "metadata": {},
   "outputs": [
    {
     "data": {
      "text/plain": [
       "array([[1., 0., 0.],\n",
       "       [0., 1., 0.],\n",
       "       [0., 0., 1.]])"
      ]
     },
     "execution_count": 59,
     "metadata": {},
     "output_type": "execute_result"
    }
   ],
   "source": [
    "np.dot(m, mi)"
   ]
  },
  {
   "cell_type": "markdown",
   "id": "419de9e6",
   "metadata": {},
   "source": [
    "- ***Valeurs et vecteurs propres***"
   ]
  },
  {
   "cell_type": "code",
   "execution_count": 61,
   "id": "775e9f54",
   "metadata": {},
   "outputs": [
    {
     "data": {
      "text/plain": [
       "EigResult(eigenvalues=array([ 5.71358466, -0.23072542,  1.51714076]), eigenvectors=array([[-0.74677036, -0.6175901 , -0.09572093],\n",
       "       [-0.15842939,  0.50180982, -0.18509646],\n",
       "       [-0.64593666,  0.60561487,  0.97804744]]))"
      ]
     },
     "execution_count": 61,
     "metadata": {},
     "output_type": "execute_result"
    }
   ],
   "source": [
    "np.linalg.eig(m)   #renvoie deux tableaux, le premier contient les valeurs propres et le deuxième les vecteurs propres associés"
   ]
  },
  {
   "cell_type": "markdown",
   "id": "e0bbaf6c",
   "metadata": {},
   "source": [
    "# Le sous module matplotlib.pyplot\n",
    "\n",
    "$matplotlib.pyplot$ est une bibliothèque $Python$ pour créer des visualisations de données sous forme de graphiques comme les courbes, les nuages de points, les diagrammes en bâtons, les histogrammes, ..."
   ]
  },
  {
   "cell_type": "code",
   "execution_count": 91,
   "id": "7a295045",
   "metadata": {},
   "outputs": [],
   "source": [
    "import matplotlib.pyplot as mpl"
   ]
  },
  {
   "cell_type": "markdown",
   "id": "62c2db3b",
   "metadata": {},
   "source": [
    "## Courbe\n",
    "\n",
    "Après avoir créé les données (vecteur d'abscisses et vecteur d'ordonnés) , on fait appel à la fonction $plot(abscisses, ordonnées)$ qui permet de tracer une ligne brisée continue entre les points donnés.\n",
    "\n",
    "$Exemple$"
   ]
  },
  {
   "cell_type": "markdown",
   "id": "880fc93a",
   "metadata": {},
   "source": [
    "Traçons la courbe de $f(x)=\\frac{1}{x}$ sur $[1, 100]$ :"
   ]
  },
  {
   "cell_type": "code",
   "execution_count": 27,
   "id": "89b34449",
   "metadata": {},
   "outputs": [
    {
     "data": {
      "image/png": "[encoded data removed]",
      "text/plain": [
       "<Figure size 640x480 with 1 Axes>"
      ]
     },
     "metadata": {},
     "output_type": "display_data"
    }
   ],
   "source": [
    "# définition de la fonction\n",
    "def f(x):\n",
    "    return 1/x\n",
    "\n",
    "# création des abscisses \n",
    "x = np.linspace(1, 100, 50)   #spécifie que nous voulons 50 valeurs sur [1, 100].\n",
    "\n",
    "# création des ordonnées\n",
    "y = f(x)\n",
    "\n",
    "# traçage de la courbe\n",
    "mpl.plot(x, y)\n",
    "\n",
    "mpl.annotate('Limite à l\\'infini', (100, f(100)))   #écrire 'Limite' aux coordonnées (100, f(100))\n",
    "\n",
    "# ajout d'une grille\n",
    "mpl.grid()\n",
    "\n",
    "# ajout d'une légende aux axes\n",
    "mpl.xlabel('x')    \n",
    "mpl.ylabel('1/x')\n",
    "\n",
    "# ajout d'un titre\n",
    "mpl.title('inverse')\n",
    "\n",
    "# affichage\n",
    "mpl.show()"
   ]
  },
  {
   "cell_type": "markdown",
   "id": "cd7a7a71",
   "metadata": {},
   "source": [
    "$REMARQUE$ : Plus le nombre des abscisses est grand, plus la courbe est précise et approchera mieux la forme mathématique de la fonction. \n",
    "\n",
    "Pour tracer plusieurs courbes sur la même figure il suffit d'ajouter autant de plot que nécessaire et de personnaliser de préférence chaque courbe par :\n",
    "\n",
    "- un label en utilisant le paramètre $label$ pour l'identifier dans la légende;\n",
    "\n",
    "- une couleur avec le paramètre $color$ et des noms de couleurs en anglais;\n",
    "\n",
    "- un style de ligne avec le paramètre $linestyle$ :\n",
    "\n",
    "   - '-' pour une ligne continue (valeur par défaut)\n",
    "   - '--' pour une ligne discontinue \n",
    "   - '-.' pour une alternance de points et tirets\n",
    "   - ':' pour une ligne pointillée \n",
    "   \n",
    "$Exemple$\n",
    "\n",
    "Traçons les courbes des fonctions $sinus$ et $cosinus$ sur $[-2 \\pi, 2 \\pi]$ :"
   ]
  },
  {
   "cell_type": "code",
   "execution_count": 10,
   "id": "6bf86061",
   "metadata": {},
   "outputs": [
    {
     "data": {
      "image/png": "[encoded data removed]",
      "text/plain": [
       "<Figure size 640x480 with 1 Axes>"
      ]
     },
     "metadata": {},
     "output_type": "display_data"
    }
   ],
   "source": [
    "x = np.linspace(-2*np.pi, 2*np.pi, 100)  \n",
    "y1 = np.sin(x)\n",
    "y2 = np.cos(x)\n",
    "mpl.plot(x,y1, label='sinus', color='red', linestyle='-.')\n",
    "mpl.plot(x,y2, label='cosinus', color='green', linestyle='--')\n",
    "\n",
    "mpl.legend()   #pour ajouter une légende avec les noms des courbes\n",
    "\n",
    "mpl.show()"
   ]
  },
  {
   "cell_type": "markdown",
   "id": "49519ae7",
   "metadata": {},
   "source": [
    "Pour afficher chaque courbe séparément, il suffit de créer une figure avec la fonction $figure()$ et, avant le tracement de chaque courbe, on fait appel à la fonction $subplot$ qui permet d'afficher plusieurs graphiques dans une même figure, organisés en grille. Pour cela, elle prend comme paramètres le nombre de lignes, de colonnes et l'emplacement de la courbe dans la grille.\n",
    "\n",
    "$Exemple$"
   ]
  },
  {
   "cell_type": "code",
   "execution_count": 26,
   "id": "102b9331",
   "metadata": {},
   "outputs": [
    {
     "data": {
      "image/png": "[encoded data removed]",
      "text/plain": [
       "<Figure size 640x480 with 2 Axes>"
      ]
     },
     "metadata": {},
     "output_type": "display_data"
    }
   ],
   "source": [
    "#Figure\n",
    "mpl.figure()\n",
    "\n",
    "# Affichage de deux courbes en utilisant une seule ligne et deux colonnes\n",
    "\n",
    "# sinus\n",
    "mpl.subplot(1,2,1)\n",
    "mpl.plot(x, np.sin(x), label='sin', color='red')\n",
    "mpl.title('sinus')\n",
    "\n",
    "# cosinus\n",
    "mpl.subplot(1,2,2)\n",
    "mpl.plot(x, np.cos(x), label='cos(x)', color='green')\n",
    "mpl.title('cosinus')\n",
    "\n",
    "mpl.show()"
   ]
  },
  {
   "cell_type": "markdown",
   "id": "ea228173",
   "metadata": {},
   "source": [
    "## Nuage de points"
   ]
  },
  {
   "cell_type": "markdown",
   "id": "2eb64d93",
   "metadata": {},
   "source": [
    "Pour représenter graphiquement la relation entre deux séries de données numériques sous format d'un nuage de points on on utilise la fonction $scatter(s\\acute{e}rie1, s\\acute{e}rie2)$.\n",
    "\n",
    "$Exemple$\n",
    "\n",
    "Soit les statistiques qui représentent le compte de nombre de buts et de passes complétées dans un tournoi de 16 équipes de football :"
   ]
  },
  {
   "cell_type": "code",
   "execution_count": 65,
   "id": "db003dda",
   "metadata": {},
   "outputs": [
    {
     "data": {
      "text/plain": [
       "<matplotlib.collections.PathCollection at 0x10f1ada50>"
      ]
     },
     "execution_count": 65,
     "metadata": {},
     "output_type": "execute_result"
    },
    {
     "data": {
      "image/png": "[encoded data removed]",
      "text/plain": [
       "<Figure size 640x480 with 1 Axes>"
      ]
     },
     "metadata": {},
     "output_type": "display_data"
    }
   ],
   "source": [
    "passes = [828, 1223, 1082, 1200, 1803, 2427, 911, 2531, 1381, 852, 1461, 606, 1345, 3820, 965, 1043]\n",
    "buts = [4, 4, 4, 5, 3, 10, 5, 6, 2, 2, 6, 1, 5, 12, 5, 2]\n",
    "\n",
    "mpl.scatter(passes, buts)\n",
    "\n",
    "#le paramètre optionnel marker pour marquer les points de différents signes comme '.', 'o', 'x', ..."
   ]
  },
  {
   "cell_type": "markdown",
   "id": "b6b0121b",
   "metadata": {},
   "source": [
    "## Diagramme à barres\n",
    "\n",
    "Pour représenter graphiquement des variables catégorielles avec des barres rectangulaires avec des hauteurs proportionnelles aux valeurs qu'elles représentent on utilise la fonction $bar(cat\\acute{e}gories, valeurs)$.\n",
    "\n",
    "$Exemples$"
   ]
  },
  {
   "cell_type": "code",
   "execution_count": 66,
   "id": "82b876b6",
   "metadata": {},
   "outputs": [
    {
     "data": {
      "text/plain": [
       "<BarContainer object of 7 artists>"
      ]
     },
     "execution_count": 66,
     "metadata": {},
     "output_type": "execute_result"
    },
    {
     "data": {
      "image/png": "[encoded data removed]",
      "text/plain": [
       "<Figure size 640x480 with 1 Axes>"
      ]
     },
     "metadata": {},
     "output_type": "display_data"
    }
   ],
   "source": [
    "articles = ['Lit', 'Armoire', 'Canapé', 'Chaise', 'Bureau', 'Table', 'Tapis']\n",
    "ventes = [4, 3, 6, 15, 2, 4, 10]\n",
    "\n",
    "mpl.bar(articles, ventes)"
   ]
  },
  {
   "cell_type": "code",
   "execution_count": 50,
   "id": "9dd878c1",
   "metadata": {
    "scrolled": false
   },
   "outputs": [
    {
     "data": {
      "text/plain": [
       "Text(0, 0.5, \"nombre d'élèves\")"
      ]
     },
     "execution_count": 50,
     "metadata": {},
     "output_type": "execute_result"
    },
    {
     "data": {
      "image/png": "[encoded data removed]",
      "text/plain": [
       "<Figure size 640x480 with 1 Axes>"
      ]
     },
     "metadata": {},
     "output_type": "display_data"
    }
   ],
   "source": [
    "x = np.random.randint(0,21,100)   #générer 100 notes aléatoires \n",
    "\n",
    "notes = np.unique(x, return_counts=True)[0]     #notes générées \n",
    "\n",
    "comptes = np.unique(x, return_counts=True)[1]   #compter le nombre d'occurrence de chaque note\n",
    "\n",
    "mpl.bar(notes, comptes)\n",
    "mpl.grid()\n",
    "mpl.xlabel('note')\n",
    "mpl.ylabel('nombre d\\'élèves')"
   ]
  },
  {
   "cell_type": "markdown",
   "id": "63b58c29",
   "metadata": {},
   "source": [
    "# TP\n",
    "\n",
    "***Exercice 1***\n",
    "\n",
    "1. Créer une matrice $(10,10)$ de nombres entiers aléatoires;\n",
    "\n",
    "2. Créer une tranche ne contenant que les lignes et colonnes impaires;\n",
    "\n",
    "3. Ajouter $1$ aux éléments pairs;\n",
    "\n",
    "***Exercice 2***\n",
    "\n",
    "1. Créer une fonction $Frobenius(matrice)$ qui renvoie la norme de Frobenius d'une matrice carrée.\n",
    "\n",
    "$$\\|M \\|_{Frobenius} = \\sqrt{ \\sum_{i=1}^{n} \\sum_{j=1}^{n}m_{ij}^2 }$$\n",
    "\n",
    "2. Créer une fonction qui renvoie la transposée d'une matrice carrée.\n",
    "\n",
    "3. Créer une fonction qui renvoie la trace d'une matrice carrée.\n",
    "\n",
    "$$Trace(M) = \\sum_{i=1}^{n} m_{ii} $$\n",
    "\n",
    "4. Vérifier que :\n",
    "\n",
    "$$\\|M \\|_{Frobenius} = \\sqrt {Trace(M^TM)}$$\n",
    "\n",
    "***Exercice 3***\n",
    "\n",
    "1. Représenter sur la même figure les fonctions $sin(x)$, $sin(2x)$ et $sin(3x)$ sur l’intervalle $[-2\\pi, 2\\pi]$.\n",
    "\n",
    "2. Ajouter la représentation de la fonction $\\sum_{i=1}^{3} sin(ix)$.\n",
    "\n",
    "***Exercice 4***\n",
    "\n",
    "1. Construire un tableau $X$ de valeurs de $0$ à $100$ de pas $0,01$.\n",
    "\n",
    "2. Calculer l'image de $X$ par :\n",
    "\n",
    "$$f1(x) = sin(x)(e^{cos(x)}-2cos(4x)-sin^5(x/12))$$\n",
    "\n",
    "et\n",
    "\n",
    "$$f2(x) = cos(x)(e^{cos(x)}-2cos(4x)-sin^5(x/12))$$\n",
    "\n",
    "\n",
    "2. Représenter graphiquement la deuxième image par rapport à la première.\n",
    "\n",
    "\n"
   ]
  },
  {
   "cell_type": "code",
   "execution_count": 114,
   "id": "cae458fe",
   "metadata": {},
   "outputs": [
    {
     "data": {
      "image/png": "[encoded data removed]",
      "text/plain": [
       "<Figure size 640x480 with 1 Axes>"
      ]
     },
     "metadata": {},
     "output_type": "display_data"
    }
   ],
   "source": [
    "x = np.arange(0,100,0.01)\n",
    "\n",
    "y1 = np.sin(x)*(np.exp(np.cos(x))-2*np.cos(4*x)+np.sin(x/12)**5)\n",
    "y2 = np.cos(x)*(np.exp(np.cos(x))-2*np.cos(4*x)+np.sin(x/12)**5)\n",
    "\n",
    "mpl.plot(y1,y2, label='buterfly', color='black')\n",
    "\n",
    "mpl.grid()\n",
    "\n",
    "mpl.legend()   #pour ajouter une légende avec les noms des courbes\n",
    "\n",
    "mpl.show()"
   ]
  }
 ],
 "metadata": {
  "kernelspec": {
   "display_name": "Python 3 (ipykernel)",
   "language": "python",
   "name": "python3"
  },
  "language_info": {
   "codemirror_mode": {
    "name": "ipython",
    "version": 3
   },
   "file_extension": ".py",
   "mimetype": "text/x-python",
   "name": "python",
   "nbconvert_exporter": "python",
   "pygments_lexer": "ipython3",
   "version": "3.11.7"
  }
 },
 "nbformat": 4,
 "nbformat_minor": 5
}
